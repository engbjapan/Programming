{
  "nbformat": 4,
  "nbformat_minor": 0,
  "metadata": {
    "colab": {
      "provenance": [],
      "authorship_tag": "ABX9TyN/bTPX/7qzYxNOJkaDAwjA",
      "include_colab_link": true
    },
    "kernelspec": {
      "name": "python3",
      "display_name": "Python 3"
    },
    "language_info": {
      "name": "python"
    }
  },
  "cells": [
    {
      "cell_type": "markdown",
      "metadata": {
        "id": "view-in-github",
        "colab_type": "text"
      },
      "source": [
        "<a href=\"https://colab.research.google.com/github/engbJapan/Programming/blob/main/ColabTecks/PutFromDriveShareFileLandS.ipynb\" target=\"_parent\"><img src=\"https://colab.research.google.com/assets/colab-badge.svg\" alt=\"Open In Colab\"/></a>"
      ]
    },
    {
      "cell_type": "code",
      "execution_count": null,
      "metadata": {
        "id": "I6_G1V0abovE"
      },
      "outputs": [],
      "source": [
        "# @title **GoogleDrive共有ファイルのスモール、ラージ両方取ってくる**\n",
        "def GoogleDrive共有ファイル取得(\n",
        "    ワークDIR=\"/content\" # @param  \n",
        "    ,\n",
        "    共有ファイルID=\"10_wfp1U4rMzc20eiGNrdQa9V2S9ByJwV\" # @param\n",
        "    ):\n",
        "    import subprocess as iプロセス実行\n",
        "    from shlex import split as iシェル区切り列作成\n",
        "    get_ipython().system_raw(f\"rm -f {ワークDIR}/_cmds\")\n",
        "    コマンドs=f\"\"\"\n",
        "    ConTentPath={ワークDIR}\n",
        "    FILE_ID=\"{共有ファイルID}\" \n",
        "    FILE_NAMES=`wget -O - -qq https://drive.google.com/file/d/$FILE_ID/view | grep '<title>' |perl -pe 's/^.+<title>([^ ]+)[ ]+.*$/${1}/g'`\n",
        "    wget -O $ConTentPath/viewhtml -qq \"https://drive.google.com/uc?export=download&id=$FILE_ID\"\n",
        "    if [ $(grep  'DOCTYPE' $ConTentPath/viewhtml | wc -l) -eq 0 ]; then\n",
        "      echo \"スモールファイル:$ConTentPath/$FILE_NAMES\"\n",
        "      mv $ConTentPath/viewhtml $ConTentPath/$FILE_NAMES\n",
        "    else\n",
        "      echo \"ラージファイル:$ConTentPath/$FILE_NAMES\"\n",
        "      printf \"wget  -O $ConTentPath/$FILE_NAMES -qq 'https://drive.google.com/uc?export=download&id=$FILE_ID&confirm=t&\" >  $ConTentPath/FILE_ID_WGET_CMD \n",
        "      cat $ConTentPath/viewhtml | perl -pe 's/\\r*\\n//g' | perl -pe 's/^.*(uuid\\=[^\\\"]+)\\\".*$/$1/g' >> $ConTentPath/FILE_ID_WGET_CMD \n",
        "      printf \"&uc-download-link=Download&nbsp;anyway'\" >> \"$ConTentPath/FILE_ID_WGET_CMD\" \n",
        "      /bin/bash $ConTentPath/FILE_ID_WGET_CMD\n",
        "    fi\n",
        "    \"\"\"\n",
        "    #コマンドファイル作成\n",
        "    with open(f\"{ワークDIR}/_cmds\",\"w\") as ファイルOBJ :\n",
        "      ファイルOBJ.write(コマンドs)               #コマンド書き込み\n",
        "      ファイルOBJ.flush()                        #ファイルのフラッシュと書き込み\n",
        "      ファイルOBJ.close()\n",
        "\n",
        "    get_ipython().system_raw(f\"chmod 777 {ワークDIR}/_cmds\")\n",
        "    # bashコマンド実行\n",
        "    プロセス=iプロセス実行.Popen(iシェル区切り列作成(\n",
        "          f\"/bin/bash {ワークDIR}/_cmds\")\n",
        "          ,stdout=iプロセス実行.PIPE) \n",
        "\n",
        "    実行結果 , _ = プロセス.communicate()\n",
        "\n",
        "    return (実行結果.decode(\"utf-8\"),\n",
        "            プロセス.stderr.decode(\"utf-8\") if プロセス.stderr!=None else \"\",\n",
        "            プロセス)\n",
        "\n",
        "##以下のコメント外して実行します\n",
        "#GoogleDrive共有ファイル取得()"
      ]
    }
  ]
}