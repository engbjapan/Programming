{
  "nbformat": 4,
  "nbformat_minor": 0,
  "metadata": {
    "colab": {
      "provenance": [],
      "collapsed_sections": [],
      "authorship_tag": "ABX9TyP0+21hvbCXF0r2ezK0DoUk",
      "include_colab_link": true
    },
    "kernelspec": {
      "name": "python3",
      "display_name": "Python 3"
    },
    "language_info": {
      "name": "python"
    }
  },
  "cells": [
    {
      "cell_type": "markdown",
      "metadata": {
        "id": "view-in-github",
        "colab_type": "text"
      },
      "source": [
        "<a href=\"https://colab.research.google.com/github/engbJapan/Programming/blob/main/ColabTecks/TimeZoneLang2Japan.ipynb\" target=\"_parent\"><img src=\"https://colab.research.google.com/assets/colab-badge.svg\" alt=\"Open In Colab\"/></a>"
      ]
    },
    {
      "cell_type": "markdown",
      "source": [
        "# まず、ツール>設定>エディタ>「コード入力時の候補を自動的に表示する」のチェック外して，NBを保存"
      ],
      "metadata": {
        "id": "VdiGA6lTOJG_"
      }
    },
    {
      "cell_type": "code",
      "source": [
        "%%bash\n",
        "ROOTDIRS=/content\n",
        "echo \"日本時間変更開始root\"\n",
        "mv /etc/localtime /etc/localtime.org\n",
        "ln -s /usr/share/zoneinfo/Asia/Tokyo /etc/localtime\n",
        "date\n",
        "echo \"日本時間変更終了root\"\n",
        "echo \"コメントリセット設定ファンクションの定義\"\n",
        "function comsetbkup() {\n",
        " cmmestr=`echo \"${1}\"|perl -pe 's/([\\.]|[\\-]|[\\$]|[\\/]|[\\:]|[\\[]|[\\]][\\(]|[\\)])/\\\\\\\\$1/g'`\n",
        " setstr=$2\n",
        " files=$3\n",
        " backups=$4\n",
        " perl -pi -e \"s/^(${cmmestr}.*)\\$/\\#\\${1}/g\" $files\n",
        " cp $files $backups\n",
        " echo \"${setstr}\" >> $files\n",
        "}\n",
        "echo \"コメントリセット設定ファンクションの定義終了\"\n",
        "echo \"日本語ローケル変更開始root\"\n",
        "\n",
        "apt-get -qq install language-pack-ja\n",
        "cat /etc/locale.gen | egrep '^[^\\#]+.*$'\n",
        "\n",
        "mkdir ${ROOTDIRS}/etc\n",
        "cmmeStr=\"ja_JP.UTF-8 UTF-8\"\n",
        "comsetbkup \"$cmmeStr\" \"$cmmeStr\" /etc/locale.gen /etc/locale.gen.bak\n",
        " \n",
        "cat /etc/locale.gen | egrep '^[^\\#]+.*$'\n",
        "\n",
        "locale-gen\n",
        "update-locale\n",
        "\n",
        "cmmeStr=\"export LANG=ja_JP.UTF-8\"\n",
        "export LANG=ja_JP.UTF-8\n",
        "comsetbkup \"$cmmeStr\" \"$cmmeStr\" /root/.bashrc ${ROOTDIRS}/.bashrc.root\n",
        "echo \"root/.bashrcリロード開始\"\n",
        "source /root/.bashrc\n",
        "echo \"root/.bashrcリロード終了\"\n"
      ],
      "metadata": {
        "colab": {
          "base_uri": "https://localhost:8080/"
        },
        "id": "iPLv9fIme1FO",
        "outputId": "64c480ea-f8eb-456b-9e12-8679774443eb"
      },
      "execution_count": 1,
      "outputs": [
        {
          "output_type": "stream",
          "name": "stdout",
          "text": [
            "日本時間変更開始root\n",
            "Thu Sep 15 13:51:12 JST 2022\n",
            "日本時間変更終了root\n",
            "コメントリセット設定ファンクションの定義\n",
            "コメントリセット設定ファンクションの定義終了\n",
            "日本語ローケル変更開始root\n",
            "Selecting previously unselected package language-pack-ja-base.\r\n",
            "(Reading database ... \r(Reading database ... 5%\r(Reading database ... 10%\r(Reading database ... 15%\r(Reading database ... 20%\r(Reading database ... 25%\r(Reading database ... 30%\r(Reading database ... 35%\r(Reading database ... 40%\r(Reading database ... 45%\r(Reading database ... 50%\r(Reading database ... 55%\r(Reading database ... 60%\r(Reading database ... 65%\r(Reading database ... 70%\r(Reading database ... 75%\r(Reading database ... 80%\r(Reading database ... 85%\r(Reading database ... 90%\r(Reading database ... 95%\r(Reading database ... 100%\r(Reading database ... 155685 files and directories currently installed.)\r\n",
            "Preparing to unpack .../language-pack-ja-base_1%3a18.04+20180712_all.deb ...\r\n",
            "Unpacking language-pack-ja-base (1:18.04+20180712) ...\r\n",
            "Selecting previously unselected package language-pack-ja.\r\n",
            "Preparing to unpack .../language-pack-ja_1%3a18.04+20190718_all.deb ...\r\n",
            "Unpacking language-pack-ja (1:18.04+20190718) ...\r\n",
            "Replacing files in old package language-pack-ja-base (1:18.04+20180712) ...\r\n",
            "Setting up language-pack-ja (1:18.04+20190718) ...\r\n",
            "Setting up language-pack-ja-base (1:18.04+20180712) ...\r\n",
            "Generating locales (this might take a while)...\r\n",
            "  ja_JP.UTF-8... done\r\n",
            "Generation complete.\r\n",
            "en_US.UTF-8 UTF-8\n",
            "en_US.UTF-8 UTF-8\n",
            "ja_JP.UTF-8 UTF-8\n",
            "Generating locales (this might take a while)...\n",
            "  en_US.UTF-8... done\n",
            "  ja_JP.UTF-8... done\n",
            "Generation complete.\n",
            "root/.bashrcリロード開始\n",
            "root/.bashrcリロード終了\n"
          ]
        }
      ]
    },
    {
      "cell_type": "code",
      "source": [
        "import  os\n",
        "os.environ[\"LANG\"]=\"ja_JP.UTF-8\"\n",
        "!date"
      ],
      "metadata": {
        "colab": {
          "base_uri": "https://localhost:8080/"
        },
        "id": "hqSVtZj9St7a",
        "outputId": "fe21454e-250c-414b-b747-c04a99c5cf3d"
      },
      "execution_count": 4,
      "outputs": [
        {
          "output_type": "stream",
          "name": "stdout",
          "text": [
            "2022年  9月 15日 木曜日 13:53:03 JST\n"
          ]
        }
      ]
    },
    {
      "cell_type": "code",
      "source": [],
      "metadata": {
        "colab": {
          "base_uri": "https://localhost:8080/"
        },
        "id": "zkAx5FMQb4PU",
        "outputId": "749c9248-f1c5-4901-a9bf-d9f0f23fb9ae"
      },
      "execution_count": 7,
      "outputs": [
        {
          "output_type": "stream",
          "name": "stdout",
          "text": [
            "2022年  9月 15日 木曜日 13:42:24 JST\n"
          ]
        }
      ]
    }
  ]
}