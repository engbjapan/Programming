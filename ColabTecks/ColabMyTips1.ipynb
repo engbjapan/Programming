{
  "nbformat": 4,
  "nbformat_minor": 0,
  "metadata": {
    "colab": {
      "provenance": [],
      "authorship_tag": "ABX9TyOBPFIclcvmo0diWBiMipMV",
      "include_colab_link": true
    },
    "kernelspec": {
      "name": "python3",
      "display_name": "Python 3"
    },
    "language_info": {
      "name": "python"
    }
  },
  "cells": [
    {
      "cell_type": "markdown",
      "metadata": {
        "id": "view-in-github",
        "colab_type": "text"
      },
      "source": [
        "<a href=\"https://colab.research.google.com/github/engbJapan/Programming/blob/main/ColabTecks/ColabMyTips1.ipynb\" target=\"_parent\"><img src=\"https://colab.research.google.com/assets/colab-badge.svg\" alt=\"Open In Colab\"/></a>"
      ]
    },
    {
      "cell_type": "markdown",
      "source": [
        "#Ｃｏｌａｂの左側下の＜＞アイコン（コードスニペット）で色々出ます\n"
      ],
      "metadata": {
        "id": "hsxFGgps82XY"
      }
    },
    {
      "cell_type": "code",
      "source": [
        "#これはコードスニペット「display.Javascript to execute JavaScript from Python」の\n",
        "#Ｗｅｂカメラ取得からヒントを得たもの\n",
        "from IPython.display import display, Javascript\n",
        "from google.colab.output import eval_js\n",
        "def セルの出力ＨＴＭＬを取得():\n",
        "  JavaScriptコード = Javascript(\"\"\"\n",
        "\n",
        "    async function 出力エリアのinnerHTML取得する() {\n",
        "      return document.querySelector(\"#output-area\").innerHTML;\n",
        "    }\n",
        "\n",
        "    \"\"\")\n",
        "  display(JavaScriptコード)\n",
        "  取得したHTML = eval_js(\"出力エリアのinnerHTML取得する()\")\n",
        "  return 取得したHTML"
      ],
      "metadata": {
        "id": "6FmYeynL4L2W"
      },
      "execution_count": 2,
      "outputs": []
    },
    {
      "cell_type": "code",
      "source": [
        "!ls -la\n",
        "\n",
        "print(f\"\"\"\n",
        "取得した上記出力のinnrHTMLが以下です\n",
        "************************************************\n",
        "{セルの出力ＨＴＭＬを取得()}\n",
        "************************************************\n",
        "\"\"\")"
      ],
      "metadata": {
        "colab": {
          "base_uri": "https://localhost:8080/",
          "height": 295
        },
        "id": "eXFeTPey8eXm",
        "outputId": "691d1da9-dde8-4ff7-bd19-0d95b63e7694"
      },
      "execution_count": 3,
      "outputs": [
        {
          "output_type": "stream",
          "name": "stdout",
          "text": [
            "total 16\n",
            "drwxr-xr-x 1 root root 4096 Aug 31 13:47 .\n",
            "drwxr-xr-x 1 root root 4096 Sep  8 02:36 ..\n",
            "drwxr-xr-x 4 root root 4096 Aug 31 13:47 .config\n",
            "drwxr-xr-x 1 root root 4096 Aug 31 13:47 sample_data\n"
          ]
        },
        {
          "output_type": "display_data",
          "data": {
            "text/plain": [
              "<IPython.core.display.Javascript object>"
            ],
            "application/javascript": [
              "\n",
              "\n",
              "    async function 出力エリアのinnerHTML取得する() {\n",
              "      return document.querySelector(\"#output-area\").innerHTML;\n",
              "    }\n",
              "\n",
              "    "
            ]
          },
          "metadata": {}
        },
        {
          "output_type": "stream",
          "name": "stdout",
          "text": [
            "\n",
            "取得した上記出力のinnrHTMLが以下です\n",
            "************************************************\n",
            "<span id=\"output-header\"> </span><div id=\"output-body\"><div class=\"stream output-id-1\"><div class=\"output_subarea output_text\"><pre>total 16\n",
            "drwxr-xr-x 1 root root 4096 Aug 31 13:47 .\n",
            "drwxr-xr-x 1 root root 4096 Sep  8 02:36 ..\n",
            "drwxr-xr-x 4 root root 4096 Aug 31 13:47 .config\n",
            "drwxr-xr-x 1 root root 4096 Aug 31 13:47 sample_data\n",
            "</pre></div></div></div><span id=\"output-footer\"></span>\n",
            "************************************************\n",
            "\n"
          ]
        }
      ]
    }
  ]
}