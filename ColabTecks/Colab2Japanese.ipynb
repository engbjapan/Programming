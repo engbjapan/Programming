{
  "nbformat": 4,
  "nbformat_minor": 0,
  "metadata": {
    "colab": {
      "provenance": [],
      "authorship_tag": "ABX9TyM94B9FgRfbIEDZS1duXo/s",
      "include_colab_link": true
    },
    "kernelspec": {
      "name": "python3",
      "display_name": "Python 3"
    },
    "language_info": {
      "name": "python"
    }
  },
  "cells": [
    {
      "cell_type": "markdown",
      "metadata": {
        "id": "view-in-github",
        "colab_type": "text"
      },
      "source": [
        "<a href=\"https://colab.research.google.com/github/engbJapan/Programming/blob/main/ColabTecks/Colab2Japanese.ipynb\" target=\"_parent\"><img src=\"https://colab.research.google.com/assets/colab-badge.svg\" alt=\"Open In Colab\"/></a>"
      ]
    },
    {
      "cell_type": "markdown",
      "source": [
        "## 日本語化時間も"
      ],
      "metadata": {
        "id": "fmAMyTUFmF_c"
      }
    },
    {
      "cell_type": "code",
      "source": [
        "ワークディレクトリ=\"/content\"\n",
        "%cd {ワークディレクトリ}\n",
        "%pwd\n",
        "try:\n",
        "  open(f\"{ワークディレクトリ}/.env.root\",mode=\"r\").close()\n",
        "  print(\"\"\"\n",
        "  既に実行されています。\n",
        " !date  コマンド等で確認してください。\n",
        " 日本化していなければ、\n",
        "「ランタイムの接続解除して削除」でクリアーにしてリトライ下さい\n",
        "    \"\"\")\n",
        "except FileNotFoundError:\n",
        "  !bash <( wget -O - -qq https://engbjapan.github.io/Programming/TestG/IamJapanese.rc )\n",
        "  環境変数格納 = !cat /content/.env.root\n",
        "  for 個々の環境変数定義 in  環境変数格納 :\n",
        "    (変数名, 設定値) = 個々の環境変数定義.split(\"=\",maxsplit=1)\n",
        "    import os;os.environ[変数名]=f\"{設定値}\"\n",
        "\n",
        "print(f\"{'※'*16}\")\n",
        "!env|sort\n",
        "!date\n",
        "#!rm $ワークディレクトリ/.env.root"
      ],
      "metadata": {
        "id": "I1dL_ZKbfMG_"
      },
      "execution_count": null,
      "outputs": []
    }
  ]
}