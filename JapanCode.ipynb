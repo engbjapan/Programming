{
  "nbformat": 4,
  "nbformat_minor": 0,
  "metadata": {
    "colab": {
      "provenance": [],
      "authorship_tag": "ABX9TyNeAO//iyHEjZ7vkjbh1LB0",
      "include_colab_link": true
    },
    "kernelspec": {
      "name": "python3",
      "display_name": "Python 3"
    },
    "language_info": {
      "name": "python"
    }
  },
  "cells": [
    {
      "cell_type": "markdown",
      "metadata": {
        "id": "view-in-github",
        "colab_type": "text"
      },
      "source": [
        "<a href=\"https://colab.research.google.com/github/engbJapan/Programming/blob/main/JapanCode.ipynb\" target=\"_parent\"><img src=\"https://colab.research.google.com/assets/colab-badge.svg\" alt=\"Open In Colab\"/></a>"
      ]
    },
    {
      "cell_type": "markdown",
      "source": [
        "# 日本語記法とクラスのselfも日本語にしました\n",
        "\n",
        "以下のコードスニペットを変えました。機能も追加です\n",
        "https://colab.research.google.com/notebooks/snippets/advanced_outputs.ipynb#scrollTo=3DOH-aFJQBho"
      ],
      "metadata": {
        "id": "dCWgpq5aSmwR"
      }
    },
    {
      "cell_type": "code",
      "execution_count": null,
      "metadata": {
        "id": "QpAfovC1P8Y9",
        "colab": {
          "base_uri": "https://localhost:8080/",
          "height": 61
        },
        "outputId": "002da7f8-4bc4-4ee7-9b23-85104df5c1b3"
      },
      "outputs": [
        {
          "output_type": "execute_result",
          "data": {
            "text/plain": [
              "<__main__.私のButtonクラス at 0x7fda90d3e190>"
            ],
            "text/html": [
              "\n",
              "      <button id=\"私のボタンは-3cf0b709-2a0d-4542-a801-b582b9e99f88\">押してみて</button>\n",
              "      <script>\n",
              "          document.querySelector(\"#私のボタンは-3cf0b709-2a0d-4542-a801-b582b9e99f88\").onclick = (e) => {\n",
              "            google.colab.kernel.invokeFunction(    // 2)紐づけたコールバック関数をJavascriptからコール\n",
              "              '私のボタンは-3cf0b709-2a0d-4542-a801-b582b9e99f88'          \n",
              "              , ['なぜ？？']\n",
              "              , {})           \n",
              "            e.preventDefault();                    //クリックイベントを平和に処置\n",
              "          };\n",
              "      </script>\n",
              "    "
            ]
          },
          "metadata": {},
          "execution_count": 17
        },
        {
          "output_type": "stream",
          "name": "stdout",
          "text": [
            "なぜ？？\n"
          ]
        }
      ],
      "source": [
        "import IPython,uuid\n",
        "from google.colab import output\n",
        "#ここで、組み込み関数から何から使うものを日本語変数に紐づけます\n",
        "表示=print;Javascriptから呼び返す関数を紐づける=output.register_callback;文字列にする=str;物体=object\n",
        "\n",
        "class 私のButtonクラス(物体): \n",
        "  def __init__(私自身の, ボタンに表示する文字, 呼び返すPython関数): #コンストラクター\n",
        "    私自身の.ボタンに表示する文字 = ボタンに表示する文字\n",
        "    私自身の.呼び返すPython関数 = 呼び返すPython関数\n",
        "\n",
        "  def _repr_html_(私自身の): # _repr_html_　はHTMLを返すお決まりのメソッド名称\n",
        "    HTMLの中のボタンID=f\"私のボタンは-{文字列にする( uuid.uuid4() )}\" # このuuid.uuid4()でランダムIDを作成\n",
        "    Javascriptから呼び返す関数を紐づける(\n",
        "        HTMLの中のボタンID, \n",
        "        私自身の.呼び返すPython関数) \n",
        "    実際に押されて返す文字=\"なぜ？？\"\n",
        "    実際に押されて返す文字=\"こっちからは指定しないよ\" #これをコメントにすると変わります\n",
        "    return f\"\"\"\n",
        "      <button id=\"{HTMLの中のボタンID}\">{私自身の.ボタンに表示する文字}</button>\n",
        "      <script>\n",
        "          document.querySelector(\"#{HTMLの中のボタンID}\").onclick = (e) => {{\n",
        "            google.colab.kernel.invokeFunction(    // 2)紐づけたコールバック関数をJavascriptからコール\n",
        "              '{HTMLの中のボタンID}'          \n",
        "              {\", ['\"+実際に押されて返す文字+\"']\" if 実際に押されて返す文字!=\"こっちからは指定しないよ\" \n",
        "                                                  else \",[]\"}\n",
        "              , {{}})           \n",
        "            e.preventDefault();                    //クリックイベントを平和に処置\n",
        "          }};\n",
        "      </script>\n",
        "    \"\"\"\n",
        "\n",
        "def 何かするPython関数です(表示する文字=\"押したね❢❢\"):\n",
        "  表示(f\"{表示する文字}\")\n",
        "\n",
        "私のButtonクラス('押してみて', 何かするPython関数です)"
      ]
    }
  ]
}