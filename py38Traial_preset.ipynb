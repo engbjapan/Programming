{
  "cells": [
    {
      "cell_type": "markdown",
      "metadata": {
        "id": "view-in-github",
        "colab_type": "text"
      },
      "source": [
        "<a href=\"https://colab.research.google.com/github/engbJapan/Programming/blob/main/py38Traial_preset.ipynb\" target=\"_parent\"><img src=\"https://colab.research.google.com/assets/colab-badge.svg\" alt=\"Open In Colab\"/></a>"
      ]
    },
    {
      "cell_type": "markdown",
      "source": [
        "#**事前準備（これは必須）**\n",
        "参考にして、苦しんだりラッキーだったり。。。\n",
        "\n",
        "Colabのファイル名持ってくる：\n",
        "\n",
        "https://stackoverflow.com/questions/61901628/it-is-possible-to-assign-the-google-colab-notebook-name-to-a-python-variable-in\n",
        "\n",
        "Colabのカーネル変更python3.8へでも結局anaconda使いでColabの豊富なモジュールが使えないのです：\n",
        "\n",
        "https://zenn.dev/tk42/articles/92e34bb8910fd9\n",
        "https://stackoverflow.com/questions/60775160/install-python-3-8-kernel-in-google-colaboratory/71511943#71511943\n",
        "https://gist.github.com/ngrislain/c3ba6f687c64ce31adc6b0dff1b26d6a\n",
        "\n",
        "Colabは本当に3.8にすること厳しいのですと言ってますか？：\n",
        "\n",
        "https://github.com/googlecolab/colabtools/issues/1880#issuecomment-786682747\n",
        "\n",
        "\n",
        "Perl oneliner：\n",
        "\n",
        "http://www.redout.net/data/oneliner.html\n",
        "\n",
        "pip version指定:\n",
        "\n",
        "https://zenn.dev/wtkn25/articles/python-pip-install-version\n",
        "\n",
        "***これを真似るに求める人となりの１０の項目***\n",
        "\n",
        "\n",
        "1.   時間がある,Colabのディスクスペースが30GB以上空きがある\n",
        "2.   ColabのPython3.7に困っているが、Colabの豊富なモジュールが好き\n",
        "3.   linux(UNIX)のオペレーション、特にbashとパイプに違和感が無い\n",
        "4.   正規表現（拡張正規表現）の基本的なことに違和感が無い\n",
        "5.   試したり、自学しか出来ない。\n",
        "6.   決まり事を持っていない。（決まったやり方に囚われていない）\n",
        "7.   出来ればやり方にこだわらない。\n",
        "8.   失敗して更に追及できる\n",
        "9.   人のせいにしないし、人に振らない\n",
        "10.  そんな自分が好き\n",
        "\n",
        "***では、納得して（妥協してでも）始めましょう***\n",
        "\n",
        "**以下の説明とスクリプトをColabにぶち込んでください（コピペ推奨）**\n",
        "\n",
        "```python\n",
        "# まず、ランタイムversionを確認してください\n",
        "import sys\n",
        "print(sys.version)\n",
        "!python --version\n",
        "##あなたのnotebookのファイル名を/content/ENGBJAPANBNAMEにセットし表示します\n",
        "#/content/ENGBJAPANBNAMEは、notebookファイルのカーネル設定メタデータの確認、変更に使います。\n",
        "# 1 Googleドライブのマウント\n",
        "from google.colab import drive\n",
        "drive.mount('/content/drive')\n",
        "# 2 あなたのnotebookのファイル名を/content/ENGBJAPANBNAMEにセットし表示します\n",
        "!printf \"from requests import get\\nfilename = get('http://172.28.0.2:9000/api/sessions').json()[0]['name']\\nprint(filename)\\nquit()\\n\" \\\n",
        " |python - \\\n",
        "  | tee  /content/ENGBJAPANBNAME\n",
        "\n",
        "!cat /content/ENGBJAPANBNAME\n",
        "\n",
        "## 3 NoteBook ファイルのカーネル情報確認\n",
        "!perl -pe 's/^.+(\\\"kernelspec\\\"\\:[^\\}]+\\}).*$/${1}/g' \"/content/drive/MyDrive/Colab Notebooks/`cat /content/ENGBJAPANBNAME|head -1`\"\n",
        "\n",
        "### 3.1 出力が残念な事に「\"kernelspec\":{\"display_name\":\"Python 3.8\",\"name\":\"engbjapanpython3.8\"}」ではない時にはnotebookを変更します。\n",
        "#以下のコードで書き換えてくれます\n",
        "!perl -pi -e 's/^(.+\\\"kernelspec\\\"\\:[^\\{]*\\{)([^\\}]+)(\\}.*)$/${1}\\\"display_name\\\":\\\"Python 3.8\\\",\\\"name\\\":\\\"engbjapanpython3\\.8\\\"${3}/g' \\\n",
        "   \"/content/drive/MyDrive/Colab Notebooks/`cat /content/ENGBJAPANBNAME|head -1`\"\n",
        "\n",
        "### 3.2 そして、ブラウザでページをリロードしてください多分以下のメッセージが出ます\n",
        "\"\"\"\n",
        "”ランタイム「engbjapanpython3.8」は認識されていません。デフォルトの「python3」に接続します”\n",
        "\n",
        "これは私の目的に正しい事なのでメッセージを✖閉じしてください。\n",
        "\"\"\"\n",
        "```\n",
        "\n",
        "これで事前準備が整いました。"
      ],
      "metadata": {
        "id": "JmgdKK0vIsEf"
      }
    },
    {
      "cell_type": "code",
      "source": [
        "# まず、ランタイムversionを確認してください\n",
        "import sys\n",
        "print(sys.version)\n",
        "!python --version"
      ],
      "metadata": {
        "colab": {
          "base_uri": "https://localhost:8080/"
        },
        "id": "PNbkvnCGm2ZR",
        "outputId": "fc581f7a-cc48-4194-bf87-15cd952b490c"
      },
      "execution_count": null,
      "outputs": [
        {
          "output_type": "stream",
          "name": "stdout",
          "text": [
            "3.7.13 (default, Apr 24 2022, 01:04:09) \n",
            "[GCC 7.5.0]\n",
            "Python 3.8.13\n"
          ]
        }
      ]
    },
    {
      "cell_type": "code",
      "source": [
        "## あなたのnotebookのファイル名を/content/ENGBJAPANBNAMEにセットし表示します\n",
        "# /content/ENGBJAPANBNAMEは、notebookファイルのカーネル設定メタデータの確認、変更に使います。\n",
        "# 1 Googleドライブのマウント\n",
        "from google.colab import drive\n",
        "drive.mount('/content/drive')\n",
        "# 2 あなたのnotebookのファイル名を/content/ENGBJAPANBNAMEにセットし表示します\n",
        "!printf \"from requests import get\\nfilename = get('http://172.28.0.2:9000/api/sessions').json()[0]['name']\\nprint(filename)\\nquit()\\n\" \\\n",
        " |python - \\\n",
        "  | tee  /content/ENGBJAPANBNAME\n",
        "\n",
        "!cat /content/ENGBJAPANBNAME\n"
      ],
      "metadata": {
        "colab": {
          "base_uri": "https://localhost:8080/"
        },
        "id": "wb8doZX6Li2O",
        "outputId": "530b5641-c7a4-4b54-fdec-bf6325e4241b"
      },
      "execution_count": null,
      "outputs": [
        {
          "output_type": "stream",
          "name": "stdout",
          "text": [
            "Drive already mounted at /content/drive; to attempt to forcibly remount, call drive.mount(\"/content/drive\", force_remount=True).\n",
            "py38Traial-preset.ipynb\n",
            "py38Traial-preset.ipynb\n"
          ]
        }
      ]
    },
    {
      "cell_type": "code",
      "source": [
        "## 3 NoteBook ファイルのカーネル情報確認\n",
        "!perl -pe 's/^.+(\\\"kernelspec\\\"\\:[^\\}]+\\}).*$/${1}/g' \"/content/drive/MyDrive/Colab Notebooks/`cat /content/ENGBJAPANBNAME|head -1`\"\n",
        "\n",
        "### 3.1 出力が残念な事に「\"kernelspec\":{\"display_name\":\"Python 3.8\",\"name\":\"engbjapanpython3.8\"}」ではない時にはnotebookを変更します。\n",
        "# 以下のコードで書き換えてくれます\n",
        "!perl -pi -e 's/^(.+\\\"kernelspec\\\"\\:[^\\{]*\\{)([^\\}]+)(\\}.*)$/${1}\\\"display_name\\\":\\\"Python 3.8\\\",\\\"name\\\":\\\"engbjapanpython3\\.8\\\"${3}/g' \\\n",
        "   \"/content/drive/MyDrive/Colab Notebooks/`cat /content/ENGBJAPANBNAME|head -1`\""
      ],
      "metadata": {
        "id": "qKygrIx3LzLl",
        "colab": {
          "base_uri": "https://localhost:8080/"
        },
        "outputId": "29890e51-b2d7-4d36-d71d-e6591a7acb0e"
      },
      "execution_count": null,
      "outputs": [
        {
          "output_type": "stream",
          "name": "stdout",
          "text": [
            "\"kernelspec\":{\"display_name\":\"Python 3.8\",\"name\":\"engbjapanpython3.8\"}"
          ]
        }
      ]
    },
    {
      "cell_type": "code",
      "source": [
        "!perl -pe 's/^.+(\\\"kernelspec\\\"\\:[^\\}]+\\}).*$/${1}/g' \"/content/drive/MyDrive/Colab Notebooks/`cat /content/ENGBJAPANBNAME`\""
      ],
      "metadata": {
        "id": "Vj-7EHjlky4L",
        "colab": {
          "base_uri": "https://localhost:8080/"
        },
        "outputId": "11217b20-90ff-4b7a-a334-e2bf983009ea"
      },
      "execution_count": null,
      "outputs": [
        {
          "output_type": "stream",
          "name": "stdout",
          "text": [
            "\"kernelspec\":{\"display_name\":\"Python 3.8\",\"name\":\"engbjapanpython3.8\"}"
          ]
        }
      ]
    },
    {
      "cell_type": "markdown",
      "source": [
        "# Colabの豊富なモジュールを生かしてPython3.8にし、消えないgoogleドライブに退避\n",
        "\n",
        "***ColabランタイムをPython3.8にする為に、googleドライブにPython3.8としたライブラリ（モジュール）退避し、Python3.8をデフォルトpythonとしてColabランタイムを起動するステップを実行しましょう！***\n",
        "\n",
        "ステップ５～８は一度実施すれば良いのです。\n",
        "\n",
        "（これが最も時間を要するステップで、豊富なモジュールをpython3.8で使える用にしてgoogleドライブに退避する事が本編の最終目的です。このステップはColabの実行時間で約1時間半を要しました。。。）\n",
        "\n",
        "```python\n",
        "# 1 ここから#2までは一気に通して良いです\n",
        "!printf \"python3.8設定起動ステップその1\\n\"\n",
        "from google.colab import drive\n",
        "drive.mount('/content/drive')\n",
        "# 2 数分待つこと\n",
        "!printf \"python3.8設定起動ステップその2\\n\"\n",
        "!sudo apt-get install -yf python3.8\n",
        "!sudo apt-get install -yf python3-pip\n",
        "############\n",
        "# 3 python3.8のinstall確認\n",
        "!printf \"python3.8設定起動ステップその3\\n\"\n",
        "!python3.8 --version\n",
        "############\n",
        "# 4 python3.8でpipのupgrade,CMake\n",
        "!printf \"python3.8設定起動ステップその4\\n\"\n",
        "!python3.8 -m pip install --upgrade pip\n",
        "!python3.8 -m pip install --upgrade CMake\n",
        "\n",
        "############\n",
        "# 5 Python3.7のgoogle*モジュールをPython3.8/dist-packages にシムリンクで作成\n",
        "!printf \"python3.8設定起動ステップその5\\n\"\n",
        "!ls -d /usr/local/lib/python3.7/dist-packages/google* \\\n",
        "  | perl -pe 's/^(.+)$/sudo ln -sf ${1} \\/usr\\/local\\/lib\\/python3.8\\/dist-packages\\//g' \\\n",
        "    |/bin/bash -\n",
        "\n",
        "###########\n",
        "# 6 python3.8 lib の実態のコピー用ディレクトリ作成\n",
        "!printf \"python3.8設定起動ステップその6\\n\"\n",
        "!sudo rm -fr /content/drive/MyDrive/Colab\\ Notebooks/engbjapanlibpy38/\n",
        "!sudo mkdir /content/drive/MyDrive/Colab\\ Notebooks/engbjapanlibpy38/\n",
        "###########(以下は１，２時間は覚悟\n",
        "###########でも、以下で寝てしまって,セッション切れててzipp迄終わっていたら以下は不要でステップ１から施行し、ステップ8へ進みます)####\n",
        "# 7 pyton3.7のpip list(google*を除いた)をpython3.8でpip installしてドライブにCOPY退避\n",
        "!printf \"python3.8設定起動ステップその7\\n\"\n",
        "!/usr/bin/python3.7 -m pip list | egrep -v '^(google.*|Package.*|\\--.*)$' \\\n",
        "  | perl -pe 's/^([^\\W]+).*$/python3.8 -m pip install  ${1}/g' \\\n",
        "     | /bin/bash -\n",
        "!cp -afr /usr/local/lib/python3.8/dist-packages /content/drive/MyDrive/Colab\\ Notebooks/engbjapanlibpy38/\n",
        "\n",
        "##以下のメッセージが出て終わっていればOK\n",
        "\"\"\"\n",
        "Looking in indexes: https://pypi.org/simple, https://us-python.pkg.dev/colab-wheels/public/simple/\n",
        "Requirement already satisfied: zipp in /usr/local/lib/python3.8/dist-packages (3.8.1)\n",
        "WARNING: Running pip as the 'root' user can result in broken permissions and conflicting behaviour with the system package manager. It is recommended to use a virtual environment instead: https://pip.pypa.io/warnings/venv\n",
        "\"\"\"\n",
        "\n",
        "##########\n",
        "# 8 ファイルがドライブに有るのを確認\n",
        "!printf \"python3.8設定起動ステップその8\\n\"\n",
        "!ls -la /content/drive/MyDrive/Colab\\ Notebooks/engbjapanlibpy38/*\n",
        "\n",
        "##########\n",
        "# 9 python3.8のlibディレクトリを削除しドライブの実態にシムリンク張る\n",
        "!printf \"python3.8設定起動ステップその9\\n\"\n",
        "!sudo rm -fr /usr/local/lib/python3.8\n",
        "!sudo ln -sf  /content/drive/MyDrive/Colab\\ Notebooks/engbjapanlibpy38 /usr/local/lib/python3.8\n",
        "##########\n",
        "# 10 pythonをpython3.8へ/etc/alternatives/python3のシムリンク張替えで行う\n",
        "!printf \"python3.8設定起動ステップその10\\n\"\n",
        "!sudo ln -sf `which python3.8` /etc/alternatives/python3\n",
        "!python --version\n",
        "##########\n",
        "# 11 python3.8のipykernelで\"engbJapan3.8\"というランタイム名をインストールして起動します（これは数分待ちます）\n",
        "!printf \"python3.8設定起動ステップその11\\n\"\n",
        "!python -m ipykernel install --name \"engbjapan3.8\" --user\n",
        "\n",
        "########## ＊＊＊このステップは手操作です＊＊＊\n",
        "# 12 Colab上のランタイムタイプを変更します\n",
        "# Colabメニュー＞ランタイム＞ランタイムタイプの変更＞ランタイムタイプPython3.8選択＞「保存」\n",
        "# すると、Colabが勝手にランタイムを切って再接続します。（数分待ちます！これが無いなら何か上手く行ってないです）\n",
        "##########\n",
        "# 13 Colab上のランタイムversionを確認\n",
        "!printf \"python3.8設定起動ステップその13\\n\"\n",
        "import sys\n",
        "print(sys.version)\n",
        "##########\n",
        "# 14 代入式がエラーとならない事\n",
        "!printf \"python3.8設定起動ステップその14\\n\"\n",
        "(x := 2)\n",
        "#########\n",
        "# 15 ColabのpythonファンクションとJavascript連携がIpython,google.colabモジュールのコラボレーションが出来る事を例として見てください\n",
        "!printf \"python3.8設定起動ステップその15\\n\"\n",
        "import IPython\n",
        "from google.colab import output\n",
        "\n",
        "def Concat(a, b):\n",
        "  # Use display.JSON to transfer a structured result.\n",
        "  return IPython.display.JSON({'result': ' '.join((a, b))})\n",
        "\n",
        "output.register_callback('notebook.Concat', Concat)\n",
        "##＊＊下のコードは次のセルで実行します。＊＊\n",
        "%%javascript\n",
        "(async function() {\n",
        "  const result = await google.colab.kernel.invokeFunction(\n",
        "    'notebook.Concat', // The callback name.\n",
        "    ['hello', 'python3.8!'], // The arguments.\n",
        "    {}); // kwargs\n",
        "  const text = result.data['application/json'];\n",
        "  document.querySelector(\"#output-area\").appendChild(document.createTextNode(text.result));\n",
        "})();\n",
        "\n",
        "#########\n",
        "# 16 対話式ipythonも見た目が前よりいいはずです\n",
        "#以下はコード例です\n",
        "\"\"\"\n",
        "import numpy as np\n",
        "np.arange(10)\n",
        "(x := 3)\n",
        "x\n",
        "quit()\n",
        "\"\"\"\n",
        "!printf \"python3.8設定起動ステップその16\\n\"\n",
        "!ipython\n",
        "\n",
        "```\n"
      ],
      "metadata": {
        "id": "xr0TBU2d_fOf"
      }
    },
    {
      "cell_type": "code",
      "source": [
        "# 1 ここから#2までは一気に通して良いです\n",
        "!printf \"python3.8設定起動ステップその1\\n\"\n",
        "from google.colab import drive\n",
        "drive.mount('/content/drive')\n",
        "# 2 数分待つこと\n",
        "!printf \"python3.8設定起動ステップその2\\n\"\n",
        "!sudo apt-get install -yf python3.8\n",
        "!sudo apt-get install -yf python3-pip\n",
        "############\n",
        "# 3 python3.8のinstall確認\n",
        "!printf \"python3.8設定起動ステップその3\\n\"\n",
        "!python3.8 --version\n",
        "############\n",
        "# 4 python3.8でpipのupgrade,CMake\n",
        "!printf \"python3.8設定起動ステップその4\\n\"\n",
        "!python3.8 -m pip install --upgrade pip\n",
        "!python3.8 -m pip install --upgrade CMake\n"
      ],
      "metadata": {
        "id": "F1Pk7H0CMcJI"
      },
      "execution_count": null,
      "outputs": []
    },
    {
      "cell_type": "code",
      "source": [
        "# 5 Python3.7のgoogle*モジュールをPython3.8/dist-packages にシムリンクで作成\n",
        "!printf \"python3.8設定起動ステップその5\\n\"\n",
        "!ls -d /usr/local/lib/python3.7/dist-packages/google* \\\n",
        "  | perl -pe 's/^(.+)$/sudo ln -sf ${1} \\/usr\\/local\\/lib\\/python3.8\\/dist-packages\\//g' \\\n",
        "    |/bin/bash -"
      ],
      "metadata": {
        "colab": {
          "base_uri": "https://localhost:8080/"
        },
        "id": "FLvqh1pJM3Sd",
        "outputId": "637c9984-0f7a-4b9f-f110-f45bcf29c33a"
      },
      "execution_count": null,
      "outputs": [
        {
          "output_type": "stream",
          "name": "stdout",
          "text": [
            "python3.8設定起動ステップその5\n"
          ]
        }
      ]
    },
    {
      "cell_type": "code",
      "source": [
        "# 6 python3.8 lib の実態のコピー用ディレクトリ作成\n",
        "!printf \"python3.8設定起動ステップその6\\n\"\n",
        "!sudo rm -fr /content/drive/MyDrive/Colab\\ Notebooks/engbjapanlibpy38/\n",
        "!mkdir /content/drive/MyDrive/Colab\\ Notebooks/engbjapanlibpy38/"
      ],
      "metadata": {
        "colab": {
          "base_uri": "https://localhost:8080/"
        },
        "id": "wTOX-XHPNG0H",
        "outputId": "a7038db4-9552-43ee-90b9-8d1347b08f80"
      },
      "execution_count": null,
      "outputs": [
        {
          "output_type": "stream",
          "name": "stdout",
          "text": [
            "python3.8設定起動ステップその6\n"
          ]
        }
      ]
    },
    {
      "cell_type": "code",
      "source": [
        "########### (以下は１，２時間は覚悟\n",
        "########### でも、以下で寝てしまって,セッション切れててzipp迄終わっていたら以下は不要でステップ１から施行し、ステップ8へ進みます)####\n",
        "# 7 pyton3.7のpip list(google*を除いた)をpython3.8でpip installしてドライブにCOPY退避\n",
        "!printf \"python3.8設定起動ステップその7\\n\"\n",
        "!/usr/bin/python3.7 -m pip list | egrep -v '^(google.*|Package.*|\\--.*)$' \\\n",
        "  | perl -pe 's/^([^\\W]+).*$/python3.8 -m pip install  ${1}/g' \\\n",
        "     | /bin/bash -\n",
        "!cp -afr /usr/local/lib/python3.8/dist-packages /content/drive/MyDrive/Colab\\ Notebooks/engbjapanlibpy38/\n"
      ],
      "metadata": {
        "id": "bSbHDD73TdLT"
      },
      "execution_count": null,
      "outputs": []
    },
    {
      "cell_type": "code",
      "source": [
        "##########\n",
        "# 8 ファイルがドライブに有るのを確認\n",
        "!printf \"python3.8設定起動ステップその8\\n\"\n",
        "!ls -la /content/drive/MyDrive/Colab\\ Notebooks/engbjapanlibpy38/*"
      ],
      "metadata": {
        "id": "P9PNQeB8iu4F"
      },
      "execution_count": null,
      "outputs": []
    },
    {
      "cell_type": "code",
      "source": [
        "##########\n",
        "# 9 python3.8のlibディレクトリを削除しドライブの実態にシムリンク張る\n",
        "!printf \"python3.8設定起動ステップその9\\n\"\n",
        "!sudo rm -fr /usr/local/lib/python3.8\n",
        "!sudo ln -sf  /content/drive/MyDrive/Colab\\ Notebooks/engbjapanlibpy38 /usr/local/lib/python3.8\n",
        "##########\n",
        "# 10 pythonをpython3.8へ/etc/alternatives/python3のシムリンク張替えで行う\n",
        "!printf \"python3.8設定起動ステップその10\\n\"\n",
        "!sudo ln -sf `which python3.8` /etc/alternatives/python3\n",
        "!python --version\n",
        "##########\n",
        "# 11 python3.8のipykernelで\"engbJapan3.8\"というランタイム名をインストールして起動します（これは数分待ちます）\n",
        "!printf \"python3.8設定起動ステップその11\\n\"\n",
        "!python -m ipykernel install --name \"engbjapan3.8\" --user"
      ],
      "metadata": {
        "colab": {
          "base_uri": "https://localhost:8080/"
        },
        "id": "s7WXt6wWi8Rl",
        "outputId": "a02eb9a9-ea56-40d5-b0fa-a1ef91a4bd0e"
      },
      "execution_count": null,
      "outputs": [
        {
          "output_type": "stream",
          "name": "stdout",
          "text": [
            "python3.8設定起動ステップその9\n",
            "python3.8設定起動ステップその10\n",
            "Python 3.8.13\n",
            "python3.8設定起動ステップその11\n",
            "Installed kernelspec engbjapan3.8 in /root/.local/share/jupyter/kernels/engbjapan3.8\n"
          ]
        }
      ]
    }
  ],
  "metadata": {
    "colab": {
      "collapsed_sections": [],
      "name": "py38Traial-preset.ipynb",
      "provenance": [],
      "toc_visible": true,
      "include_colab_link": true
    },
    "kernelspec": {
      "display_name": "Python 3",
      "name": "python3"
    },
    "gpuClass": "standard",
    "language_info": {
      "name": "python"
    }
  },
  "nbformat": 4,
  "nbformat_minor": 0
}
