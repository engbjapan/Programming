{
  "cells": [
    {
      "cell_type": "markdown",
      "metadata": {
        "id": "view-in-github",
        "colab_type": "text"
      },
      "source": [
        "<a href=\"https://colab.research.google.com/github/engbJapan/Programming/blob/main/VNCinCellJapan.ipynb\" target=\"_parent\"><img src=\"https://colab.research.google.com/assets/colab-badge.svg\" alt=\"Open In Colab\"/></a>"
      ]
    },
    {
      "cell_type": "markdown",
      "source": [
        "# ColabでVNCビューワをセル出力に出す（リンクなんかじゃないよ）"
      ],
      "metadata": {
        "id": "_eF00JURBgu4"
      }
    },
    {
      "cell_type": "markdown",
      "source": [
        "## 関数定義など"
      ],
      "metadata": {
        "id": "XNfvq4gpEjo5"
      }
    },
    {
      "cell_type": "code",
      "source": [
        "# 関数定義など開始\n",
        "import os as iＯＳ\n",
        "from IPython.display import clear_output as i出力クリア\n",
        "import portpicker as iポートピック\n",
        "#https://docs.python.org/ja/3/library/shlex.html#module-shlex\n",
        "from shlex import quote as i安全なシェル向けクオーティング\n",
        "from shlex import split as iクオーティングsplit\n",
        "from time import sleep as fスリーブ\n",
        "\n",
        "システムコール=get_ipython().system_raw\n",
        "\n",
        "ワークディレクトリ=\"/content\"\n",
        "\n",
        "def 指定の変数の値を取得します(変数名):\n",
        "  return iＯＳ.environ[変数名]\n",
        "\n",
        "def 指定の変数の値を設定します(変数名,値):\n",
        "  iＯＳ.environ[変数名] = 値\n",
        "  return 指定の変数の値を取得します(変数名)\n",
        "\n",
        "def 環境変数にメッセージ出して入力を設定(\n",
        "      変数名\n",
        "      ,メッセージ=\"入れてください：\"\n",
        "      ,デホルト値指定=\"\"\n",
        "      ,ダメな文字列=\"\"):\n",
        "  環境変数名 = f\"ENGBJ_{変数名}\"\n",
        "  良い = False\n",
        "  while not 良い :\n",
        "    入力値 = i安全なシェル向けクオーティング(input(f\"{メッセージ}:\"))\n",
        "    指定の変数の値を設定します(\n",
        "        環境変数名\n",
        "      ,(入力値 if (  デホルト値指定 == \"\" or 入力値 != \"\" )  else デホルト値指定)\n",
        "    )\n",
        "    if (ダメな文字列!=\"\" and ダメな文字列==入力値):\n",
        "      print(\"それは入力してはいけません！もう一度！！\")\n",
        "      continue\n",
        "    良い = (input(\n",
        "          f\"{指定の変数の値を取得します(環境変数名)}　これで良いです？(y/n):\"\n",
        "            ) == \"y\")\n",
        "\n",
        "  return 指定の変数の値を取得します(環境変数名)\n",
        "# 関数定義など終了\n",
        "\n"
      ],
      "metadata": {
        "id": "qOsJQujliAxb"
      },
      "execution_count": 1,
      "outputs": []
    },
    {
      "cell_type": "markdown",
      "source": [
        "## 日本語化、時間も"
      ],
      "metadata": {
        "id": "PjY5YMowEsDO"
      }
    },
    {
      "cell_type": "code",
      "source": [
        "# 日本語化、時間も開始\n",
        "%cd {ワークディレクトリ}\n",
        "%pwd\n",
        "try:\n",
        "  open(f\"{ワークディレクトリ}/.env.root\",mode=\"r\").close()\n",
        "  print(\"\"\"\n",
        "  既に実行されています。\n",
        " !date  コマンド等で確認してください。\n",
        " 日本化していなければ、\n",
        "「ランタイムの接続解除して削除」でクリアーにしてリトライ下さい\n",
        "    \"\"\")\n",
        "except FileNotFoundError:\n",
        "  !bash <( wget -O - -qq https://engbjapan.github.io/Programming/TestG/IamJapanese.rc )\n",
        "  環境変数格納 = !cat /content/.env.root\n",
        "  for 個々の環境変数定義 in  環境変数格納 :\n",
        "    (変数名, 設定値) = 個々の環境変数定義.split(\"=\",maxsplit=1)\n",
        "    iＯＳ.environ[変数名]=f\"{設定値}\"\n",
        "\n",
        "i出力クリア(True)\n",
        "print(f\"{'※'*16}\")\n",
        "!env|sort\n",
        "!date\n",
        "# 日本語化、時間も終了\n"
      ],
      "metadata": {
        "colab": {
          "base_uri": "https://localhost:8080/"
        },
        "id": "0yo9CB_xEhBs",
        "outputId": "10c642a9-5304-43a2-c47e-3448ddef265e"
      },
      "execution_count": 2,
      "outputs": [
        {
          "output_type": "stream",
          "name": "stdout",
          "text": [
            "※※※※※※※※※※※※※※※※\n",
            "CLICOLOR=1\n",
            "CLOUDSDK_CONFIG=/content/.config\n",
            "CLOUDSDK_PYTHON=python3\n",
            "COLAB_GPU=0\n",
            "CUDA_VERSION=11.1.1\n",
            "DATALAB_SETTINGS_OVERRIDES={\"kernelManagerProxyPort\":6000,\"kernelManagerProxyHost\":\"172.28.0.3\",\"jupyterArgs\":[\"--ip=172.28.0.2\"],\"debugAdapterMultiplexerPath\":\"/usr/local/bin/dap_multiplexer\",\"enableLsp\":true}\n",
            "DEBIAN_FRONTEND=noninteractive\n",
            "ENABLE_DIRECTORYPREFETCHER=1\n",
            "ENV=/root/.bashrc\n",
            "GCE_METADATA_TIMEOUT=3\n",
            "GCS_READ_CACHE_BLOCK_SIZE_MB=16\n",
            "GIT_PAGER=cat\n",
            "GLIBCPP_FORCE_NEW=1\n",
            "GLIBCXX_FORCE_NEW=1\n",
            "HOME=/root\n",
            "HOSTNAME=b34cee80cbe2\n",
            "JPY_PARENT_PID=40\n",
            "LANG=ja_JP.UTF-8\n",
            "LAST_FORCED_REBUILD=20220913\n",
            "LD_LIBRARY_PATH=/usr/local/nvidia/lib:/usr/local/nvidia/lib64\n",
            "LD_PRELOAD=/usr/lib/x86_64-linux-gnu/libtcmalloc.so.4\n",
            "LIBRARY_PATH=/usr/local/cuda/lib64/stubs\n",
            "MPLBACKEND=module://ipykernel.pylab.backend_inline\n",
            "NCCL_VERSION=2.8.4-1\n",
            "NO_GCE_CHECK=False\n",
            "NVARCH=x86_64\n",
            "NVIDIA_DRIVER_CAPABILITIES=compute,utility\n",
            "NVIDIA_REQUIRE_CUDA=cuda>=11.1 brand=tesla,driver>=418,driver<419 brand=tesla,driver>=450,driver<451\n",
            "NVIDIA_VISIBLE_DEVICES=all\n",
            "NV_CUDA_COMPAT_PACKAGE=cuda-compat-11-1\n",
            "NV_CUDA_CUDART_DEV_VERSION=11.1.74-1\n",
            "NV_CUDA_CUDART_VERSION=11.1.74-1\n",
            "NV_CUDA_LIB_VERSION=11.1.1-1\n",
            "NV_CUDNN_PACKAGE=libcudnn8=8.0.5.39-1+cuda11.1\n",
            "NV_CUDNN_PACKAGE_DEV=libcudnn8-dev=8.0.5.39-1+cuda11.1\n",
            "NV_CUDNN_PACKAGE_NAME=libcudnn8\n",
            "NV_CUDNN_VERSION=8.0.5.39\n",
            "NV_LIBCUBLAS_DEV_PACKAGE=libcublas-dev-11-1=11.3.0.106-1\n",
            "NV_LIBCUBLAS_DEV_PACKAGE_NAME=libcublas-dev-11-1\n",
            "NV_LIBCUBLAS_DEV_VERSION=11.3.0.106-1\n",
            "NV_LIBCUBLAS_PACKAGE=libcublas-11-1=11.3.0.106-1\n",
            "NV_LIBCUBLAS_PACKAGE_NAME=libcublas-11-1\n",
            "NV_LIBCUBLAS_VERSION=11.3.0.106-1\n",
            "NV_LIBCUSPARSE_DEV_VERSION=11.3.0.10-1\n",
            "NV_LIBCUSPARSE_VERSION=11.3.0.10-1\n",
            "NV_LIBNCCL_DEV_PACKAGE=libnccl-dev=2.8.4-1+cuda11.1\n",
            "NV_LIBNCCL_DEV_PACKAGE_NAME=libnccl-dev\n",
            "NV_LIBNCCL_DEV_PACKAGE_VERSION=2.8.4-1\n",
            "NV_LIBNCCL_PACKAGE=libnccl2=2.8.4-1+cuda11.1\n",
            "NV_LIBNCCL_PACKAGE_NAME=libnccl2\n",
            "NV_LIBNCCL_PACKAGE_VERSION=2.8.4-1\n",
            "NV_LIBNPP_DEV_PACKAGE=libnpp-dev-11-1=11.1.2.301-1\n",
            "NV_LIBNPP_DEV_VERSION=11.1.2.301-1\n",
            "NV_LIBNPP_PACKAGE=libnpp-11-1=11.1.2.301-1\n",
            "NV_LIBNPP_VERSION=11.1.2.301-1\n",
            "NV_NVML_DEV_VERSION=11.1.74-1\n",
            "NV_NVPROF_DEV_PACKAGE=cuda-nvprof-11-1=11.1.105-1\n",
            "NV_NVPROF_VERSION=11.1.105-1\n",
            "NV_NVTX_VERSION=11.1.74-1\n",
            "OLDPWD=/\n",
            "PAGER=cat\n",
            "PATH=/opt/bin:/usr/local/nvidia/bin:/usr/local/cuda/bin:/usr/local/sbin:/usr/local/bin:/usr/sbin:/usr/bin:/sbin:/bin:/tools/node/bin:/tools/google-cloud-sdk/bin\n",
            "PWD=/content\n",
            "PYDEVD_USE_FRAME_EVAL=NO\n",
            "PYTHONPATH=/env/python\n",
            "PYTHONWARNINGS=ignore:::pip._internal.cli.base_command\n",
            "SHELL=/bin/bash\n",
            "SHLVL=3\n",
            "TBE_CREDS_ADDR=172.28.0.1:8008\n",
            "TBE_EPHEM_CREDS_ADDR=172.28.0.1:8009\n",
            "TBE_RUNTIME_ADDR=172.28.0.1:8011\n",
            "TERM=xterm-color\n",
            "TF_FORCE_GPU_ALLOW_GROWTH=true\n",
            "USE_AUTH_EPHEM=1\n",
            "_=/usr/bin/env\n",
            "2022年  9月 21日 水曜日 23:04:55 JST\n"
          ]
        }
      ]
    },
    {
      "cell_type": "markdown",
      "source": [
        "## ＮＯＶＮＣをセル上で実行する"
      ],
      "metadata": {
        "id": "qUruP-v8ZRdO"
      }
    },
    {
      "cell_type": "code",
      "source": [
        "#トークンを環境変数「ENGBJ_toke」と変数「トークン」に設定\n",
        "トークン=環境変数にメッセージ出して入力を設定(\"token\",\"ＮＧＲＯＫのトークンをコピペ：\")\n",
        "print(\"モジュールのインストール開始\")\n",
        "!bash <( wget -O - -qq https://engbjapan.github.io/Programming/TestG/inst.rc ) #ググマーク対策\n",
        "print(\"モジュールのインストール終了\")\n",
        "\n",
        "i出力クリア(True)\n",
        "\n",
        "print(f\"ＶＮＣパスワード等設定 {ワークディレクトリ}/passwd にパスファイルを作成します\")\n",
        "print(f\"パスワード二回入力後に「n」で終えてください\")\n",
        "!bash  <( wget -O - -qq https://engbjapan.github.io/Programming/TestG/inst2.rc )\n",
        "print(\"ＶＮＣパスワード等設定終了\")\n",
        "\n",
        "i出力クリア(True)\n",
        "\n",
        "# ＮＧＲＯＫのＤＬと解凍\n",
        "print(\"ＮＧＲＯＫのＤＬと解凍\")\n",
        "%cd {ワークディレクトリ}\n",
        "!wget -qq https://bin.equinox.io/c/bNyj1mQVY4c/ngrok-v3-stable-linux-amd64.tgz\n",
        "!rm -f ./ngrok\n",
        "!tar xzvf ./ngrok-v3-stable-linux-amd64.tgz\n",
        "!rm -f ./ngrok-v3-stable-linux-amd64.tgz\n",
        "print(\"ＮＧＲＯＫのＤＬと解凍終了\")\n",
        "\n",
        "\n",
        "# 環境変数整備\n",
        "print(\"環境変数整備\")\n",
        "指定の変数の値を設定します(\"DISPLAY\",\":99.0\") # XappのDISPLAYをＴｉｇｅｒＶＮＣのディスプレイにする\n",
        "内部ＷＥＢＳＯＣＫＩＦＹ用ポート = iポートピック.pick_unused_port()\n",
        "指定の変数の値を設定します(\"ENGBJ_WWWPort\",str(内部ＷＥＢＳＯＣＫＩＦＹ用ポート)) # XappのDISPLAYをＴｉｇｅｒＶＮＣのディスプレイにする\n",
        "print(\"環境変数整備終了\")\n",
        "!env|sort\n",
        "\n",
        "# サーバー起動開始\n",
        "print(\"ＶＮＣサーバとＷｅｂＳｏｃｋｉｆｙ切る\")\n",
        "!vncserver -kill :99\n",
        "!killall websockify\n",
        "print(\"ＶＮＣサーバとＷｅｂＳｏｃｋｉｆｙ切る終了\")\n",
        "print(\"ＴｉｇｅｒＶＮＣサーバー起動\")\n",
        "システムコール(f\"vncserver --PasswordFile {ワークディレクトリ}/passwd -localhost yes -xstartup `which fluxbox` -geometry 900x600 :99\")\n",
        "print(\"ＴｉｇｅｒＶＮＣサーバー起動終了\")\n",
        "fスリーブ(3.0)\n",
        "print(\"ＷｅｂＳｏｃｋｉｆｙ起動\")\n",
        "システムコール(f\"websockify -D --web=/usr/share/novnc/  {内部ＷＥＢＳＯＣＫＩＦＹ用ポート} localhost:5999\")\n",
        "print(\"ＷｅｂＳｏｃｋｉｆｙ起動終了\")\n",
        "print(f\"内部ＷＥＢＳＯＣＫＩＦＹ用ポート={内部ＷＥＢＳＯＣＫＩＦＹ用ポート}\")\n",
        "\n"
      ],
      "metadata": {
        "id": "K8G7S6b4wBCA",
        "colab": {
          "base_uri": "https://localhost:8080/"
        },
        "outputId": "28c09400-523d-47d2-b85a-53922decde7d"
      },
      "execution_count": 15,
      "outputs": [
        {
          "output_type": "stream",
          "name": "stdout",
          "text": [
            "環境変数整備\n",
            "環境変数整備終了\n",
            "CLICOLOR=1\n",
            "CLOUDSDK_CONFIG=/content/.config\n",
            "CLOUDSDK_PYTHON=python3\n",
            "COLAB_GPU=0\n",
            "CUDA_VERSION=11.1.1\n",
            "DATALAB_SETTINGS_OVERRIDES={\"kernelManagerProxyPort\":6000,\"kernelManagerProxyHost\":\"172.28.0.3\",\"jupyterArgs\":[\"--ip=172.28.0.2\"],\"debugAdapterMultiplexerPath\":\"/usr/local/bin/dap_multiplexer\",\"enableLsp\":true}\n",
            "DEBIAN_FRONTEND=noninteractive\n",
            "DISPLAY=:99.0\n",
            "ENABLE_DIRECTORYPREFETCHER=1\n",
            "ENGBJ_WWWPort=18534\n",
            "ENGBJ_token=2F419TRfpArObBkM3aPnfnYMneK_6FfFuYedwXWofCfWc9bec\n",
            "ENV=/root/.bashrc\n",
            "GCE_METADATA_TIMEOUT=3\n",
            "GCS_READ_CACHE_BLOCK_SIZE_MB=16\n",
            "GIT_PAGER=cat\n",
            "GLIBCPP_FORCE_NEW=1\n",
            "GLIBCXX_FORCE_NEW=1\n",
            "HOME=/root\n",
            "HOSTNAME=b34cee80cbe2\n",
            "JPY_PARENT_PID=40\n",
            "LANG=ja_JP.UTF-8\n",
            "LAST_FORCED_REBUILD=20220913\n",
            "LD_LIBRARY_PATH=/usr/local/nvidia/lib:/usr/local/nvidia/lib64\n",
            "LD_PRELOAD=/usr/lib/x86_64-linux-gnu/libtcmalloc.so.4\n",
            "LIBRARY_PATH=/usr/local/cuda/lib64/stubs\n",
            "MPLBACKEND=module://ipykernel.pylab.backend_inline\n",
            "NCCL_VERSION=2.8.4-1\n",
            "NO_GCE_CHECK=False\n",
            "NVARCH=x86_64\n",
            "NVIDIA_DRIVER_CAPABILITIES=compute,utility\n",
            "NVIDIA_REQUIRE_CUDA=cuda>=11.1 brand=tesla,driver>=418,driver<419 brand=tesla,driver>=450,driver<451\n",
            "NVIDIA_VISIBLE_DEVICES=all\n",
            "NV_CUDA_COMPAT_PACKAGE=cuda-compat-11-1\n",
            "NV_CUDA_CUDART_DEV_VERSION=11.1.74-1\n",
            "NV_CUDA_CUDART_VERSION=11.1.74-1\n",
            "NV_CUDA_LIB_VERSION=11.1.1-1\n",
            "NV_CUDNN_PACKAGE=libcudnn8=8.0.5.39-1+cuda11.1\n",
            "NV_CUDNN_PACKAGE_DEV=libcudnn8-dev=8.0.5.39-1+cuda11.1\n",
            "NV_CUDNN_PACKAGE_NAME=libcudnn8\n",
            "NV_CUDNN_VERSION=8.0.5.39\n",
            "NV_LIBCUBLAS_DEV_PACKAGE=libcublas-dev-11-1=11.3.0.106-1\n",
            "NV_LIBCUBLAS_DEV_PACKAGE_NAME=libcublas-dev-11-1\n",
            "NV_LIBCUBLAS_DEV_VERSION=11.3.0.106-1\n",
            "NV_LIBCUBLAS_PACKAGE=libcublas-11-1=11.3.0.106-1\n",
            "NV_LIBCUBLAS_PACKAGE_NAME=libcublas-11-1\n",
            "NV_LIBCUBLAS_VERSION=11.3.0.106-1\n",
            "NV_LIBCUSPARSE_DEV_VERSION=11.3.0.10-1\n",
            "NV_LIBCUSPARSE_VERSION=11.3.0.10-1\n",
            "NV_LIBNCCL_DEV_PACKAGE=libnccl-dev=2.8.4-1+cuda11.1\n",
            "NV_LIBNCCL_DEV_PACKAGE_NAME=libnccl-dev\n",
            "NV_LIBNCCL_DEV_PACKAGE_VERSION=2.8.4-1\n",
            "NV_LIBNCCL_PACKAGE=libnccl2=2.8.4-1+cuda11.1\n",
            "NV_LIBNCCL_PACKAGE_NAME=libnccl2\n",
            "NV_LIBNCCL_PACKAGE_VERSION=2.8.4-1\n",
            "NV_LIBNPP_DEV_PACKAGE=libnpp-dev-11-1=11.1.2.301-1\n",
            "NV_LIBNPP_DEV_VERSION=11.1.2.301-1\n",
            "NV_LIBNPP_PACKAGE=libnpp-11-1=11.1.2.301-1\n",
            "NV_LIBNPP_VERSION=11.1.2.301-1\n",
            "NV_NVML_DEV_VERSION=11.1.74-1\n",
            "NV_NVPROF_DEV_PACKAGE=cuda-nvprof-11-1=11.1.105-1\n",
            "NV_NVPROF_VERSION=11.1.105-1\n",
            "NV_NVTX_VERSION=11.1.74-1\n",
            "OLDPWD=/\n",
            "PAGER=cat\n",
            "PATH=/opt/bin:/usr/local/nvidia/bin:/usr/local/cuda/bin:/usr/local/sbin:/usr/local/bin:/usr/sbin:/usr/bin:/sbin:/bin:/tools/node/bin:/tools/google-cloud-sdk/bin\n",
            "PWD=/content\n",
            "PYDEVD_USE_FRAME_EVAL=NO\n",
            "PYTHONPATH=/env/python\n",
            "PYTHONWARNINGS=ignore:::pip._internal.cli.base_command\n",
            "SHELL=/bin/bash\n",
            "SHLVL=3\n",
            "TBE_CREDS_ADDR=172.28.0.1:8008\n",
            "TBE_EPHEM_CREDS_ADDR=172.28.0.1:8009\n",
            "TBE_RUNTIME_ADDR=172.28.0.1:8011\n",
            "TERM=xterm-color\n",
            "TF_FORCE_GPU_ALLOW_GROWTH=true\n",
            "USE_AUTH_EPHEM=1\n",
            "_=/usr/bin/env\n",
            "ＶＮＣサーバとＷｅｂＳｏｃｋｉｆｙ切る\n",
            "Killing Xtigervnc process ID 5652... success!\n",
            "ＶＮＣサーバとＷｅｂＳｏｃｋｉｆｙ切る終了\n",
            "ＴｉｇｅｒＶＮＣサーバー起動\n",
            "ＴｉｇｅｒＶＮＣサーバー起動終了\n",
            "ＷｅｂＳｏｃｋｉｆｙ起動\n",
            "ＷｅｂＳｏｃｋｉｆｙ起動終了\n",
            "内部ＷＥＢＳＯＣＫＩＦＹ用ポート=18534\n"
          ]
        }
      ]
    },
    {
      "cell_type": "code",
      "source": [
        "%%bash\n",
        "ROOTDIRS=/content\n",
        "killall ngrok\n",
        "printf \"ＮＧＲＯＫトンネル設定開始\\n\"\n",
        "chmod 777 ${ROOTDIRS}/ngrok\n",
        "rm -f ${ROOTDIRS}/grocky.yml\n",
        "${ROOTDIRS}/ngrok --config ${ROOTDIRS}/grocky.yml config add-authtoken ${ENGBJ_token}\n",
        "cat <<EOF >> ${ROOTDIRS}/grocky.yml\n",
        "tunnels:\n",
        "  grocky:\n",
        "    proto: http\n",
        "    addr: localhost:${ENGBJ_WWWPort}\n",
        "EOF\n",
        "printf \"ＮＧＲＯＫトンネル設定終了\\n\""
      ],
      "metadata": {
        "colab": {
          "base_uri": "https://localhost:8080/"
        },
        "id": "iQY-uFhjyIaR",
        "outputId": "28f9d0e2-979e-4543-eb7a-448a3faf838b"
      },
      "execution_count": 16,
      "outputs": [
        {
          "output_type": "stream",
          "name": "stdout",
          "text": [
            "ＮＧＲＯＫトンネル設定開始\n",
            "Authtoken saved to configuration file: /content/grocky.yml\n",
            "ＮＧＲＯＫトンネル設定終了\n"
          ]
        }
      ]
    },
    {
      "cell_type": "code",
      "source": [
        "# ＮＧＲＯＫ起動とトンネル情報取得\n",
        "システムコール(f\"{ワークディレクトリ}/ngrok start --all --config {ワークディレクトリ}/grocky.yml &\")\n",
        "fスリーブ(3.0)\n",
        "ＮＧＲＯＫホスト出力= !wget -O - -qq http://localhost:4040/api/tunnels  | perl -pe 's/^.+(public_url)[^h]+(https:[^\"]+).+$/${2}/g' \n",
        "ＮＧＲＯＫホスト名=ＮＧＲＯＫホスト出力[0]\n",
        "print(f\"\"\"\n",
        "別窓で開く場合はこちらをクリック。\n",
        "アクセス警告が出ますが。。。\n",
        "{ＮＧＲＯＫホスト名}\n",
        "\"\"\")"
      ],
      "metadata": {
        "id": "Wmg2S_KtzKQM",
        "colab": {
          "base_uri": "https://localhost:8080/"
        },
        "outputId": "2a040549-c71c-4885-d60b-188f6dc6f36f"
      },
      "execution_count": 17,
      "outputs": [
        {
          "output_type": "stream",
          "name": "stdout",
          "text": [
            "\n",
            "別窓で開く場合はこちらをクリック。\n",
            "アクセス警告が出ますが。。。\n",
            "https://40d5-34-74-0-26.ngrok.io\n",
            "\n"
          ]
        }
      ]
    },
    {
      "cell_type": "markdown",
      "source": [
        "## セルにＮＯＶＮＣビューワ表示"
      ],
      "metadata": {
        "id": "bi6A5OuOQkM3"
      }
    },
    {
      "cell_type": "code",
      "source": [
        "from google.colab import output\n",
        "output.serve_kernel_port_as_iframe(port=内部ＷＥＢＳＯＣＫＩＦＹ用ポート,path=f\"{ＮＧＲＯＫホスト名}/vnc.html\",height=700,cache_in_notebook=False) #このportはwebsockyのポートこれだと、localhost:5999に接続でNG\n"
      ],
      "metadata": {
        "colab": {
          "base_uri": "https://localhost:8080/",
          "height": 722
        },
        "id": "b1BNpakNpxA8",
        "outputId": "2579dec9-30fa-43c3-c71e-e9dd54b374d3"
      },
      "execution_count": 18,
      "outputs": [
        {
          "output_type": "display_data",
          "data": {
            "text/plain": [
              "<IPython.core.display.Javascript object>"
            ],
            "application/javascript": [
              "(async (port, path, width, height, cache, element) => {\n",
              "    if (!google.colab.kernel.accessAllowed && !cache) {\n",
              "      return;\n",
              "    }\n",
              "    element.appendChild(document.createTextNode(''));\n",
              "    const url = await google.colab.kernel.proxyPort(port, {cache});\n",
              "    const iframe = document.createElement('iframe');\n",
              "    iframe.src = new URL(path, url).toString();\n",
              "    iframe.height = height;\n",
              "    iframe.width = width;\n",
              "    iframe.style.border = 0;\n",
              "    element.appendChild(iframe);\n",
              "  })(18534, \"https://40d5-34-74-0-26.ngrok.io/vnc.html\", \"100%\", 700, false, window.element)"
            ]
          },
          "metadata": {}
        }
      ]
    },
    {
      "cell_type": "markdown",
      "source": [
        "### xeyes,Xtermを起動してみる"
      ],
      "metadata": {
        "id": "L9f8bLOER4L7"
      }
    },
    {
      "cell_type": "code",
      "source": [
        "#!/usr/bin/xeyes \n",
        "システムコール(\"/usr/bin/aterm-xterm &\")  "
      ],
      "metadata": {
        "id": "jyoju5Hn3LLh"
      },
      "execution_count": 22,
      "outputs": []
    },
    {
      "cell_type": "code",
      "source": [
        "!which xeyes\n",
        "!which aterm-xterm\n",
        "!ps -Af"
      ],
      "metadata": {
        "colab": {
          "base_uri": "https://localhost:8080/"
        },
        "id": "wCkTBPbqUGys",
        "outputId": "fe5fd63c-412f-4bab-cbbc-e60a75f211c8"
      },
      "execution_count": 12,
      "outputs": [
        {
          "output_type": "stream",
          "name": "stdout",
          "text": [
            "/usr/bin/xeyes\n",
            "/usr/bin/aterm-xterm\n",
            "UID          PID    PPID  C STIME TTY          TIME CMD\n",
            "root           1       0  0 23:03 ?        00:00:00 /sbin/docker-init -- /datala\n",
            "root           7       1  0 23:04 ?        00:00:02 /tools/node/bin/node /datala\n",
            "root          16       0  0 23:04 ?        00:00:00 tail -n +0 -F /root/.config/\n",
            "root          26       7  0 23:04 ?        00:00:05 [python3] <defunct>\n",
            "root          27       7  0 23:04 ?        00:00:00 python3 /usr/local/bin/colab\n",
            "root          40       7  0 23:04 ?        00:00:02 /usr/bin/python3 /usr/local/\n",
            "root          41       7  0 23:04 ?        00:00:00 /usr/local/bin/dap_multiplex\n",
            "root          57      40  1 23:04 ?        00:00:06 /usr/bin/python3 -m ipykerne\n",
            "root          77       1  0 23:04 ?        00:00:02 /usr/bin/python3 /usr/local/\n",
            "root          94       7  2 23:04 ?        00:00:16 node /datalab/web/pyright/py\n",
            "root        5652       1  0 23:09 ?        00:00:00 /usr/bin/Xtigervnc :99 -desk\n",
            "root        5653       1  0 23:09 ?        00:00:00 /usr/bin/perl /usr/bin/vncse\n",
            "root        5654    5653  0 23:09 ?        00:00:00 /usr/bin/fluxbox\n",
            "root        5673       1  0 23:09 ?        00:00:01 /usr/bin/python2.7 /usr/bin/\n",
            "root        5704       1  0 23:10 ?        00:00:01 /content/ngrok start --all -\n",
            "root        5751    5673  0 23:12 ?        00:00:00 /usr/bin/python2.7 /usr/bin/\n",
            "root        5763    5673  0 23:12 ?        00:00:00 /usr/bin/python2.7 /usr/bin/\n",
            "root        5778    5654  0 23:13 ?        00:00:00 xclock -analog\n",
            "root        5813      57  0 23:15 ?        00:00:00 ps -Af\n"
          ]
        }
      ]
    },
    {
      "cell_type": "markdown",
      "source": [
        "\n",
        "\n",
        "---\n",
        "\n"
      ],
      "metadata": {
        "id": "5zlj2B5vKHOx"
      }
    },
    {
      "cell_type": "code",
      "source": [
        "!netstat -nap | grep LISTEN"
      ],
      "metadata": {
        "colab": {
          "base_uri": "https://localhost:8080/"
        },
        "id": "QzvA8msmV3LO",
        "outputId": "f0e0557a-db13-487f-c89a-ad0433a5367f"
      },
      "execution_count": 14,
      "outputs": [
        {
          "output_type": "stream",
          "name": "stdout",
          "text": [
            "tcp        0      0 127.0.0.11:44001        0.0.0.0:*               LISTEN      -                   \n",
            "tcp        0      0 127.0.0.1:33987         0.0.0.0:*               LISTEN      57/python3          \n",
            "tcp        0      0 127.0.0.1:44263         0.0.0.0:*               LISTEN      57/python3          \n",
            "tcp        0      0 127.0.0.1:4040          0.0.0.0:*               LISTEN      5704/ngrok          \n",
            "tcp        0      0 172.28.0.2:9000         0.0.0.0:*               LISTEN      40/python3          \n",
            "tcp        0      0 127.0.0.1:39915         0.0.0.0:*               LISTEN      77/python3          \n",
            "tcp        0      0 127.0.0.1:53581         0.0.0.0:*               LISTEN      57/python3          \n",
            "tcp        0      0 0.0.0.0:17871           0.0.0.0:*               LISTEN      5673/python2.7      \n",
            "tcp        0      0 127.0.0.1:5999          0.0.0.0:*               LISTEN      5652/Xtigervnc      \n",
            "tcp        0      0 127.0.0.1:57775         0.0.0.0:*               LISTEN      57/python3          \n",
            "tcp        0      0 127.0.0.1:21297         0.0.0.0:*               LISTEN      77/python3          \n",
            "tcp        0      0 127.0.0.1:48787         0.0.0.0:*               LISTEN      57/python3          \n",
            "tcp        0      0 127.0.0.1:51573         0.0.0.0:*               LISTEN      57/python3          \n",
            "tcp        0      0 127.0.0.1:39479         0.0.0.0:*               LISTEN      77/python3          \n",
            "tcp        0      0 0.0.0.0:3453            0.0.0.0:*               LISTEN      27/python3          \n",
            "tcp6       0      0 :::8080                 :::*                    LISTEN      7/node              \n",
            "tcp6       0      0 :::3453                 :::*                    LISTEN      27/python3          \n",
            "unix  2      [ ACC ]     STREAM     LISTENING     19034    41/dap_multiplexer   /tmp/debugger_1kbat467km\n",
            "unix  2      [ ACC ]     STREAM     LISTENING     47516    5652/Xtigervnc       @/tmp/.X11-unix/X99\n",
            "unix  2      [ ACC ]     STREAM     LISTENING     47517    5652/Xtigervnc       /tmp/.X11-unix/X99\n"
          ]
        }
      ]
    }
  ],
  "metadata": {
    "colab": {
      "collapsed_sections": [],
      "provenance": [],
      "include_colab_link": true
    },
    "kernelspec": {
      "display_name": "Python 3",
      "name": "python3"
    },
    "language_info": {
      "name": "python"
    }
  },
  "nbformat": 4,
  "nbformat_minor": 0
}