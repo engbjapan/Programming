{
  "cells": [
    {
      "cell_type": "markdown",
      "metadata": {
        "id": "view-in-github",
        "colab_type": "text"
      },
      "source": [
        "<a href=\"https://colab.research.google.com/github/engbJapan/Programming/blob/main/VNCinCellJapan.ipynb\" target=\"_parent\"><img src=\"https://colab.research.google.com/assets/colab-badge.svg\" alt=\"Open In Colab\"/></a>"
      ]
    },
    {
      "cell_type": "markdown",
      "metadata": {
        "id": "view-in-github",
        "colab_type": "text"
      },
      "source": [
        "<a href=\"https://youtu.be/CihGimhrclQ\" target=\"_parent\">YouTubeの記録はこちら</a>"
      ]
    },
    {
      "cell_type": "markdown",
      "source": [
        "# ColabでVNCビューワをセル出力に出す（リンクなんかじゃないよ）"
      ],
      "metadata": {
        "id": "_eF00JURBgu4"
      }
    },
    {
      "cell_type": "markdown",
      "source": [
        "## 関数定義など"
      ],
      "metadata": {
        "id": "XNfvq4gpEjo5"
      }
    },
    {
      "cell_type": "code",
      "source": [
        "# 関数定義など開始\n",
        "import os as iＯＳ\n",
        "from IPython.display import clear_output as i出力クリア\n",
        "import portpicker as iポートピック\n",
        "#https://docs.python.org/ja/3/library/shlex.html#module-shlex\n",
        "from shlex import quote as i安全なシェル向けクオーティング\n",
        "from shlex import split as iクオーティングsplit\n",
        "from time import sleep as fスリーブ\n",
        "\n",
        "システムコール=get_ipython().system_raw\n",
        "\n",
        "ワークディレクトリ=\"/content\"\n",
        "\n",
        "def 指定の変数の値を取得します(変数名):\n",
        "  return iＯＳ.environ[変数名]\n",
        "\n",
        "def 指定の変数の値を設定します(変数名,値):\n",
        "  iＯＳ.environ[変数名] = 値\n",
        "  return 指定の変数の値を取得します(変数名)\n",
        "\n",
        "def 環境変数にメッセージ出して入力を設定(\n",
        "      変数名\n",
        "      ,メッセージ=\"入れてください：\"\n",
        "      ,デホルト値指定=\"\"\n",
        "      ,ダメな文字列=\"\"):\n",
        "  環境変数名 = f\"ENGBJ_{変数名}\"\n",
        "  良い = False\n",
        "  while not 良い :\n",
        "    入力値 = i安全なシェル向けクオーティング(input(f\"{メッセージ}:\"))\n",
        "    指定の変数の値を設定します(\n",
        "        環境変数名\n",
        "      ,(入力値 if (  デホルト値指定 == \"\" or 入力値 != \"\" )  else デホルト値指定)\n",
        "    )\n",
        "    if (ダメな文字列!=\"\" and ダメな文字列==入力値):\n",
        "      print(\"それは入力してはいけません！もう一度！！\")\n",
        "      continue\n",
        "    良い = (input(\n",
        "          f\"{指定の変数の値を取得します(環境変数名)}　これで良いです？(y/n):\"\n",
        "            ) == \"y\")\n",
        "\n",
        "  return 指定の変数の値を取得します(環境変数名)\n",
        "# 関数定義など終了\n",
        "\n"
      ],
      "metadata": {
        "id": "qOsJQujliAxb"
      },
      "execution_count": 1,
      "outputs": []
    },
    {
      "cell_type": "markdown",
      "source": [
        "## 日本語化、時間も"
      ],
      "metadata": {
        "id": "PjY5YMowEsDO"
      }
    },
    {
      "cell_type": "code",
      "source": [
        "# 日本語化、時間も開始\n",
        "%cd {ワークディレクトリ}\n",
        "%pwd\n",
        "try:\n",
        "  open(f\"{ワークディレクトリ}/.env.root\",mode=\"r\").close()\n",
        "  print(\"\"\"\n",
        "  既に実行されています。\n",
        " !date  コマンド等で確認してください。\n",
        " 日本化していなければ、\n",
        "「ランタイムの接続解除して削除」でクリアーにしてリトライ下さい\n",
        "    \"\"\")\n",
        "except FileNotFoundError:\n",
        "  !bash <( wget -O - -qq https://engbjapan.github.io/Programming/TestG/IamJapanese.rc )\n",
        "  環境変数格納 = !cat /content/.env.root\n",
        "  for 個々の環境変数定義 in  環境変数格納 :\n",
        "    (変数名, 設定値) = 個々の環境変数定義.split(\"=\",maxsplit=1)\n",
        "    iＯＳ.environ[変数名]=f\"{設定値}\"\n",
        "\n",
        "i出力クリア(True)\n",
        "print(f\"{'※'*16}\")\n",
        "!env|sort\n",
        "!date\n",
        "# 日本語化、時間も終了\n"
      ],
      "metadata": {
        "colab": {
          "base_uri": "https://localhost:8080/"
        },
        "id": "0yo9CB_xEhBs",
        "outputId": "ada5d543-0dd7-4490-e918-a59c9e5317c2"
      },
      "execution_count": 2,
      "outputs": [
        {
          "output_type": "stream",
          "name": "stdout",
          "text": [
            "※※※※※※※※※※※※※※※※\n",
            "CLICOLOR=1\n",
            "CLOUDSDK_CONFIG=/content/.config\n",
            "CLOUDSDK_PYTHON=python3\n",
            "COLAB_GPU=0\n",
            "CUDA_VERSION=11.1.1\n",
            "DATALAB_SETTINGS_OVERRIDES={\"kernelManagerProxyPort\":6000,\"kernelManagerProxyHost\":\"172.28.0.3\",\"jupyterArgs\":[\"--ip=172.28.0.2\"],\"debugAdapterMultiplexerPath\":\"/usr/local/bin/dap_multiplexer\",\"enableLsp\":true}\n",
            "DEBIAN_FRONTEND=noninteractive\n",
            "ENABLE_DIRECTORYPREFETCHER=1\n",
            "ENV=/root/.bashrc\n",
            "GCE_METADATA_TIMEOUT=3\n",
            "GCS_READ_CACHE_BLOCK_SIZE_MB=16\n",
            "GIT_PAGER=cat\n",
            "GLIBCPP_FORCE_NEW=1\n",
            "GLIBCXX_FORCE_NEW=1\n",
            "HOME=/root\n",
            "HOSTNAME=75dd3c36401f\n",
            "JPY_PARENT_PID=40\n",
            "LANG=ja_JP.UTF-8\n",
            "LAST_FORCED_REBUILD=20220913\n",
            "LD_LIBRARY_PATH=/usr/local/nvidia/lib:/usr/local/nvidia/lib64\n",
            "LD_PRELOAD=/usr/lib/x86_64-linux-gnu/libtcmalloc.so.4\n",
            "LIBRARY_PATH=/usr/local/cuda/lib64/stubs\n",
            "MPLBACKEND=module://ipykernel.pylab.backend_inline\n",
            "NCCL_VERSION=2.8.4-1\n",
            "NO_GCE_CHECK=False\n",
            "NVARCH=x86_64\n",
            "NVIDIA_DRIVER_CAPABILITIES=compute,utility\n",
            "NVIDIA_REQUIRE_CUDA=cuda>=11.1 brand=tesla,driver>=418,driver<419 brand=tesla,driver>=450,driver<451\n",
            "NVIDIA_VISIBLE_DEVICES=all\n",
            "NV_CUDA_COMPAT_PACKAGE=cuda-compat-11-1\n",
            "NV_CUDA_CUDART_DEV_VERSION=11.1.74-1\n",
            "NV_CUDA_CUDART_VERSION=11.1.74-1\n",
            "NV_CUDA_LIB_VERSION=11.1.1-1\n",
            "NV_CUDNN_PACKAGE=libcudnn8=8.0.5.39-1+cuda11.1\n",
            "NV_CUDNN_PACKAGE_DEV=libcudnn8-dev=8.0.5.39-1+cuda11.1\n",
            "NV_CUDNN_PACKAGE_NAME=libcudnn8\n",
            "NV_CUDNN_VERSION=8.0.5.39\n",
            "NV_LIBCUBLAS_DEV_PACKAGE=libcublas-dev-11-1=11.3.0.106-1\n",
            "NV_LIBCUBLAS_DEV_PACKAGE_NAME=libcublas-dev-11-1\n",
            "NV_LIBCUBLAS_DEV_VERSION=11.3.0.106-1\n",
            "NV_LIBCUBLAS_PACKAGE=libcublas-11-1=11.3.0.106-1\n",
            "NV_LIBCUBLAS_PACKAGE_NAME=libcublas-11-1\n",
            "NV_LIBCUBLAS_VERSION=11.3.0.106-1\n",
            "NV_LIBCUSPARSE_DEV_VERSION=11.3.0.10-1\n",
            "NV_LIBCUSPARSE_VERSION=11.3.0.10-1\n",
            "NV_LIBNCCL_DEV_PACKAGE=libnccl-dev=2.8.4-1+cuda11.1\n",
            "NV_LIBNCCL_DEV_PACKAGE_NAME=libnccl-dev\n",
            "NV_LIBNCCL_DEV_PACKAGE_VERSION=2.8.4-1\n",
            "NV_LIBNCCL_PACKAGE=libnccl2=2.8.4-1+cuda11.1\n",
            "NV_LIBNCCL_PACKAGE_NAME=libnccl2\n",
            "NV_LIBNCCL_PACKAGE_VERSION=2.8.4-1\n",
            "NV_LIBNPP_DEV_PACKAGE=libnpp-dev-11-1=11.1.2.301-1\n",
            "NV_LIBNPP_DEV_VERSION=11.1.2.301-1\n",
            "NV_LIBNPP_PACKAGE=libnpp-11-1=11.1.2.301-1\n",
            "NV_LIBNPP_VERSION=11.1.2.301-1\n",
            "NV_NVML_DEV_VERSION=11.1.74-1\n",
            "NV_NVPROF_DEV_PACKAGE=cuda-nvprof-11-1=11.1.105-1\n",
            "NV_NVPROF_VERSION=11.1.105-1\n",
            "NV_NVTX_VERSION=11.1.74-1\n",
            "OLDPWD=/\n",
            "PAGER=cat\n",
            "PATH=/opt/bin:/usr/local/nvidia/bin:/usr/local/cuda/bin:/usr/local/sbin:/usr/local/bin:/usr/sbin:/usr/bin:/sbin:/bin:/tools/node/bin:/tools/google-cloud-sdk/bin\n",
            "PWD=/content\n",
            "PYDEVD_USE_FRAME_EVAL=NO\n",
            "PYTHONPATH=/env/python\n",
            "PYTHONWARNINGS=ignore:::pip._internal.cli.base_command\n",
            "SHELL=/bin/bash\n",
            "SHLVL=3\n",
            "TBE_CREDS_ADDR=172.28.0.1:8008\n",
            "TBE_EPHEM_CREDS_ADDR=172.28.0.1:8009\n",
            "TBE_RUNTIME_ADDR=172.28.0.1:8011\n",
            "TERM=xterm-color\n",
            "TF_FORCE_GPU_ALLOW_GROWTH=true\n",
            "USE_AUTH_EPHEM=1\n",
            "_=/usr/bin/env\n",
            "2022年  9月 22日 木曜日 06:26:21 JST\n"
          ]
        }
      ]
    },
    {
      "cell_type": "markdown",
      "source": [
        "## ＮＯＶＮＣをセル上で実行する"
      ],
      "metadata": {
        "id": "qUruP-v8ZRdO"
      }
    },
    {
      "cell_type": "code",
      "source": [
        "#トークンを環境変数「ENGBJ_toke」と変数「トークン」に設定\n",
        "トークン=環境変数にメッセージ出して入力を設定(\"token\",\"ＮＧＲＯＫのトークンをコピペ：\")\n",
        "print(\"モジュールのインストール開始\")\n",
        "!bash <( wget -O - -qq https://engbjapan.github.io/Programming/TestG/inst.rc ) #ググマーク対策\n",
        "print(\"モジュールのインストール終了\")\n",
        "\n",
        "i出力クリア(True)\n",
        "\n",
        "print(f\"ＶＮＣパスワード等設定 {ワークディレクトリ}/passwd にパスファイルを作成します\")\n",
        "print(f\"パスワード二回入力後に「n」で終えてください\")\n",
        "!bash  <( wget -O - -qq https://engbjapan.github.io/Programming/TestG/inst2.rc )\n",
        "print(\"ＶＮＣパスワード等設定終了\")\n",
        "\n",
        "i出力クリア(True)\n",
        "\n",
        "# ＮＧＲＯＫのＤＬと解凍\n",
        "print(\"ＮＧＲＯＫのＤＬと解凍\")\n",
        "%cd {ワークディレクトリ}\n",
        "!wget -qq https://bin.equinox.io/c/bNyj1mQVY4c/ngrok-v3-stable-linux-amd64.tgz\n",
        "!rm -f ./ngrok\n",
        "!tar xzvf ./ngrok-v3-stable-linux-amd64.tgz\n",
        "!rm -f ./ngrok-v3-stable-linux-amd64.tgz\n",
        "print(\"ＮＧＲＯＫのＤＬと解凍終了\")\n",
        "\n",
        "\n",
        "# 環境変数整備\n",
        "print(\"環境変数整備\")\n",
        "指定の変数の値を設定します(\"DISPLAY\",\":99.0\") # XappのDISPLAYをＴｉｇｅｒＶＮＣのディスプレイにする\n",
        "内部ＷＥＢＳＯＣＫＩＦＹ用ポート = iポートピック.pick_unused_port()\n",
        "指定の変数の値を設定します(\"ENGBJ_WWWPort\",str(内部ＷＥＢＳＯＣＫＩＦＹ用ポート)) # XappのDISPLAYをＴｉｇｅｒＶＮＣのディスプレイにする\n",
        "print(\"環境変数整備終了\")\n",
        "!env|sort\n",
        "\n",
        "# サーバー起動開始\n",
        "print(\"ＶＮＣサーバとＷｅｂＳｏｃｋｉｆｙ切る\")\n",
        "!vncserver -kill :99\n",
        "!killall websockify\n",
        "print(\"ＶＮＣサーバとＷｅｂＳｏｃｋｉｆｙ切る終了\")\n",
        "print(\"ＴｉｇｅｒＶＮＣサーバー起動\")\n",
        "システムコール(f\"vncserver --PasswordFile {ワークディレクトリ}/passwd -localhost yes -xstartup `which fluxbox` -geometry 900x600 :99\")\n",
        "print(\"ＴｉｇｅｒＶＮＣサーバー起動終了\")\n",
        "fスリーブ(3.0)\n",
        "print(\"ＷｅｂＳｏｃｋｉｆｙ起動\")\n",
        "システムコール(f\"websockify -D --web=/usr/share/novnc/  {内部ＷＥＢＳＯＣＫＩＦＹ用ポート} localhost:5999\")\n",
        "print(\"ＷｅｂＳｏｃｋｉｆｙ起動終了\")\n",
        "print(f\"内部ＷＥＢＳＯＣＫＩＦＹ用ポート={内部ＷＥＢＳＯＣＫＩＦＹ用ポート}\")\n",
        "\n"
      ],
      "metadata": {
        "id": "K8G7S6b4wBCA",
        "colab": {
          "base_uri": "https://localhost:8080/"
        },
        "outputId": "548370fe-8343-456a-861e-54374d9b7949"
      },
      "execution_count": 3,
      "outputs": [
        {
          "output_type": "stream",
          "name": "stdout",
          "text": [
            "ＮＧＲＯＫのＤＬと解凍\n",
            "/content\n",
            "ngrok\n",
            "ＮＧＲＯＫのＤＬと解凍終了\n",
            "環境変数整備\n",
            "環境変数整備終了\n",
            "CLICOLOR=1\n",
            "CLOUDSDK_CONFIG=/content/.config\n",
            "CLOUDSDK_PYTHON=python3\n",
            "COLAB_GPU=0\n",
            "CUDA_VERSION=11.1.1\n",
            "DATALAB_SETTINGS_OVERRIDES={\"kernelManagerProxyPort\":6000,\"kernelManagerProxyHost\":\"172.28.0.3\",\"jupyterArgs\":[\"--ip=172.28.0.2\"],\"debugAdapterMultiplexerPath\":\"/usr/local/bin/dap_multiplexer\",\"enableLsp\":true}\n",
            "DEBIAN_FRONTEND=noninteractive\n",
            "DISPLAY=:99.0\n",
            "ENABLE_DIRECTORYPREFETCHER=1\n",
            "ENGBJ_WWWPort=16112\n",
            "ENGBJ_token=2F59U1hozX1tZf15e1XXXXXXXXXXXXXXXXXXXX\n",
            "ENV=/root/.bashrc\n",
            "GCE_METADATA_TIMEOUT=3\n",
            "GCS_READ_CACHE_BLOCK_SIZE_MB=16\n",
            "GIT_PAGER=cat\n",
            "GLIBCPP_FORCE_NEW=1\n",
            "GLIBCXX_FORCE_NEW=1\n",
            "HOME=/root\n",
            "HOSTNAME=75dd3c36401f\n",
            "JPY_PARENT_PID=40\n",
            "LANG=ja_JP.UTF-8\n",
            "LAST_FORCED_REBUILD=20220913\n",
            "LD_LIBRARY_PATH=/usr/local/nvidia/lib:/usr/local/nvidia/lib64\n",
            "LD_PRELOAD=/usr/lib/x86_64-linux-gnu/libtcmalloc.so.4\n",
            "LIBRARY_PATH=/usr/local/cuda/lib64/stubs\n",
            "MPLBACKEND=module://ipykernel.pylab.backend_inline\n",
            "NCCL_VERSION=2.8.4-1\n",
            "NO_GCE_CHECK=False\n",
            "NVARCH=x86_64\n",
            "NVIDIA_DRIVER_CAPABILITIES=compute,utility\n",
            "NVIDIA_REQUIRE_CUDA=cuda>=11.1 brand=tesla,driver>=418,driver<419 brand=tesla,driver>=450,driver<451\n",
            "NVIDIA_VISIBLE_DEVICES=all\n",
            "NV_CUDA_COMPAT_PACKAGE=cuda-compat-11-1\n",
            "NV_CUDA_CUDART_DEV_VERSION=11.1.74-1\n",
            "NV_CUDA_CUDART_VERSION=11.1.74-1\n",
            "NV_CUDA_LIB_VERSION=11.1.1-1\n",
            "NV_CUDNN_PACKAGE=libcudnn8=8.0.5.39-1+cuda11.1\n",
            "NV_CUDNN_PACKAGE_DEV=libcudnn8-dev=8.0.5.39-1+cuda11.1\n",
            "NV_CUDNN_PACKAGE_NAME=libcudnn8\n",
            "NV_CUDNN_VERSION=8.0.5.39\n",
            "NV_LIBCUBLAS_DEV_PACKAGE=libcublas-dev-11-1=11.3.0.106-1\n",
            "NV_LIBCUBLAS_DEV_PACKAGE_NAME=libcublas-dev-11-1\n",
            "NV_LIBCUBLAS_DEV_VERSION=11.3.0.106-1\n",
            "NV_LIBCUBLAS_PACKAGE=libcublas-11-1=11.3.0.106-1\n",
            "NV_LIBCUBLAS_PACKAGE_NAME=libcublas-11-1\n",
            "NV_LIBCUBLAS_VERSION=11.3.0.106-1\n",
            "NV_LIBCUSPARSE_DEV_VERSION=11.3.0.10-1\n",
            "NV_LIBCUSPARSE_VERSION=11.3.0.10-1\n",
            "NV_LIBNCCL_DEV_PACKAGE=libnccl-dev=2.8.4-1+cuda11.1\n",
            "NV_LIBNCCL_DEV_PACKAGE_NAME=libnccl-dev\n",
            "NV_LIBNCCL_DEV_PACKAGE_VERSION=2.8.4-1\n",
            "NV_LIBNCCL_PACKAGE=libnccl2=2.8.4-1+cuda11.1\n",
            "NV_LIBNCCL_PACKAGE_NAME=libnccl2\n",
            "NV_LIBNCCL_PACKAGE_VERSION=2.8.4-1\n",
            "NV_LIBNPP_DEV_PACKAGE=libnpp-dev-11-1=11.1.2.301-1\n",
            "NV_LIBNPP_DEV_VERSION=11.1.2.301-1\n",
            "NV_LIBNPP_PACKAGE=libnpp-11-1=11.1.2.301-1\n",
            "NV_LIBNPP_VERSION=11.1.2.301-1\n",
            "NV_NVML_DEV_VERSION=11.1.74-1\n",
            "NV_NVPROF_DEV_PACKAGE=cuda-nvprof-11-1=11.1.105-1\n",
            "NV_NVPROF_VERSION=11.1.105-1\n",
            "NV_NVTX_VERSION=11.1.74-1\n",
            "OLDPWD=/\n",
            "PAGER=cat\n",
            "PATH=/opt/bin:/usr/local/nvidia/bin:/usr/local/cuda/bin:/usr/local/sbin:/usr/local/bin:/usr/sbin:/usr/bin:/sbin:/bin:/tools/node/bin:/tools/google-cloud-sdk/bin\n",
            "PWD=/content\n",
            "PYDEVD_USE_FRAME_EVAL=NO\n",
            "PYTHONPATH=/env/python\n",
            "PYTHONWARNINGS=ignore:::pip._internal.cli.base_command\n",
            "SHELL=/bin/bash\n",
            "SHLVL=3\n",
            "TBE_CREDS_ADDR=172.28.0.1:8008\n",
            "TBE_EPHEM_CREDS_ADDR=172.28.0.1:8009\n",
            "TBE_RUNTIME_ADDR=172.28.0.1:8011\n",
            "TERM=xterm-color\n",
            "TF_FORCE_GPU_ALLOW_GROWTH=true\n",
            "USE_AUTH_EPHEM=1\n",
            "_=/usr/bin/env\n",
            "ＶＮＣサーバとＷｅｂＳｏｃｋｉｆｙ切る\n",
            "websockify: no process found\n",
            "ＶＮＣサーバとＷｅｂＳｏｃｋｉｆｙ切る終了\n",
            "ＴｉｇｅｒＶＮＣサーバー起動\n",
            "ＴｉｇｅｒＶＮＣサーバー起動終了\n",
            "ＷｅｂＳｏｃｋｉｆｙ起動\n",
            "ＷｅｂＳｏｃｋｉｆｙ起動終了\n",
            "内部ＷＥＢＳＯＣＫＩＦＹ用ポート=16112\n"
          ]
        }
      ]
    },
    {
      "cell_type": "code",
      "source": [
        "%%bash\n",
        "ROOTDIRS=/content\n",
        "killall ngrok\n",
        "printf \"ＮＧＲＯＫトンネル設定開始\\n\"\n",
        "chmod 777 ${ROOTDIRS}/ngrok\n",
        "rm -f ${ROOTDIRS}/grocky.yml\n",
        "${ROOTDIRS}/ngrok --config ${ROOTDIRS}/grocky.yml config add-authtoken ${ENGBJ_token}\n",
        "cat <<EOF >> ${ROOTDIRS}/grocky.yml\n",
        "tunnels:\n",
        "  grocky:\n",
        "    proto: http\n",
        "    addr: localhost:${ENGBJ_WWWPort}\n",
        "EOF\n",
        "printf \"ＮＧＲＯＫトンネル設定終了\\n\""
      ],
      "metadata": {
        "colab": {
          "base_uri": "https://localhost:8080/"
        },
        "id": "iQY-uFhjyIaR",
        "outputId": "21618597-65ec-43d4-ab66-58def4c66e37"
      },
      "execution_count": 4,
      "outputs": [
        {
          "output_type": "stream",
          "name": "stdout",
          "text": [
            "ＮＧＲＯＫトンネル設定開始\n",
            "Authtoken saved to configuration file: /content/grocky.yml\n",
            "ＮＧＲＯＫトンネル設定終了\n"
          ]
        },
        {
          "output_type": "stream",
          "name": "stderr",
          "text": [
            "ngrok: no process found\n"
          ]
        }
      ]
    },
    {
      "cell_type": "code",
      "source": [
        "# ＮＧＲＯＫ起動とトンネル情報取得\n",
        "システムコール(f\"{ワークディレクトリ}/ngrok start --all --config {ワークディレクトリ}/grocky.yml &\")\n",
        "fスリーブ(3.0)\n",
        "ＮＧＲＯＫホスト出力= !wget -O - -qq http://localhost:4040/api/tunnels  | perl -pe 's/^.+(public_url)[^h]+(https:[^\"]+).+$/${2}/g' \n",
        "ＮＧＲＯＫホスト名=ＮＧＲＯＫホスト出力[0]\n",
        "print(f\"\"\"\n",
        "別窓で開く場合はこちらをクリック。\n",
        "アクセス警告が出ますが。。。\n",
        "{ＮＧＲＯＫホスト名}\n",
        "\"\"\")"
      ],
      "metadata": {
        "id": "Wmg2S_KtzKQM",
        "colab": {
          "base_uri": "https://localhost:8080/"
        },
        "outputId": "fed96667-e234-4b58-d30d-aebdc3da6c79"
      },
      "execution_count": 5,
      "outputs": [
        {
          "output_type": "stream",
          "name": "stdout",
          "text": [
            "\n",
            "別窓で開く場合はこちらをクリック。\n",
            "アクセス警告が出ますが。。。\n",
            "https://XXXXXXXXXXXX.eu.ngrok.io\n",
            "\n"
          ]
        }
      ]
    },
    {
      "cell_type": "markdown",
      "source": [
        "## セルにＮＯＶＮＣビューワ表示"
      ],
      "metadata": {
        "id": "bi6A5OuOQkM3"
      }
    },
    {
      "cell_type": "code",
      "source": [
        "from google.colab import output\n",
        "output.serve_kernel_port_as_iframe(port=内部ＷＥＢＳＯＣＫＩＦＹ用ポート,path=f\"{ＮＧＲＯＫホスト名}/vnc.html\",height=700,cache_in_notebook=False) #このportはwebsockyのポートこれだと、localhost:5999に接続でNG\n"
      ],
      "metadata": {
        "colab": {
          "base_uri": "https://localhost:8080/",
          "height": 722
        },
        "id": "b1BNpakNpxA8",
        "outputId": "8f83e84a-67fa-4ab8-d332-bcb68c8de799"
      },
      "execution_count": 6,
      "outputs": [
        {
          "output_type": "display_data",
          "data": {
            "text/plain": [
              "<IPython.core.display.Javascript object>"
            ],
            "application/javascript": [
              "(async (port, path, width, height, cache, element) => {\n",
              "    if (!google.colab.kernel.accessAllowed && !cache) {\n",
              "      return;\n",
              "    }\n",
              "    element.appendChild(document.createTextNode(''));\n",
              "    const url = await google.colab.kernel.proxyPort(port, {cache});\n",
              "    const iframe = document.createElement('iframe');\n",
              "    iframe.src = new URL(path, url).toString();\n",
              "    iframe.height = height;\n",
              "    iframe.width = width;\n",
              "    iframe.style.border = 0;\n",
              "    element.appendChild(iframe);\n",
              "  })(16112, \"https://4330-34-91-171-160.eu.ngrok.io/vnc.html\", \"100%\", 700, false, window.element)"
            ]
          },
          "metadata": {}
        }
      ]
    },
    {
      "cell_type": "markdown",
      "source": [
        "### xeyes,Xtermを起動してみる"
      ],
      "metadata": {
        "id": "L9f8bLOER4L7"
      }
    },
    {
      "cell_type": "code",
      "source": [
        "システムコール(\"xeyes &\") \n",
        "システムコール(\"aterm-xterm &\")  "
      ],
      "metadata": {
        "id": "jyoju5Hn3LLh"
      },
      "execution_count": 7,
      "outputs": []
    },
    {
      "cell_type": "markdown",
      "source": [
        "## 月面着陸してみる"
      ],
      "metadata": {
        "id": "A_7yBMFS69M4"
      }
    },
    {
      "cell_type": "code",
      "source": [
        "#ref https://notebook.community/PyDataOkinawa/meetup021/3_openai_gym/01_openai_gym_introduction\n",
        "%pip -qq install gym[box2d]\n",
        "import gym\n",
        "import time\n",
        "new_step_api=True\n",
        "env = gym.make('LunarLander-v2')\n",
        "for i_episode in range(10):    # 10エピソード回す\n",
        "    observation = env.reset()    # 環境を初期化し、最初の観測を得る。\n",
        "\n",
        "    for t in range(100):    # 各エピソードの最大ステップ数は100\n",
        "        env.render()\n",
        "        action = env.action_space.sample()    # ランダム方策\n",
        "        observation, reward, done, info = env.step(action)    # 選択行動の実行\n",
        "        time.sleep(0.1)       \n",
        "        if done:\n",
        "            print(\"Episode finished after {} timesteps\\n\".format(t+1))\n",
        "            break\n"
      ],
      "metadata": {
        "colab": {
          "base_uri": "https://localhost:8080/"
        },
        "id": "vElyQGfG6MkL",
        "outputId": "e3344782-7f39-4dca-9463-2f212460c372"
      },
      "execution_count": 9,
      "outputs": [
        {
          "output_type": "stream",
          "name": "stdout",
          "text": [
            "Episode finished after 66 timesteps\n",
            "\n",
            "Episode finished after 89 timesteps\n",
            "\n",
            "Episode finished after 65 timesteps\n",
            "\n",
            "Episode finished after 98 timesteps\n",
            "\n",
            "Episode finished after 62 timesteps\n",
            "\n",
            "Episode finished after 71 timesteps\n",
            "\n",
            "Episode finished after 65 timesteps\n",
            "\n"
          ]
        }
      ]
    },
    {
      "cell_type": "markdown",
      "source": [
        "\n",
        "\n",
        "---\n",
        "\n"
      ],
      "metadata": {
        "id": "5zlj2B5vKHOx"
      }
    },
    {
      "cell_type": "code",
      "source": [
        "!netstat -nap | grep LISTEN"
      ],
      "metadata": {
        "id": "QzvA8msmV3LO"
      },
      "execution_count": null,
      "outputs": []
    }
  ],
  "metadata": {
    "colab": {
      "collapsed_sections": [],
      "provenance": [],
      "include_colab_link": true
    },
    "kernelspec": {
      "display_name": "Python 3",
      "name": "python3"
    },
    "language_info": {
      "name": "python"
    }
  },
  "nbformat": 4,
  "nbformat_minor": 0
}
