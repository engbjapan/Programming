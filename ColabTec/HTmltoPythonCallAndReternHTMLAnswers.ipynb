{
  "nbformat": 4,
  "nbformat_minor": 0,
  "metadata": {
    "colab": {
      "provenance": [],
      "collapsed_sections": [],
      "authorship_tag": "ABX9TyPcoZ8u+UjMSDIjmrV+TRY2",
      "include_colab_link": true
    },
    "kernelspec": {
      "name": "python3",
      "display_name": "Python 3"
    },
    "language_info": {
      "name": "python"
    }
  },
  "cells": [
    {
      "cell_type": "markdown",
      "metadata": {
        "id": "view-in-github",
        "colab_type": "text"
      },
      "source": [
        "<a href=\"https://colab.research.google.com/github/engbJapan/Programming/blob/main/ColabTec/HTmltoPythonCallAndReternHTMLAnswers.ipynb\" target=\"_parent\"><img src=\"https://colab.research.google.com/assets/colab-badge.svg\" alt=\"Open In Colab\"/></a>"
      ]
    },
    {
      "cell_type": "markdown",
      "source": [
        "#HTMLを書いて（中にJavascriptも書いて）それを表示して、そこからPythonコード呼んで、その結果をHTMLに（Javascriptで）反映\n",
        "\n",
        "\n",
        "\n",
        "1.   IPython.display.HTMLでHTMLをスクリプト込みでクローズしてIPython.displayで表示\n",
        "2.   Pythonのコールバック関数（何かするPython関数です）をPythonコードで紐づけ\n",
        "3.   1のボタン「ボタンInvoke」はテキスエリアのテキストをセットして２を呼び出し、thenで帰ってきた値をまた、テキストエリアにセット\n",
        "4.   よって、1でデザインしたHTMLのアクションでPython関数を実行しその結果をHTMLのアクション中で処理できる\n",
        "\n"
      ],
      "metadata": {
        "id": "xEu8KuvCQgWV"
      }
    },
    {
      "cell_type": "code",
      "execution_count": 22,
      "metadata": {
        "colab": {
          "base_uri": "https://localhost:8080/",
          "height": 266
        },
        "id": "C_GKb9kNPe1G",
        "outputId": "20aee173-e101-4817-f664-05ffad6352cf"
      },
      "outputs": [
        {
          "output_type": "display_data",
          "data": {
            "text/plain": [
              "<IPython.core.display.HTML object>"
            ],
            "text/html": [
              "\n",
              "<HTML lang=\"ja\">\n",
              "<BODY>\n",
              "\n",
              "<script>\n",
              "  function エレメント取得(エレメントID){\n",
              "    return document.getElementById(エレメントID);\n",
              "  }\n",
              "\n",
              "  function メッセージセット(エレメントID,設定メッセ){\n",
              "    エレメント取得(エレメントID).value = 設定メッセ;\n",
              "  }\n",
              "\n",
              "  function メッセージゲット(エレメントID){\n",
              "    return エレメント取得(エレメントID).value;\n",
              "  }\n",
              "\n",
              "  async function パイソン呼び出すよ(紐づけ名,エレメントID){\n",
              "            const 参照出来るエレメントID = エレメントID\n",
              "            google.colab.kernel.invokeFunction( \n",
              "              紐づけ名 //これがパイソン関数呼ぶための「紐づけた名前」（変数に入れたる）\n",
              "              ,[メッセージゲット(エレメントID)]  //これPython関数への引数のリスト  \n",
              "              , {}  //調べてない、けどなんかすごいことできるかも\n",
              "            ).then( \n",
              "                //Pythonから問題なく帰ってきたら、\n",
              "                //応答物のdataの'application/json'にセットされてる応答をメッセージセットするよ\n",
              "                (応答物) => {\n",
              "                  メッセージセット(\n",
              "                    参照出来るエレメントID\n",
              "                    ,応答物.data['application/json'].応答);\n",
              "                }\n",
              "            )                         \n",
              "  }\n",
              "\n",
              "</script>\n",
              "\n",
              "<pre>\n",
              "こんにちは\n",
              "ありがとう\n",
              "さようなら\n",
              "</pre>\n",
              "\n",
              "<textarea id=\"nanannanan\" cols=40 rows=10>\n",
              "  こにゃ\n",
              "</textarea>\n",
              "\n",
              "<Pre>\n",
              "<button onclick=\"メッセージセット('nanannanan','にゃにゃ');\">ボタン（”にゃにゃ”にする）</button>\n",
              "<button onclick=\"パイソン呼び出すよ('assingnfunc','nanannanan');\">ボタンInvoke</button>\n",
              "</Pre>\n",
              "\n",
              "</BODY>\n",
              "</HTML>\n"
            ]
          },
          "metadata": {}
        }
      ],
      "source": [
        "import IPython\n",
        "\n",
        "Javascriptから呼び返す関数を紐づける=output.register_callback\n",
        "\n",
        "def 何かするPython関数です(もらった文字=\"押したね❢❢\"):\n",
        "  改行コード = '\\n'\n",
        "\n",
        "  #HTML(JavaScript）から呼び出された時の文字に”ありがとう！”を付け足す処理\n",
        "  処理結果 = f\"{もらった文字}ありがとう！{改行コード}\"\n",
        "\n",
        "  #処理結果をJSON形式で応答と言うkeyに設定して返す\n",
        "  return IPython.display.JSON(#JSON形式で\n",
        "      dict( #辞書型にして\n",
        "          応答 = 処理結果\n",
        "      )\n",
        "  )\n",
        "\n",
        "Javascriptから呼び返す関数を紐づける(\n",
        "        \"assingnfunc\"\n",
        "        ,何かするPython関数です) \n",
        "\n",
        "display(IPython.display.HTML('''\n",
        "<HTML lang=\"ja\">\n",
        "<BODY>\n",
        "\n",
        "<script>\n",
        "  function エレメント取得(エレメントID){\n",
        "    return document.getElementById(エレメントID);\n",
        "  }\n",
        "\n",
        "  function メッセージセット(エレメントID,設定メッセ){\n",
        "    エレメント取得(エレメントID).value = 設定メッセ;\n",
        "  }\n",
        "\n",
        "  function メッセージゲット(エレメントID){\n",
        "    return エレメント取得(エレメントID).value;\n",
        "  }\n",
        "\n",
        "  async function パイソン呼び出すよ(紐づけ名,エレメントID){\n",
        "            const 参照出来るエレメントID = エレメントID\n",
        "            google.colab.kernel.invokeFunction( \n",
        "              紐づけ名 //これがパイソン関数呼ぶための「紐づけた名前」（変数に入れたる）\n",
        "              ,[メッセージゲット(エレメントID)]  //これPython関数への引数のリスト  \n",
        "              , {}  //調べてない、けどなんかすごいことできるかも\n",
        "            ).then( \n",
        "                //Pythonから問題なく帰ってきたら、\n",
        "                //応答物のdataの'application/json'にセットされてる応答をメッセージセットするよ\n",
        "                (応答物) => {\n",
        "                  メッセージセット(\n",
        "                    参照出来るエレメントID\n",
        "                    ,応答物.data['application/json'].応答);\n",
        "                }\n",
        "            )                         \n",
        "  }\n",
        "\n",
        "</script>\n",
        "\n",
        "<pre>\n",
        "こんにちは\n",
        "ありがとう\n",
        "さようなら\n",
        "</pre>\n",
        "\n",
        "<textarea id=\"nanannanan\" cols=40 rows=10>\n",
        "  こにゃ\n",
        "</textarea>\n",
        "\n",
        "<Pre>\n",
        "<button onclick=\"メッセージセット('nanannanan','にゃにゃ');\">ボタン（”にゃにゃ”にする）</button>\n",
        "<button onclick=\"パイソン呼び出すよ('assingnfunc','nanannanan');\">ボタンInvoke</button>\n",
        "</Pre>\n",
        "\n",
        "</BODY>\n",
        "</HTML>\n",
        "'''\n",
        "))"
      ]
    },
    {
      "cell_type": "markdown",
      "source": [
        "##以下のColabコードスニペットに指導してもらった\n",
        "\n",
        "https://colab.research.google.com/notebooks/snippets/advanced_outputs.ipynb#scrollTo=QS5x4lFf0fJE\n"
      ],
      "metadata": {
        "id": "d28XC9cQiAIk"
      }
    },
    {
      "cell_type": "markdown",
      "metadata": {
        "id": "QS5x4lFf0fJE"
      },
      "source": [
        "### Persisting Updates\n",
        "\n",
        "Since `invokeFunction` is only available for outputs which have executed within the current session\n",
        "then it may be desirable to update the notebook so the changes take effect on notebook reload. An example\n",
        "of doing this."
      ]
    },
    {
      "cell_type": "code",
      "execution_count": null,
      "metadata": {
        "id": "bn4q0OAA0ek5",
        "colab": {
          "base_uri": "https://localhost:8080/",
          "height": 119
        },
        "outputId": "d9b4c2e0-2322-4ab2-bcdb-f293eaabb4d8"
      },
      "outputs": [
        {
          "output_type": "display_data",
          "data": {
            "text/plain": [
              "<IPython.core.display.HTML object>"
            ],
            "text/html": [
              "\n",
              "    The items:\n",
              "    <br><ol id=\"items\"></ol>\n",
              "    <button id='button'>Click to add</button>\n",
              "    <script>\n",
              "      document.querySelector('#button').onclick = () => {\n",
              "        google.colab.kernel.invokeFunction('notebook.AddListItem', [], {});\n",
              "      };\n",
              "    </script>\n",
              "    "
            ]
          },
          "metadata": {}
        },
        {
          "output_type": "display_data",
          "data": {
            "text/plain": [
              "<IPython.core.display.Javascript object>"
            ],
            "application/javascript": [
              "window[\"1cbdddc0-41c5-11ed-80c4-0242ac1c0002\"] = google.colab.output.getActiveOutputArea();\n",
              "//# sourceURL=js_367718590e"
            ]
          },
          "metadata": {}
        },
        {
          "output_type": "display_data",
          "data": {
            "text/plain": [
              "<IPython.core.display.Javascript object>"
            ],
            "application/javascript": [
              "window[\"1cbe5c3c-41c5-11ed-80c4-0242ac1c0002\"] = document.querySelector(\"#items\");\n",
              "//# sourceURL=js_2e1c9fa749"
            ]
          },
          "metadata": {}
        },
        {
          "output_type": "display_data",
          "data": {
            "text/plain": [
              "<IPython.core.display.Javascript object>"
            ],
            "application/javascript": [
              "window[\"1cbf3c9c-41c5-11ed-80c4-0242ac1c0002\"] = google.colab.output.setActiveOutputArea(window[\"1cbe5c3c-41c5-11ed-80c4-0242ac1c0002\"]);\n",
              "//# sourceURL=js_dbcf33b6ee"
            ]
          },
          "metadata": {}
        },
        {
          "output_type": "display_data",
          "data": {
            "text/plain": [
              "<IPython.core.display.HTML object>"
            ],
            "text/html": [
              "<li> Another item</li>"
            ]
          },
          "metadata": {}
        },
        {
          "output_type": "display_data",
          "data": {
            "text/plain": [
              "<IPython.core.display.Javascript object>"
            ],
            "application/javascript": [
              "window[\"1cc05d20-41c5-11ed-80c4-0242ac1c0002\"] = google.colab.output.setActiveOutputArea(window[\"1cbdddc0-41c5-11ed-80c4-0242ac1c0002\"]);\n",
              "//# sourceURL=js_90860f2c44"
            ]
          },
          "metadata": {}
        },
        {
          "output_type": "display_data",
          "data": {
            "text/plain": [
              "<IPython.core.display.Javascript object>"
            ],
            "application/javascript": [
              "window[\"1e4fb366-41c5-11ed-80c4-0242ac1c0002\"] = google.colab.output.getActiveOutputArea();\n",
              "//# sourceURL=js_46869069c6"
            ]
          },
          "metadata": {}
        },
        {
          "output_type": "display_data",
          "data": {
            "text/plain": [
              "<IPython.core.display.Javascript object>"
            ],
            "application/javascript": [
              "window[\"1e504a10-41c5-11ed-80c4-0242ac1c0002\"] = document.querySelector(\"#items\");\n",
              "//# sourceURL=js_f26de576e3"
            ]
          },
          "metadata": {}
        },
        {
          "output_type": "display_data",
          "data": {
            "text/plain": [
              "<IPython.core.display.Javascript object>"
            ],
            "application/javascript": [
              "window[\"1e50e86c-41c5-11ed-80c4-0242ac1c0002\"] = google.colab.output.setActiveOutputArea(window[\"1e504a10-41c5-11ed-80c4-0242ac1c0002\"]);\n",
              "//# sourceURL=js_fa2b6d83ce"
            ]
          },
          "metadata": {}
        },
        {
          "output_type": "display_data",
          "data": {
            "text/plain": [
              "<IPython.core.display.HTML object>"
            ],
            "text/html": [
              "<li> Another item</li>"
            ]
          },
          "metadata": {}
        },
        {
          "output_type": "display_data",
          "data": {
            "text/plain": [
              "<IPython.core.display.Javascript object>"
            ],
            "application/javascript": [
              "window[\"1e520f76-41c5-11ed-80c4-0242ac1c0002\"] = google.colab.output.setActiveOutputArea(window[\"1e4fb366-41c5-11ed-80c4-0242ac1c0002\"]);\n",
              "//# sourceURL=js_873b7618fc"
            ]
          },
          "metadata": {}
        }
      ],
      "source": [
        "import IPython\n",
        "from google.colab import output\n",
        "\n",
        "display(IPython.display.HTML('''\n",
        "    The items:\n",
        "    <br><ol id=\"items\"></ol>\n",
        "    <button id='button'>Click to add</button>\n",
        "    <script>\n",
        "      document.querySelector('#button').onclick = () => {\n",
        "        google.colab.kernel.invokeFunction('notebook.AddListItem', [], {});\n",
        "      };\n",
        "    </script>\n",
        "    '''))\n",
        "\n",
        "def add_list_item():\n",
        "  # Use redirect_to_element to direct the elements which are being written.\n",
        "  with output.redirect_to_element('#items'):\n",
        "    # Use display to add items which will be persisted on notebook reload.\n",
        "    display(IPython.display.HTML('<li> Another item</li>'))\n",
        "\n",
        "output.register_callback('notebook.AddListItem', add_list_item)"
      ]
    }
  ]
}