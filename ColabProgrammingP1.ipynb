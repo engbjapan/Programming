{
  "nbformat": 4,
  "nbformat_minor": 0,
  "metadata": {
    "colab": {
      "provenance": [],
      "collapsed_sections": [],
      "authorship_tag": "ABX9TyPzTcNfAYgheCiLZGaOSndA",
      "include_colab_link": true
    },
    "kernelspec": {
      "name": "python3",
      "display_name": "Python 3"
    },
    "language_info": {
      "name": "python"
    }
  },
  "cells": [
    {
      "cell_type": "markdown",
      "metadata": {
        "id": "view-in-github",
        "colab_type": "text"
      },
      "source": [
        "<a href=\"https://colab.research.google.com/github/engbJapan/Programming/blob/main/ColabProgrammingP1.ipynb\" target=\"_parent\"><img src=\"https://colab.research.google.com/assets/colab-badge.svg\" alt=\"Open In Colab\"/></a>"
      ]
    },
    {
      "cell_type": "markdown",
      "source": [
        "#Colabでプログラミング一回目\n",
        "\n",
        "Note記事\n",
        "\n",
        "https://note.com/kokkkorokoro/n/n0a7593cbe616"
      ],
      "metadata": {
        "id": "z-88_ASPGwFq"
      }
    },
    {
      "cell_type": "markdown",
      "source": [
        "## 日本語化の準備コード"
      ],
      "metadata": {
        "id": "UjhJ2A1fHGzR"
      }
    },
    {
      "cell_type": "code",
      "execution_count": 4,
      "metadata": {
        "id": "NqLivRYLGoe6"
      },
      "outputs": [],
      "source": [
        "# Python組み込み関数の input と print を「入力」と「表示」という変数に紐づけます\n",
        "入力=input\n",
        "表示=print"
      ]
    },
    {
      "cell_type": "markdown",
      "source": [
        "## シナリオ部分のコード"
      ],
      "metadata": {
        "id": "GblR30ngIfMf"
      }
    },
    {
      "cell_type": "markdown",
      "source": [
        "### パターン１"
      ],
      "metadata": {
        "id": "TOADr9VTMo6O"
      }
    },
    {
      "cell_type": "code",
      "source": [
        "あなたの名前 = 入力(\n",
        "  \"あなたはどなた？「いれたくなければEnterだけで良いよ」：\"\n",
        ")\n",
        "表示させる文字 = \"ようこそ❢\" + ( あなたの名前 if ( あなたの名前 != \"\" ) \n",
        "                                               else \"誰かしらないあなた\"  \n",
        "                                )\n",
        "表示( 表示させる文字 )\n",
        "# 以上 "
      ],
      "metadata": {
        "colab": {
          "base_uri": "https://localhost:8080/"
        },
        "id": "VKOpxI_BIt2k",
        "outputId": "8b5a1428-f4dc-4462-ffef-23f07cfeb1ba"
      },
      "execution_count": 8,
      "outputs": [
        {
          "output_type": "stream",
          "name": "stdout",
          "text": [
            "あなたはどなた？「いれたくなければEnterだけで良いよ」：こっころ\n",
            "ようこそ❢こっころ\n"
          ]
        }
      ]
    },
    {
      "cell_type": "markdown",
      "source": [
        "### パターン１の英語コード"
      ],
      "metadata": {
        "id": "euuhnL9KNbwZ"
      }
    },
    {
      "cell_type": "code",
      "source": [
        "your_name = input(\n",
        "  \"あなたはどなた？「いれたくなければEnterだけで良いよ」：\"\n",
        ")\n",
        "output_str = \"ようこそ❢\" + ( your_name if ( your_name != \"\" ) \n",
        "                                               else \"誰かしらないあなた\"  \n",
        "                                )\n",
        "print( output_str )\n",
        "#以上"
      ],
      "metadata": {
        "colab": {
          "base_uri": "https://localhost:8080/"
        },
        "id": "LyWSYlkTNlSM",
        "outputId": "eba0f7b8-9d2d-473c-87d8-726fbe85368c"
      },
      "execution_count": 9,
      "outputs": [
        {
          "output_type": "stream",
          "name": "stdout",
          "text": [
            "あなたはどなた？「いれたくなければEnterだけで良いよ」：\n",
            "ようこそ❢誰かしらないあなた\n"
          ]
        }
      ]
    },
    {
      "cell_type": "markdown",
      "source": [
        "### パターン２"
      ],
      "metadata": {
        "id": "Klh-VxgRMv-E"
      }
    },
    {
      "cell_type": "code",
      "source": [
        "あなたの文字 = 入力(\n",
        "  \"君の名は？「いれたくなければEnterだけで良いよ」：\"\n",
        ")\n",
        "表示させる文字 = \"おはようございます。\" + ( あなたの文字 if ( あなたの文字 != \"\" ) \n",
        "                                               else \"誰かしらないあなた\"  \n",
        "                                ) + \"さん❢\"\n",
        "表示( 表示させる文字 )\n",
        "# 以上 "
      ],
      "metadata": {
        "colab": {
          "base_uri": "https://localhost:8080/"
        },
        "id": "_7b9qRRKMU6N",
        "outputId": "7376ab1c-e0cd-43c7-9917-4a535a9c55f1"
      },
      "execution_count": 6,
      "outputs": [
        {
          "output_type": "stream",
          "name": "stdout",
          "text": [
            "君の名は？「いれたくなければEnterだけで良いよ」：\n",
            "おはようございます。誰かしらないあなたさん❢\n"
          ]
        }
      ]
    }
  ]
}