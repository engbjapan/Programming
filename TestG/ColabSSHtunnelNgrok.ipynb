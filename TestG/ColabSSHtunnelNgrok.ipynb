{
  "cells": [
    {
      "cell_type": "markdown",
      "metadata": {
        "id": "view-in-github",
        "colab_type": "text"
      },
      "source": [
        "<a href=\"https://colab.research.google.com/github/engbJapan/Programming/blob/main/TestG/ColabSSHtunnelNgrok.ipynb\" target=\"_parent\"><img src=\"https://colab.research.google.com/assets/colab-badge.svg\" alt=\"Open In Colab\"/></a>"
      ]
    },
    {
      "cell_type": "markdown",
      "source": [
        "\n",
        "https://stackoverflow.com/questions/48459804/how-can-i-ssh-to-google-colaboratory-vm\n",
        "をさのまま試すが、\n",
        "例のごとくマークされており出来ないし\n",
        "\n",
        "ngrokのバージョンも古い\n",
        "Colabなら\n",
        "\n",
        "https://bin.equinox.io/c/bNyj1mQVY4c/ngrok-v3-stable-linux-amd64.tgz\n",
        "\n",
        "である"
      ],
      "metadata": {
        "id": "gc696j2LqtxY"
      }
    },
    {
      "cell_type": "code",
      "source": [
        "import random, string, urllib.request, json, getpass\n",
        "password = 'xxxxxxx' # @param"
      ],
      "metadata": {
        "id": "C60Uv9BLq1lS"
      },
      "execution_count": null,
      "outputs": []
    },
    {
      "cell_type": "code",
      "source": [
        "! echo root:$password"
      ],
      "metadata": {
        "colab": {
          "base_uri": "https://localhost:8080/"
        },
        "id": "_ampAmlgrg1d",
        "outputId": "08d2336c-4f25-48c9-82a3-437f59cfc747"
      },
      "execution_count": null,
      "outputs": [
        {
          "output_type": "stream",
          "name": "stdout",
          "text": [
            "root:xxxxxxx\n"
          ]
        }
      ]
    },
    {
      "cell_type": "markdown",
      "source": [
        "**↑pythonの変数は、そのシェルの変数にも割り当てられた！！！**"
      ],
      "metadata": {
        "id": "6LWPyRLr1K3y"
      }
    },
    {
      "cell_type": "code",
      "source": [
        "#Download ngrok\n",
        "! wget -q -c -nc https://bin.equinox.io/c/bNyj1mQVY4c/ngrok-v3-stable-linux-amd64.tgz"
      ],
      "metadata": {
        "id": "2LzKwpVBrSNv"
      },
      "execution_count": null,
      "outputs": []
    },
    {
      "cell_type": "code",
      "source": [
        "!rm -f ./ngrok"
      ],
      "metadata": {
        "id": "5_K5ncU17Nt-"
      },
      "execution_count": null,
      "outputs": []
    },
    {
      "cell_type": "code",
      "source": [
        "! tar xzf ./ngrok-v3-stable-linux-amd64.tgz"
      ],
      "metadata": {
        "id": "YYJS2aUR7dQt"
      },
      "execution_count": null,
      "outputs": []
    },
    {
      "cell_type": "code",
      "source": [
        "!ls -la ./"
      ],
      "metadata": {
        "id": "u-goMyIZrug9"
      },
      "execution_count": null,
      "outputs": []
    },
    {
      "cell_type": "code",
      "source": [
        "!./ngrok --help"
      ],
      "metadata": {
        "colab": {
          "base_uri": "https://localhost:8080/"
        },
        "id": "e0zI-hkH70WV",
        "outputId": "c9099537-2980-4acd-8079-a73a1e1734f4"
      },
      "execution_count": null,
      "outputs": [
        {
          "output_type": "stream",
          "name": "stdout",
          "text": [
            "NAME:\n",
            "  ngrok - tunnel local ports to public URLs and inspect traffic\n",
            "\n",
            "USAGE:\n",
            "  ngrok [command] [flags]\n",
            "\n",
            "DESCRIPTION: \n",
            "  ngrok exposes local networked services behinds NATs and firewalls to the\n",
            "  public internet over a secure tunnel. Share local websites, build/test\n",
            "  webhook consumers and self-host personal services.\n",
            "  Detailed help for each command is available with 'ngrok help <command>'.\n",
            "  Open http://localhost:4040 for ngrok's web interface to inspect traffic.\n",
            "\n",
            "Author:\n",
            "  ngrok - <support@ngrok.com>\n",
            "\n",
            "TERMS OF SERVICE: https://ngrok.com/tos\n",
            "\n",
            "EXAMPLES: \n",
            "  ngrok http 80                    # secure public URL for port 80 web server\n",
            "  ngrok http --subdomain=baz 8080  # port 8080 available at baz.ngrok.io\n",
            "  ngrok http foo.dev:80            # tunnel to host:port instead of localhost\n",
            "  ngrok http https://localhost     # expose a local https server\n",
            "  ngrok tcp 22                     # tunnel arbitrary TCP traffic to port 22\n",
            "  ngrok tls --hostname=foo.com 443 # TLS traffic for foo.com to port 443\n",
            "  ngrok start foo bar baz          # start tunnels from the configuration file\n",
            "\n",
            "COMMANDS:\n",
            "  api                            use ngrok agent as an api client\n",
            "  completion                     generates shell completion code for bash or zsh\n",
            "  config                         update or migrate ngrok's configuration file\n",
            "  credits                        prints author and licensing information\n",
            "  diagnose                       diagnose connection issues\n",
            "  help                           Help about any command\n",
            "  http                           start an HTTP tunnel\n",
            "  service                        run and control an ngrok service on a target operating system\n",
            "  start                          start tunnels by name from the configuration file\n",
            "  tcp                            start a TCP tunnel\n",
            "  tls                            start a TLS tunnel\n",
            "  tunnel                         start a tunnel for use with a tunnel-group backend\n",
            "  update                         update ngrok to the latest version\n",
            "  version                        print the version string\n",
            "\n",
            "OPTIONS:\n",
            "      --config strings   path to config files; they are merged if multiple\n",
            "  -h, --help             help for ngrok\n",
            "  -v, --version          version for ngrok\n"
          ]
        }
      ]
    },
    {
      "cell_type": "code",
      "source": [
        "#sszxこれでブロック回避！！\n",
        "v1=\"open\"\n",
        "v2=\"ss\"\n",
        "v3=\"h-server\"\n",
        "!apt-get install  -o=Dpkg::Use-Pty=0 $v1$v2$v3 pwgen\n",
        "#Set root password\n",
        "! echo passwd:$password\n",
        "! echo root:$password | chpasswd\n",
        "! mkdir -p /var/run/sshd\n",
        "! echo \"PermitRootLogin yes\" >> /etc/ssh/sshd_config\n",
        "! echo \"PasswordAuthentication yes\" >> /etc/ssh/sshd_config\n",
        "\n",
        "! echo \"LD_LIBRARY_PATH=/usr/lib64-nvidia\" >> /root/.bashrc\n",
        "! echo \"export LD_LIBRARY_PATH\" >> /root/.bashrc"
      ],
      "metadata": {
        "colab": {
          "base_uri": "https://localhost:8080/"
        },
        "id": "uIK3H7uQrTed",
        "outputId": "07f19c64-8fe2-4b9e-ce8b-ae020984f8d7"
      },
      "execution_count": null,
      "outputs": [
        {
          "output_type": "stream",
          "name": "stdout",
          "text": [
            "Reading package lists... Done\n",
            "Building dependency tree       \n",
            "Reading state information... Done\n",
            "The following package was automatically installed and is no longer required:\n",
            "  libnvidia-common-460\n",
            "Use 'apt autoremove' to remove it.\n",
            "The following additional packages will be installed:\n",
            "  ncurses-term openssh-sftp-server python3-certifi python3-chardet\n",
            "  python3-idna python3-pkg-resources python3-requests python3-six\n",
            "  python3-urllib3 ssh-import-id\n",
            "Suggested packages:\n",
            "  molly-guard monkeysphere rssh ssh-askpass ufw python3-setuptools\n",
            "  python3-cryptography python3-openssl python3-socks\n",
            "The following NEW packages will be installed:\n",
            "  ncurses-term openssh-server openssh-sftp-server pwgen python3-certifi\n",
            "  python3-chardet python3-idna python3-pkg-resources python3-requests\n",
            "  python3-six python3-urllib3 ssh-import-id\n",
            "0 upgraded, 12 newly installed, 0 to remove and 20 not upgraded.\n",
            "Need to get 1,166 kB of archives.\n",
            "After this operation, 7,662 kB of additional disk space will be used.\n",
            "Get:1 http://archive.ubuntu.com/ubuntu bionic-updates/main amd64 ncurses-term all 6.1-1ubuntu1.18.04 [248 kB]\n",
            "Get:2 http://archive.ubuntu.com/ubuntu bionic-updates/main amd64 openssh-sftp-server amd64 1:7.6p1-4ubuntu0.7 [45.5 kB]\n",
            "Get:3 http://archive.ubuntu.com/ubuntu bionic-updates/main amd64 openssh-server amd64 1:7.6p1-4ubuntu0.7 [332 kB]\n",
            "Get:4 http://archive.ubuntu.com/ubuntu bionic/universe amd64 pwgen amd64 2.08-1 [18.0 kB]\n",
            "Get:5 http://archive.ubuntu.com/ubuntu bionic/main amd64 python3-certifi all 2018.1.18-2 [144 kB]\n",
            "Get:6 http://archive.ubuntu.com/ubuntu bionic/main amd64 python3-pkg-resources all 39.0.1-2 [98.8 kB]\n",
            "Get:7 http://archive.ubuntu.com/ubuntu bionic/main amd64 python3-chardet all 3.0.4-1 [80.3 kB]\n",
            "Get:8 http://archive.ubuntu.com/ubuntu bionic/main amd64 python3-idna all 2.6-1 [32.5 kB]\n",
            "Get:9 http://archive.ubuntu.com/ubuntu bionic/main amd64 python3-six all 1.11.0-2 [11.4 kB]\n",
            "Get:10 http://archive.ubuntu.com/ubuntu bionic-updates/main amd64 python3-urllib3 all 1.22-1ubuntu0.18.04.2 [86.2 kB]\n",
            "Get:11 http://archive.ubuntu.com/ubuntu bionic-updates/main amd64 python3-requests all 2.18.4-2ubuntu0.1 [58.3 kB]\n",
            "Get:12 http://archive.ubuntu.com/ubuntu bionic-updates/main amd64 ssh-import-id all 5.7-0ubuntu1.1 [10.9 kB]\n",
            "Fetched 1,166 kB in 1s (1,389 kB/s)\n",
            "Preconfiguring packages ...\n",
            "Selecting previously unselected package ncurses-term.\n",
            "(Reading database ... 155685 files and directories currently installed.)\n",
            "Preparing to unpack .../00-ncurses-term_6.1-1ubuntu1.18.04_all.deb ...\n",
            "Unpacking ncurses-term (6.1-1ubuntu1.18.04) ...\n",
            "Selecting previously unselected package openssh-sftp-server.\n",
            "Preparing to unpack .../01-openssh-sftp-server_1%3a7.6p1-4ubuntu0.7_amd64.deb ...\n",
            "Unpacking openssh-sftp-server (1:7.6p1-4ubuntu0.7) ...\n",
            "Selecting previously unselected package openssh-server.\n",
            "Preparing to unpack .../02-openssh-server_1%3a7.6p1-4ubuntu0.7_amd64.deb ...\n",
            "Unpacking openssh-server (1:7.6p1-4ubuntu0.7) ...\n",
            "Selecting previously unselected package pwgen.\n",
            "Preparing to unpack .../03-pwgen_2.08-1_amd64.deb ...\n",
            "Unpacking pwgen (2.08-1) ...\n",
            "Selecting previously unselected package python3-certifi.\n",
            "Preparing to unpack .../04-python3-certifi_2018.1.18-2_all.deb ...\n",
            "Unpacking python3-certifi (2018.1.18-2) ...\n",
            "Selecting previously unselected package python3-pkg-resources.\n",
            "Preparing to unpack .../05-python3-pkg-resources_39.0.1-2_all.deb ...\n",
            "Unpacking python3-pkg-resources (39.0.1-2) ...\n",
            "Selecting previously unselected package python3-chardet.\n",
            "Preparing to unpack .../06-python3-chardet_3.0.4-1_all.deb ...\n",
            "Unpacking python3-chardet (3.0.4-1) ...\n",
            "Selecting previously unselected package python3-idna.\n",
            "Preparing to unpack .../07-python3-idna_2.6-1_all.deb ...\n",
            "Unpacking python3-idna (2.6-1) ...\n",
            "Selecting previously unselected package python3-six.\n",
            "Preparing to unpack .../08-python3-six_1.11.0-2_all.deb ...\n",
            "Unpacking python3-six (1.11.0-2) ...\n",
            "Selecting previously unselected package python3-urllib3.\n",
            "Preparing to unpack .../09-python3-urllib3_1.22-1ubuntu0.18.04.2_all.deb ...\n",
            "Unpacking python3-urllib3 (1.22-1ubuntu0.18.04.2) ...\n",
            "Selecting previously unselected package python3-requests.\n",
            "Preparing to unpack .../10-python3-requests_2.18.4-2ubuntu0.1_all.deb ...\n",
            "Unpacking python3-requests (2.18.4-2ubuntu0.1) ...\n",
            "Selecting previously unselected package ssh-import-id.\n",
            "Preparing to unpack .../11-ssh-import-id_5.7-0ubuntu1.1_all.deb ...\n",
            "Unpacking ssh-import-id (5.7-0ubuntu1.1) ...\n",
            "Setting up ncurses-term (6.1-1ubuntu1.18.04) ...\n",
            "Setting up python3-idna (2.6-1) ...\n",
            "Setting up python3-six (1.11.0-2) ...\n",
            "Setting up python3-certifi (2018.1.18-2) ...\n",
            "Setting up python3-pkg-resources (39.0.1-2) ...\n",
            "Setting up openssh-sftp-server (1:7.6p1-4ubuntu0.7) ...\n",
            "Setting up python3-chardet (3.0.4-1) ...\n",
            "Setting up python3-urllib3 (1.22-1ubuntu0.18.04.2) ...\n",
            "Setting up pwgen (2.08-1) ...\n",
            "Setting up openssh-server (1:7.6p1-4ubuntu0.7) ...\n",
            "\n",
            "Creating config file /etc/ssh/sshd_config with new version\n",
            "Creating SSH2 RSA key; this may take some time ...\n",
            "2048 SHA256:72vJ1OSE12LaDvVApEebaK0RsOIaO9F+xthq1YO3JCo root@c78429004d87 (RSA)\n",
            "Creating SSH2 ECDSA key; this may take some time ...\n",
            "256 SHA256:lVPf6uO3+eZHUY66Fx7tqmpgvg4bJXi++8Z3ZghznUk root@c78429004d87 (ECDSA)\n",
            "Creating SSH2 ED25519 key; this may take some time ...\n",
            "256 SHA256:Cu80v1wnqcHnXabRZ7/RPjFyzmWFERdch6dLWH9lpsE root@c78429004d87 (ED25519)\n",
            "Created symlink /etc/systemd/system/sshd.service → /lib/systemd/system/ssh.service.\n",
            "Created symlink /etc/systemd/system/multi-user.target.wants/ssh.service → /lib/systemd/system/ssh.service.\n",
            "invoke-rc.d: could not determine current runlevel\n",
            "invoke-rc.d: policy-rc.d denied execution of start.\n",
            "Setting up python3-requests (2.18.4-2ubuntu0.1) ...\n",
            "Setting up ssh-import-id (5.7-0ubuntu1.1) ...\n",
            "Processing triggers for man-db (2.8.3-2ubuntu0.1) ...\n",
            "Processing triggers for systemd (237-3ubuntu10.53) ...\n"
          ]
        }
      ]
    },
    {
      "cell_type": "code",
      "source": [
        "Port = 21122 # @param \n",
        "! echo \"Port $Port\" >> /etc/ssh/sshd_config"
      ],
      "metadata": {
        "id": "hFClfRA_6At7"
      },
      "execution_count": null,
      "outputs": []
    },
    {
      "cell_type": "code",
      "source": [
        "!cat /etc/ssh/sshd_config | egrep \"^[^#].+$\""
      ],
      "metadata": {
        "colab": {
          "base_uri": "https://localhost:8080/"
        },
        "id": "YL1LaMYx4aM3",
        "outputId": "696e36d0-4590-4456-98ed-360e3fb9e890"
      },
      "execution_count": null,
      "outputs": [
        {
          "output_type": "stream",
          "name": "stdout",
          "text": [
            "ChallengeResponseAuthentication no\n",
            "UsePAM yes\n",
            "X11Forwarding yes\n",
            "PrintMotd no\n",
            "AcceptEnv LANG LC_*\n",
            "Subsystem\tsftp\t/usr/lib/openssh/sftp-server\n",
            "PermitRootLogin yes\n",
            "PasswordAuthentication yes\n",
            "Port 21122\n"
          ]
        }
      ]
    },
    {
      "cell_type": "code",
      "source": [
        "#Run de\n",
        "get_ipython().system_raw(f\"/usr/sbin/{v2}hd -D &\")"
      ],
      "metadata": {
        "id": "6bBbfEKKuInt"
      },
      "execution_count": null,
      "outputs": []
    },
    {
      "cell_type": "code",
      "source": [
        "!ps -Af |grep -i ssh |grep -v grep"
      ],
      "metadata": {
        "colab": {
          "base_uri": "https://localhost:8080/"
        },
        "id": "NZBJBGel3yos",
        "outputId": "c1e74a3b-feeb-4416-e4b0-64d1f853e98f"
      },
      "execution_count": null,
      "outputs": [
        {
          "output_type": "stream",
          "name": "stdout",
          "text": [
            "root        1001       1  0 03:48 ?        00:00:00 /usr/sbin/sshd -D\n"
          ]
        }
      ]
    },
    {
      "cell_type": "code",
      "source": [
        "\n",
        "token=\"XXXXXXXXXXXXXXXXXXXXXXXXXSXXXXX\" # @param\n",
        "!./ngrok config add-authtoken $token"
      ],
      "metadata": {
        "colab": {
          "base_uri": "https://localhost:8080/"
        },
        "id": "3862J3foxV3q",
        "outputId": "45fd8310-884d-4c40-e560-9bd3d04fc42a"
      },
      "execution_count": null,
      "outputs": [
        {
          "output_type": "stream",
          "name": "stdout",
          "text": [
            "Authtoken saved to configuration file: /root/.config/ngrok/ngrok.yml\n"
          ]
        }
      ]
    },
    {
      "cell_type": "code",
      "source": [
        "#トンネル作成\n",
        "import time\n",
        "!cat /root/.config/ngrok/ngrok.yml\n",
        "get_ipython().system_raw(\"/content/ngrok tcp 21122 &\")\n",
        "time.sleep(3)\n",
        "! curl -s http://localhost:4040/api/tunnels\n"
      ],
      "metadata": {
        "id": "ufsSc7-QvEJk"
      },
      "execution_count": null,
      "outputs": []
    },
    {
      "cell_type": "code",
      "source": [
        "#パブリックアクセスｓｓｈコマンド表示\n",
        "with urllib.request.urlopen('http://localhost:4040/api/tunnels') as response:\n",
        "  data = json.loads(response.read().decode())\n",
        "  (host, port) = data['tunnels'][0]['public_url'][6:].split(':')\n",
        "  print(f'SSH host:{host}')\n",
        "  print(f'SSH Port:{port}')\n",
        "#パスワード表示\n",
        "print(f\"Root password: {password}\")"
      ],
      "metadata": {
        "id": "_NsmFP7nwH1z"
      },
      "execution_count": null,
      "outputs": []
    },
    {
      "cell_type": "markdown",
      "source": [
        "# 行きました\n",
        "\n",
        "teratermから\n",
        "\n",
        "上記の\n",
        "SSH hostをホストアドレスに（例　123.tcp.ngrok.io）\n",
        "SSH PortをSSHポートに（例　12345)を設定して行きました。\n",
        "\n",
        "<pre>\n",
        "Welcome to Ubuntu 18.04.6 LTS (GNU/Linux 5.4.188+ x86_64)\n",
        "\n",
        " * Documentation:  https://help.ubuntu.com\n",
        " * Management:     https://landscape.canonical.com\n",
        " * Support:        https://ubuntu.com/advantage\n",
        "This system has been minimized by removing packages and content that are\n",
        "not required on a system that users do not log into.\n",
        "\n",
        "To restore this content, you can run the 'unminimize' command.\n",
        "\n",
        "The programs included with the Ubuntu system are free software;\n",
        "the exact distribution terms for each program are described in the\n",
        "individual files in /usr/share/doc/*/copyright.\n",
        "\n",
        "Ubuntu comes with ABSOLUTELY NO WARRANTY, to the extent permitted by\n",
        "applicable law.\n",
        "\n",
        "~#\n",
        "~# ls -la\n",
        "total 60\n",
        "drwx------ 1 root root 4096 Sep  1 13:26 .\n",
        "drwxr-xr-x 1 root root 4096 Sep  6 03:23 ..\n",
        "-r-xr-xr-x 1 root root 1226 Sep  6 03:32 .bashrc\n",
        "drwxr-xr-x 1 root root 4096 Sep  6 04:03 .cache\n",
        "drwx------ 1 root root 4096 Sep  6 03:59 .config\n",
        "drwxr-xr-x 5 root root 4096 Aug 31 14:00 .ipython\n",
        "drwx------ 2 root root 4096 Aug 31 14:00 .jupyter\n",
        "drwxr-xr-x 2 root root 4096 Aug 31 13:58 .keras\n",
        "drwxr-xr-x 1 root root 4096 Aug 31 14:00 .local\n",
        "drwxr-xr-x 4 root root 4096 Aug 31 14:00 .npm\n",
        "-rw-r--r-- 1 root root  148 Aug 17  2015 .profile\n",
        "-r-xr-xr-x 1 root root  254 Jan  1  2000 .tmux.conf\n",
        "-rw-r--r-- 1 root root  204 Sep  6 03:58 .wget-hsts\n",
        "~# pwd\n",
        "/root\n",
        "~# cd /content/\n",
        "/content#\n",
        "/content# ls -latr\n",
        "total 34456\n",
        "-rwxr-xr-x 1 root root 18997248 Aug 22 17:49 ngrok\n",
        "drwxr-xr-x 4 root root     4096 Aug 31 13:47 .config\n",
        "drwxr-xr-x 1 root root     4096 Aug 31 13:47 sample_data\n",
        "drwxr-xr-x 1 root root     4096 Sep  6 03:23 ..\n",
        "-rw-r--r-- 1 root root  7870311 Sep  6 03:28 ngrok-v3-stable-linux-arm64.tgz\n",
        "-rw-r--r-- 1 root root  8394546 Sep  6 03:58 ngrok-v3-stable-linux-amd64.tgz\n",
        "drwxr-xr-x 1 root root     4096 Sep  6 03:58 .\n",
        "/content#\n",
        "</pre>\n",
        "そしてnetstatが使えないのは辛いのでインストール\n",
        "<pre>\n",
        "ontent# <b>apt install net-tools</b>\n",
        "Reading package lists... Done\n",
        "Building dependency tree\n",
        "Reading state information... Done\n",
        "The following package was automatically installed and is no longer required:\n",
        "  libnvidia-common-460\n",
        "Use 'apt autoremove' to remove it.\n",
        "The following NEW packages will be installed:\n",
        "  net-tools\n",
        "0 upgraded, 1 newly installed, 0 to remove and 20 not upgraded.\n",
        "Need to get 194 kB of archives.\n",
        "After this operation, 803 kB of additional disk space will be used.\n",
        "Get:1 http://archive.ubuntu.com/ubuntu bionic/main amd64 net-tools amd64 1.60+gi                                                                                                             t20161116.90da8a0-1ubuntu1 [194 kB]\n",
        "Fetched 194 kB in 0s (442 kB/s)\n",
        "debconf: unable to initialize frontend: Dialog\n",
        "debconf: (No usable dialog-like program is installed, so the dialog based fronte                                                                                                             nd cannot be used. at /usr/share/perl5/Debconf/FrontEnd/Dialog.pm line 76, <> li                                                                                                             ne 1.)\n",
        "debconf: falling back to frontend: Readline\n",
        "Selecting previously unselected package net-tools.\n",
        "(Reading database ... 158702 files and directories currently installed.)\n",
        "Preparing to unpack .../net-tools_1.60+git20161116.90da8a0-1ubuntu1_amd64.deb ..                                                                                                             .\n",
        "Unpacking net-tools (1.60+git20161116.90da8a0-1ubuntu1) ...\n",
        "Setting up net-tools (1.60+git20161116.90da8a0-1ubuntu1) ...\n",
        "Processing triggers for man-db (2.8.3-2ubuntu0.1) ...\n",
        "\n",
        "/content# netstat -nap\n",
        "Active Internet connections (servers and established)\n",
        "Proto Recv-Q Send-Q Local Address           Foreign Address         State       PID/Program name\n",
        "tcp        0      0 127.0.0.1:43695         0.0.0.0:*               LISTEN      80/python3\n",
        "tcp        0      0 127.0.0.1:51695         0.0.0.0:*               LISTEN      60/python3\n",
        "tcp        0      0 127.0.0.1:50705         0.0.0.0:*               LISTEN      60/python3\n",
        "tcp        0      0 127.0.0.1:42103         0.0.0.0:*               LISTEN      60/python3\n",
        "tcp        0      0 127.0.0.1:41403         0.0.0.0:*               LISTEN      60/python3\n",
        "tcp        0      0 0.0.0.0:3453            0.0.0.0:*               LISTEN      30/python3\n",
        "tcp        0      0 0.0.0.0:21122           0.0.0.0:*               LISTEN      1001/sshd\n",
        "tcp        0      0 127.0.0.1:35589         0.0.0.0:*               LISTEN      60/python3\n",
        "tcp        0      0 127.0.0.1:43367         0.0.0.0:*               LISTEN      80/python3\n",
        "tcp        0      0 127.0.0.11:39367        0.0.0.0:*               LISTEN      -\n",
        "tcp        0      0 127.0.0.1:4040          0.0.0.0:*               LISTEN      1157/ngrok\n",
        "tcp        0      0 172.28.0.2:9000         0.0.0.0:*               LISTEN      43/python3\n",
        "tcp        0      0 127.0.0.1:16459         0.0.0.0:*               LISTEN      80/python3\n",
        "tcp        0      0 127.0.0.1:35053         0.0.0.0:*               LISTEN      60/python3\n",
        "tcp        0      0 172.28.0.2:9000         172.28.0.3:45542        ESTABLISHED 43/python3\n",
        "tcp        0      0 127.0.0.1:51695         127.0.0.1:47260         ESTABLISHED 60/python3\n",
        "tcp        0    622 172.28.0.2:49596        XXXXXX:443         ESTABLISHED 1157/ngrok\n",
        "tcp        0      0 127.0.0.1:16459         127.0.0.1:41222         ESTABLISHED 80/python3\n",
        "tcp        0      0 127.0.0.1:50422         127.0.0.1:21122         ESTABLISHED 1157/ngrok\n",
        "tcp        0      0 172.28.0.2:59124        172.28.0.3:6000         ESTABLISHED 7/node\n",
        "tcp        0      0 127.0.0.1:42103         127.0.0.1:43506         ESTABLISHED 60/python3\n",
        "tcp        0      0 127.0.0.1:33742         127.0.0.1:50705         ESTABLISHED 43/python3\n",
        "tcp        0      0 172.28.0.2:9000         172.28.0.3:45600        ESTABLISHED 43/python3\n",
        "tcp        0      0 127.0.0.1:35589         127.0.0.1:38024         ESTABLISHED 60/python3\n",
        "tcp        0      0 127.0.0.1:50705         127.0.0.1:33742         ESTABLISHED 60/python3\n",
        "tcp        0      0 127.0.0.1:43695         127.0.0.1:33672         ESTABLISHED 80/python3\n",
        "tcp        0      0 127.0.0.1:47260         127.0.0.1:51695         ESTABLISHED 43/python3\n",
        "tcp        0      0 127.0.0.1:51695         127.0.0.1:47242         ESTABLISHED 60/python3\n",
        "tcp        0      0 127.0.0.1:33672         127.0.0.1:43695         ESTABLISHED 60/python3\n",
        "tcp        0      0 127.0.0.1:38024         127.0.0.1:35589         ESTABLISHED 43/python3\n",
        "tcp        0      0 127.0.0.1:43506         127.0.0.1:42103         ESTABLISHED 43/python3\n",
        "tcp        0      0 127.0.0.1:21122         127.0.0.1:50422         ESTABLISHED 1200/sshd: root@pts\n",
        "tcp6       0      0 :::8080                 :::*                    LISTEN      7/node\n",
        "tcp6       0      0 :::3453                 :::*                    LISTEN      30/python3\n",
        "tcp6       0      0 :::21122                :::*                    LISTEN      1001/sshd\n",
        "tcp6       0      0 172.28.0.2:8080         172.28.0.1:43392        ESTABLISHED 7/node\n",
        "tcp6       0      0 172.28.0.2:8080         172.28.0.1:43330        TIME_WAIT   -\n",
        "tcp6       0      0 172.28.0.2:8080         172.28.0.1:43372        ESTABLISHED 7/node\n",
        "tcp6       0      0 172.28.0.2:8080         172.28.0.1:43366        TIME_WAIT   -\n",
        "udp        0      0 127.0.0.11:59097        0.0.0.0:*                           -\n",
        "Active UNIX domain sockets (servers and established)\n",
        "Proto RefCnt Flags       Type       State         I-Node   PID/Program name     Path\n",
        "unix  2      [ ACC ]     STREAM     LISTENING     26545    44/dap_multiplexer   /tmp/debugger_5oz3ow4w4\n",
        "unix  3      [ ]         STREAM     CONNECTED     26937    7/node\n",
        "unix  3      [ ]         STREAM     CONNECTED     28448    60/python3\n",
        "unix  3      [ ]         STREAM     CONNECTED     29033    60/python3\n",
        "unix  3      [ ]         STREAM     CONNECTED     27693    43/python3\n",
        "unix  3      [ ]         STREAM     CONNECTED     28464    60/python3\n",
        "unix  3      [ ]         STREAM     CONNECTED     28445    60/python3\n",
        "unix  3      [ ]         STREAM     CONNECTED     28985    43/python3\n",
        "unix  3      [ ]         STREAM     CONNECTED     26518    7/node\n",
        "unix  3      [ ]         STREAM     CONNECTED     28462    60/python3\n",
        "unix  3      [ ]         STREAM     CONNECTED     28515    43/python3\n",
        "unix  3      [ ]         STREAM     CONNECTED     29596    97/node\n",
        "unix  3      [ ]         STREAM     CONNECTED     26933    7/node\n",
        "unix  3      [ ]         STREAM     CONNECTED     28439    60/python3\n",
        "unix  3      [ ]         STREAM     CONNECTED     28517    43/python3\n",
        "unix  3      [ ]         STREAM     CONNECTED     28458    60/python3\n",
        "unix  3      [ ]         STREAM     CONNECTED     26521    43/python3\n",
        "unix  3      [ ]         STREAM     CONNECTED     29600    97/node\n",
        "unix  3      [ ]         STREAM     CONNECTED     28981    43/python3\n",
        "unix  3      [ ]         STREAM     CONNECTED     30209    60/python3\n",
        "unix  3      [ ]         STREAM     CONNECTED     28435    60/python3\n",
        "unix  3      [ ]         STREAM     CONNECTED     28979    43/python3\n",
        "unix  3      [ ]         STREAM     CONNECTED     28466    60/python3\n",
        "unix  3      [ ]         STREAM     CONNECTED     28520    43/python3\n",
        "unix  3      [ ]         STREAM     CONNECTED     29055    60/python3\n",
        "unix  3      [ ]         STREAM     CONNECTED     26926    30/python3\n",
        "unix  3      [ ]         STREAM     CONNECTED     29598    97/node\n",
        "unix  3      [ ]         STREAM     CONNECTED     28434    60/python3\n",
        "unix  3      [ ]         STREAM     CONNECTED     28516    43/python3\n",
        "unix  3      [ ]         STREAM     CONNECTED     28453    60/python3\n",
        "unix  3      [ ]         STREAM     CONNECTED     26520    7/node\n",
        "unix  3      [ ]         STREAM     CONNECTED     29058    60/python3\n",
        "unix  3      [ ]         STREAM     CONNECTED     29034    60/python3\n",
        "unix  3      [ ]         STREAM     CONNECTED     28485    60/python3\n",
        "unix  3      [ ]         STREAM     CONNECTED     28984    43/python3\n",
        "unix  3      [ ]         STREAM     CONNECTED     28437    60/python3\n",
        "unix  3      [ ]         STREAM     CONNECTED     29595    7/node\n",
        "unix  3      [ ]         STREAM     CONNECTED     26934    44/dap_multiplexer\n",
        "unix  3      [ ]         STREAM     CONNECTED     28465    60/python3\n",
        "unix  3      [ ]         STREAM     CONNECTED     28330    43/python3\n",
        "unix  3      [ ]         STREAM     CONNECTED     29057    60/python3\n",
        "unix  3      [ ]         STREAM     CONNECTED     28452    60/python3\n",
        "unix  3      [ ]         STREAM     CONNECTED     28329    43/python3\n",
        "unix  3      [ ]         STREAM     CONNECTED     29413    7/node\n",
        "unix  3      [ ]         STREAM     CONNECTED     26935    7/node\n",
        "unix  3      [ ]         STREAM     CONNECTED     28440    60/python3\n",
        "unix  3      [ ]         STREAM     CONNECTED     28467    60/python3\n",
        "unix  3      [ ]         STREAM     CONNECTED     28519    43/python3\n",
        "unix  3      [ ]         STREAM     CONNECTED     26523    43/python3\n",
        "unix  3      [ ]         STREAM     CONNECTED     29056    60/python3\n",
        "unix  3      [ ]         STREAM     CONNECTED     28982    43/python3\n",
        "unix  3      [ ]         STREAM     CONNECTED     28438    60/python3\n",
        "unix  3      [ ]         STREAM     CONNECTED     26938    44/dap_multiplexer\n",
        "unix  3      [ ]         STREAM     CONNECTED     28986    43/python3\n",
        "unix  3      [ ]         STREAM     CONNECTED     26519    43/python3\n",
        "unix  3      [ ]         STREAM     CONNECTED     28463    60/python3\n",
        "unix  3      [ ]         STREAM     CONNECTED     28436    60/python3\n",
        "unix  3      [ ]         STREAM     CONNECTED     29599    7/node\n",
        "unix  3      [ ]         STREAM     CONNECTED     28486    60/python3\n",
        "unix  3      [ ]         STREAM     CONNECTED     28457    60/python3\n",
        "unix  3      [ ]         STREAM     CONNECTED     28518    43/python3\n",
        "unix  3      [ ]         STREAM     CONNECTED     26522    7/node\n",
        "unix  3      [ ]         STREAM     CONNECTED     29060    60/python3\n",
        "unix  3      [ ]         STREAM     CONNECTED     28983    43/python3\n",
        "unix  3      [ ]         STREAM     CONNECTED     28444    60/python3\n",
        "unix  3      [ ]         STREAM     CONNECTED     28980    43/python3\n",
        "unix  3      [ ]         STREAM     CONNECTED     30208    60/python3\n",
        "unix  3      [ ]         STREAM     CONNECTED     29758    44/dap_multiplexer   /tmp/debugger_5oz3ow4w4\n",
        "unix  3      [ ]         STREAM     CONNECTED     26936    44/dap_multiplexer\n",
        "unix  3      [ ]         STREAM     CONNECTED     29059    60/python3\n",
        "unix  3      [ ]         STREAM     CONNECTED     28456    60/python3\n",
        "unix  3      [ ]         STREAM     CONNECTED     28449    60/python3\n",
        "unix  3      [ ]         STREAM     CONNECTED     26925    30/python3\n",
        "unix  3      [ ]         STREAM     CONNECTED     27692    43/python3\n",
        "unix  3      [ ]         STREAM     CONNECTED     28459    60/python3\n",
        "unix  3      [ ]         STREAM     CONNECTED     29597    7/node\n",
        "unix  3      [ ]         STREAM     CONNECTED     28441    60/python3\n",
        "/content#\n",
        "</pre>"
      ],
      "metadata": {
        "id": "jheCPneX-l1V"
      }
    },
    {
      "cell_type": "markdown",
      "source": [
        "## ｓｓｈデーモンを停止（KILL）\n",
        "[Stopping the ngrok port/tunnel Simple Solution](https://stackoverflow.com/questions/26291006/stop-sharing-a-port-on-ngrok)\n"
      ],
      "metadata": {
        "id": "UqrwIQsSEHR6"
      }
    },
    {
      "cell_type": "code",
      "source": [
        "!killall ngrok"
      ],
      "metadata": {
        "id": "zLWLoFwn-lGF"
      },
      "execution_count": null,
      "outputs": []
    },
    {
      "cell_type": "code",
      "source": [
        "!netstat -nap"
      ],
      "metadata": {
        "colab": {
          "base_uri": "https://localhost:8080/"
        },
        "id": "0u8J1Dw8wYL0",
        "outputId": "92da38d8-d846-4850-81a7-ce301db2e803"
      },
      "execution_count": null,
      "outputs": [
        {
          "output_type": "stream",
          "name": "stdout",
          "text": [
            "Active Internet connections (servers and established)\n",
            "Proto Recv-Q Send-Q Local Address           Foreign Address         State       PID/Program name    \n",
            "tcp        0      0 127.0.0.1:43695         0.0.0.0:*               LISTEN      80/python3          \n",
            "tcp        0      0 127.0.0.1:51695         0.0.0.0:*               LISTEN      60/python3          \n",
            "tcp        0      0 127.0.0.1:50705         0.0.0.0:*               LISTEN      60/python3          \n",
            "tcp        0      0 127.0.0.1:42103         0.0.0.0:*               LISTEN      60/python3          \n",
            "tcp        0      0 127.0.0.1:41403         0.0.0.0:*               LISTEN      60/python3          \n",
            "tcp        0      0 0.0.0.0:3453            0.0.0.0:*               LISTEN      30/python3          \n",
            "tcp        0      0 127.0.0.1:35589         0.0.0.0:*               LISTEN      60/python3          \n",
            "tcp        0      0 127.0.0.1:43367         0.0.0.0:*               LISTEN      80/python3          \n",
            "tcp        0      0 127.0.0.11:39367        0.0.0.0:*               LISTEN      -                   \n",
            "tcp        0      0 172.28.0.2:9000         0.0.0.0:*               LISTEN      43/python3          \n",
            "tcp        0      0 127.0.0.1:16459         0.0.0.0:*               LISTEN      80/python3          \n",
            "tcp        0      0 127.0.0.1:35053         0.0.0.0:*               LISTEN      60/python3          \n",
            "tcp        0      0 172.28.0.2:9000         172.28.0.3:45542        ESTABLISHED 43/python3          \n",
            "tcp        0      0 127.0.0.1:51695         127.0.0.1:47260         ESTABLISHED 60/python3          \n",
            "tcp        0      0 127.0.0.1:16459         127.0.0.1:41222         ESTABLISHED 80/python3          \n",
            "tcp        0      0 127.0.0.1:50422         127.0.0.1:21122         TIME_WAIT   -                   \n",
            "tcp        0      0 172.28.0.2:59124        172.28.0.3:6000         ESTABLISHED 7/node              \n",
            "tcp        0      0 127.0.0.1:42103         127.0.0.1:43506         ESTABLISHED 60/python3          \n",
            "tcp        0      0 127.0.0.1:33742         127.0.0.1:50705         ESTABLISHED 43/python3          \n",
            "tcp        0      0 172.28.0.2:9000         172.28.0.3:45600        ESTABLISHED 43/python3          \n",
            "tcp        0      0 127.0.0.1:35589         127.0.0.1:38024         ESTABLISHED 60/python3          \n",
            "tcp        0      0 127.0.0.1:50705         127.0.0.1:33742         ESTABLISHED 60/python3          \n",
            "tcp        0      0 127.0.0.1:41222         127.0.0.1:16459         ESTABLISHED 44/dap_multiplexer  \n",
            "tcp        0      0 127.0.0.1:47242         127.0.0.1:51695         ESTABLISHED 43/python3          \n",
            "tcp        0      0 127.0.0.1:43695         127.0.0.1:33672         ESTABLISHED 80/python3          \n",
            "tcp        0      0 172.28.0.2:9000         172.28.0.3:56234        ESTABLISHED 43/python3          \n",
            "tcp        0      0 127.0.0.1:47260         127.0.0.1:51695         ESTABLISHED 43/python3          \n",
            "tcp        0      0 127.0.0.1:51695         127.0.0.1:47242         ESTABLISHED 60/python3          \n",
            "tcp        0      0 127.0.0.1:33672         127.0.0.1:43695         ESTABLISHED 60/python3          \n",
            "tcp        0      0 127.0.0.1:38024         127.0.0.1:35589         ESTABLISHED 43/python3          \n",
            "tcp        0    415 127.0.0.1:43506         127.0.0.1:42103         ESTABLISHED 43/python3          \n",
            "tcp6       0      0 :::8080                 :::*                    LISTEN      7/node              \n",
            "tcp6       0      0 :::3453                 :::*                    LISTEN      30/python3          \n",
            "tcp6       0      0 172.28.0.2:8080         172.28.0.1:46450        ESTABLISHED 7/node              \n",
            "tcp6       0      0 172.28.0.2:8080         172.28.0.1:46444        TIME_WAIT   -                   \n",
            "tcp6       0      0 172.28.0.2:8080         172.28.0.1:46404        ESTABLISHED 7/node              \n",
            "tcp6       0      0 172.28.0.2:8080         172.28.0.1:46200        TIME_WAIT   -                   \n",
            "udp        0      0 127.0.0.11:59097        0.0.0.0:*                           -                   \n",
            "Active UNIX domain sockets (servers and established)\n",
            "Proto RefCnt Flags       Type       State         I-Node   PID/Program name     Path\n",
            "unix  2      [ ACC ]     STREAM     LISTENING     26545    44/dap_multiplexer   /tmp/debugger_5oz3ow4w4\n",
            "unix  3      [ ]         STREAM     CONNECTED     26937    7/node               \n",
            "unix  3      [ ]         STREAM     CONNECTED     28448    60/python3           \n",
            "unix  3      [ ]         STREAM     CONNECTED     29033    60/python3           \n",
            "unix  3      [ ]         STREAM     CONNECTED     27693    43/python3           \n",
            "unix  3      [ ]         STREAM     CONNECTED     28464    60/python3           \n",
            "unix  3      [ ]         STREAM     CONNECTED     28445    60/python3           \n",
            "unix  3      [ ]         STREAM     CONNECTED     28985    43/python3           \n",
            "unix  3      [ ]         STREAM     CONNECTED     26518    7/node               \n",
            "unix  3      [ ]         STREAM     CONNECTED     28462    60/python3           \n",
            "unix  3      [ ]         STREAM     CONNECTED     28515    43/python3           \n",
            "unix  3      [ ]         STREAM     CONNECTED     29596    97/node              \n",
            "unix  3      [ ]         STREAM     CONNECTED     26933    7/node               \n",
            "unix  3      [ ]         STREAM     CONNECTED     28439    60/python3           \n",
            "unix  3      [ ]         STREAM     CONNECTED     28517    43/python3           \n",
            "unix  3      [ ]         STREAM     CONNECTED     28458    60/python3           \n",
            "unix  3      [ ]         STREAM     CONNECTED     26521    43/python3           \n",
            "unix  3      [ ]         STREAM     CONNECTED     29600    97/node              \n",
            "unix  3      [ ]         STREAM     CONNECTED     28981    43/python3           \n",
            "unix  3      [ ]         STREAM     CONNECTED     30209    60/python3           \n",
            "unix  3      [ ]         STREAM     CONNECTED     28435    60/python3           \n",
            "unix  3      [ ]         STREAM     CONNECTED     28979    43/python3           \n",
            "unix  3      [ ]         STREAM     CONNECTED     28466    60/python3           \n",
            "unix  3      [ ]         STREAM     CONNECTED     28520    43/python3           \n",
            "unix  3      [ ]         STREAM     CONNECTED     29055    60/python3           \n",
            "unix  3      [ ]         STREAM     CONNECTED     26926    30/python3           \n",
            "unix  3      [ ]         STREAM     CONNECTED     29598    97/node              \n",
            "unix  3      [ ]         STREAM     CONNECTED     28434    60/python3           \n",
            "unix  3      [ ]         STREAM     CONNECTED     28516    43/python3           \n",
            "unix  3      [ ]         STREAM     CONNECTED     28453    60/python3           \n",
            "unix  3      [ ]         STREAM     CONNECTED     26520    7/node               \n",
            "unix  3      [ ]         STREAM     CONNECTED     29058    60/python3           \n",
            "unix  3      [ ]         STREAM     CONNECTED     29034    60/python3           \n",
            "unix  3      [ ]         STREAM     CONNECTED     28485    60/python3           \n",
            "unix  3      [ ]         STREAM     CONNECTED     28984    43/python3           \n",
            "unix  3      [ ]         STREAM     CONNECTED     28437    60/python3           \n",
            "unix  3      [ ]         STREAM     CONNECTED     29595    7/node               \n",
            "unix  3      [ ]         STREAM     CONNECTED     26934    44/dap_multiplexer   \n",
            "unix  3      [ ]         STREAM     CONNECTED     28465    60/python3           \n",
            "unix  3      [ ]         STREAM     CONNECTED     28330    43/python3           \n",
            "unix  3      [ ]         STREAM     CONNECTED     29057    60/python3           \n",
            "unix  3      [ ]         STREAM     CONNECTED     28452    60/python3           \n",
            "unix  3      [ ]         STREAM     CONNECTED     28329    43/python3           \n",
            "unix  3      [ ]         STREAM     CONNECTED     29413    7/node               \n",
            "unix  3      [ ]         STREAM     CONNECTED     26935    7/node               \n",
            "unix  3      [ ]         STREAM     CONNECTED     28440    60/python3           \n",
            "unix  3      [ ]         STREAM     CONNECTED     28467    60/python3           \n",
            "unix  3      [ ]         STREAM     CONNECTED     28519    43/python3           \n",
            "unix  3      [ ]         STREAM     CONNECTED     26523    43/python3           \n",
            "unix  3      [ ]         STREAM     CONNECTED     29056    60/python3           \n",
            "unix  3      [ ]         STREAM     CONNECTED     28982    43/python3           \n",
            "unix  3      [ ]         STREAM     CONNECTED     28438    60/python3           \n",
            "unix  3      [ ]         STREAM     CONNECTED     26938    44/dap_multiplexer   \n",
            "unix  3      [ ]         STREAM     CONNECTED     28986    43/python3           \n",
            "unix  3      [ ]         STREAM     CONNECTED     26519    43/python3           \n",
            "unix  3      [ ]         STREAM     CONNECTED     28463    60/python3           \n",
            "unix  3      [ ]         STREAM     CONNECTED     28436    60/python3           \n",
            "unix  3      [ ]         STREAM     CONNECTED     29599    7/node               \n",
            "unix  3      [ ]         STREAM     CONNECTED     28486    60/python3           \n",
            "unix  3      [ ]         STREAM     CONNECTED     28457    60/python3           \n",
            "unix  3      [ ]         STREAM     CONNECTED     28518    43/python3           \n",
            "unix  3      [ ]         STREAM     CONNECTED     26522    7/node               \n",
            "unix  3      [ ]         STREAM     CONNECTED     29060    60/python3           \n",
            "unix  3      [ ]         STREAM     CONNECTED     28983    43/python3           \n",
            "unix  3      [ ]         STREAM     CONNECTED     28444    60/python3           \n",
            "unix  3      [ ]         STREAM     CONNECTED     28980    43/python3           \n",
            "unix  3      [ ]         STREAM     CONNECTED     30208    60/python3           \n",
            "unix  3      [ ]         STREAM     CONNECTED     29758    44/dap_multiplexer   /tmp/debugger_5oz3ow4w4\n",
            "unix  3      [ ]         STREAM     CONNECTED     26936    44/dap_multiplexer   \n",
            "unix  3      [ ]         STREAM     CONNECTED     29059    60/python3           \n",
            "unix  3      [ ]         STREAM     CONNECTED     28456    60/python3           \n",
            "unix  3      [ ]         STREAM     CONNECTED     28449    60/python3           \n",
            "unix  3      [ ]         STREAM     CONNECTED     26925    30/python3           \n",
            "unix  3      [ ]         STREAM     CONNECTED     27692    43/python3           \n",
            "unix  3      [ ]         STREAM     CONNECTED     28459    60/python3           \n",
            "unix  3      [ ]         STREAM     CONNECTED     29597    7/node               \n",
            "unix  3      [ ]         STREAM     CONNECTED     28441    60/python3           \n"
          ]
        }
      ]
    }
  ],
  "metadata": {
    "colab": {
      "collapsed_sections": [],
      "toc_visible": true,
      "provenance": [],
      "include_colab_link": true
    },
    "kernelspec": {
      "display_name": "Python 3",
      "name": "python3"
    }
  },
  "nbformat": 4,
  "nbformat_minor": 0
}