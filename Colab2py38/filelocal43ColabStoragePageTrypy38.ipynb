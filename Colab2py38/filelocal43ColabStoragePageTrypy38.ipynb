{
  "cells": [
    {
      "cell_type": "markdown",
      "metadata": {
        "id": "view-in-github",
        "colab_type": "text"
      },
      "source": [
        "<a href=\"https://colab.research.google.com/github/engbJapan/Programming/blob/main/Colab2py38/filelocal43ColabStoragePageTrypy38.ipynb\" target=\"_parent\"><img src=\"https://colab.research.google.com/assets/colab-badge.svg\" alt=\"Open In Colab\"/></a>"
      ]
    },
    {
      "cell_type": "markdown",
      "metadata": {
        "id": "7Z2jcRKwUHqV"
      },
      "source": [
        "***このノートブックには、Colab上の豊富なPython3.7パッケージをPyhton3.8ランタイムでShll及びColab上に提供する手法が書かれています***\n",
        "\n",
        "お急ぎの方は、再セット手順を実施してください。"
      ]
    },
    {
      "cell_type": "markdown",
      "source": [
        "#再セット手順（Colab at Python3.8 and Colab-Full package including)\n",
        "\n",
        "**GoogleDriveの共有ファイル[p20220823_12_52_dist_packages.tar.gz]を落として、作業エリアに解凍しそのdist-packagesをinstallしたPytho3.8パッケージに置き換えるのです**\n",
        "\n",
        "\n",
        "共有ファイルID：\n",
        "\n",
        "10_wfp1U4rMzc20eiGNrdQa9V2S9ByJwV\n"
      ],
      "metadata": {
        "id": "tXFTdyVGYp4J"
      }
    },
    {
      "cell_type": "code",
      "source": [
        "!cat /proc/uptime | awk '{printf(\"残り時間 : %.2f\", 12-$1/60/60)}'"
      ],
      "metadata": {
        "colab": {
          "base_uri": "https://localhost:8080/"
        },
        "id": "637NiZf5jzLk",
        "outputId": "543cd36b-ed3e-4b03-b5d3-c766de812dda"
      },
      "execution_count": 1,
      "outputs": [
        {
          "output_type": "stream",
          "name": "stdout",
          "text": [
            "残り時間 : 11.90"
          ]
        }
      ]
    },
    {
      "cell_type": "code",
      "source": [
        "!printf \"10_wfp1U4rMzc20eiGNrdQa9V2S9ByJwV\" > ./FILE_ID ;\\\n",
        " printf \"wget  -O `cat ./FILE_ID`.tar.gz \\\"https://drive.google.com/uc?export=download&id=`cat ./FILE_ID`&confirm=t&\"|tee  ./FILE_ID_WGET_CMD  ;\\\n",
        "  printf \"`wget -q \"https://drive.google.com/uc?export=download&id=\\`cat ./FILE_ID\\`\" -O - | perl -pe 's/\\r*\\n//g' | perl -pe 's/^.*(uuid\\=[^\\\"]+)\\\".*$/${1}/g'`\"|tee -a ./FILE_ID_WGET_CMD  ;\\\n",
        "    printf \"&uc-download-link=Download&nbsp;anyway\\\"\" |tee -a ./FILE_ID_WGET_CMD ;\\\n",
        "      /bin/bash ./FILE_ID_WGET_CMD\n"
      ],
      "metadata": {
        "colab": {
          "base_uri": "https://localhost:8080/"
        },
        "id": "aGEywWkBY7TP",
        "outputId": "a55516a2-4cce-4920-aa07-166905c8c03b"
      },
      "execution_count": 2,
      "outputs": [
        {
          "output_type": "stream",
          "name": "stdout",
          "text": [
            "wget  -O 10_wfp1U4rMzc20eiGNrdQa9V2S9ByJwV.tar.gz \"https://drive.google.com/uc?export=download&id=10_wfp1U4rMzc20eiGNrdQa9V2S9ByJwV&confirm=t&uuid=fef28481-50e0-4e7c-8b33-064a789bb37a&uc-download-link=Download&nbsp;anyway\"--2022-08-23 08:39:47--  https://drive.google.com/uc?export=download&id=10_wfp1U4rMzc20eiGNrdQa9V2S9ByJwV&confirm=t&uuid=fef28481-50e0-4e7c-8b33-064a789bb37a&uc-download-link=Download&nbsp;anyway\n",
            "Resolving drive.google.com (drive.google.com)... 142.251.2.113, 142.251.2.102, 142.251.2.100, ...\n",
            "Connecting to drive.google.com (drive.google.com)|142.251.2.113|:443... connected.\n",
            "HTTP request sent, awaiting response... 303 See Other\n",
            "Location: https://doc-14-b0-docs.googleusercontent.com/docs/securesc/ha0ro937gcuc7l7deffksulhg5h7mbp1/eaj8koa3g2k790dfl04h25q3ltdjha9s/1661243925000/05092427723527513327/*/10_wfp1U4rMzc20eiGNrdQa9V2S9ByJwV?e=download&uuid=fef28481-50e0-4e7c-8b33-064a789bb37a [following]\n",
            "Warning: wildcards not supported in HTTP.\n",
            "--2022-08-23 08:39:48--  https://doc-14-b0-docs.googleusercontent.com/docs/securesc/ha0ro937gcuc7l7deffksulhg5h7mbp1/eaj8koa3g2k790dfl04h25q3ltdjha9s/1661243925000/05092427723527513327/*/10_wfp1U4rMzc20eiGNrdQa9V2S9ByJwV?e=download&uuid=fef28481-50e0-4e7c-8b33-064a789bb37a\n",
            "Resolving doc-14-b0-docs.googleusercontent.com (doc-14-b0-docs.googleusercontent.com)... 142.250.141.132, 2607:f8b0:4023:c0b::84\n",
            "Connecting to doc-14-b0-docs.googleusercontent.com (doc-14-b0-docs.googleusercontent.com)|142.250.141.132|:443... connected.\n",
            "HTTP request sent, awaiting response... 200 OK\n",
            "Length: 2415457770 (2.2G) [application/x-gzip]\n",
            "Saving to: ‘10_wfp1U4rMzc20eiGNrdQa9V2S9ByJwV.tar.gz’\n",
            "\n",
            "10_wfp1U4rMzc20eiGN 100%[===================>]   2.25G   101MB/s    in 24s     \n",
            "\n",
            "2022-08-23 08:40:13 (94.2 MB/s) - ‘10_wfp1U4rMzc20eiGNrdQa9V2S9ByJwV.tar.gz’ saved [2415457770/2415457770]\n",
            "\n"
          ]
        }
      ]
    },
    {
      "cell_type": "code",
      "source": [
        "# Step2 python3.8インタープリタとpython3-pipをinstallします（数分待つこと）\n",
        "!printf \"python3.8再起動ステップその2 数分待つ\\n\"\n",
        "!sudo apt-get install -y python3.8\n",
        "!sudo apt-get install -yf python3-pip"
      ],
      "metadata": {
        "colab": {
          "base_uri": "https://localhost:8080/"
        },
        "id": "LCKW9XFvCIS4",
        "outputId": "ff1c5831-d1bd-4f15-d243-9daef8a5e2d4"
      },
      "execution_count": 3,
      "outputs": [
        {
          "output_type": "stream",
          "name": "stdout",
          "text": [
            "python3.8再起動ステップその2 数分待つ\n",
            "Reading package lists... Done\n",
            "Building dependency tree       \n",
            "Reading state information... Done\n",
            "The following package was automatically installed and is no longer required:\n",
            "  libnvidia-common-460\n",
            "Use 'sudo apt autoremove' to remove it.\n",
            "The following additional packages will be installed:\n",
            "  libpython3.8-minimal libpython3.8-stdlib python3.8-minimal\n",
            "Suggested packages:\n",
            "  python3.8-venv binfmt-support\n",
            "The following NEW packages will be installed:\n",
            "  libpython3.8-minimal libpython3.8-stdlib python3.8 python3.8-minimal\n",
            "0 upgraded, 4 newly installed, 0 to remove and 20 not upgraded.\n",
            "Need to get 4,691 kB of archives.\n",
            "After this operation, 18.5 MB of additional disk space will be used.\n",
            "Get:1 http://ppa.launchpad.net/deadsnakes/ppa/ubuntu bionic/main amd64 libpython3.8-minimal amd64 3.8.13-1+bionic2 [762 kB]\n",
            "Get:2 http://ppa.launchpad.net/deadsnakes/ppa/ubuntu bionic/main amd64 python3.8-minimal amd64 3.8.13-1+bionic2 [1,837 kB]\n",
            "Get:3 http://ppa.launchpad.net/deadsnakes/ppa/ubuntu bionic/main amd64 libpython3.8-stdlib amd64 3.8.13-1+bionic2 [1,657 kB]\n",
            "Get:4 http://ppa.launchpad.net/deadsnakes/ppa/ubuntu bionic/main amd64 python3.8 amd64 3.8.13-1+bionic2 [434 kB]\n",
            "Fetched 4,691 kB in 4s (1,145 kB/s)\n",
            "debconf: unable to initialize frontend: Dialog\n",
            "debconf: (No usable dialog-like program is installed, so the dialog based frontend cannot be used. at /usr/share/perl5/Debconf/FrontEnd/Dialog.pm line 76, <> line 4.)\n",
            "debconf: falling back to frontend: Readline\n",
            "debconf: unable to initialize frontend: Readline\n",
            "debconf: (This frontend requires a controlling tty.)\n",
            "debconf: falling back to frontend: Teletype\n",
            "dpkg-preconfigure: unable to re-open stdin: \n",
            "Selecting previously unselected package libpython3.8-minimal:amd64.\n",
            "(Reading database ... 155676 files and directories currently installed.)\n",
            "Preparing to unpack .../libpython3.8-minimal_3.8.13-1+bionic2_amd64.deb ...\n",
            "Unpacking libpython3.8-minimal:amd64 (3.8.13-1+bionic2) ...\n",
            "Selecting previously unselected package python3.8-minimal.\n",
            "Preparing to unpack .../python3.8-minimal_3.8.13-1+bionic2_amd64.deb ...\n",
            "Unpacking python3.8-minimal (3.8.13-1+bionic2) ...\n",
            "Selecting previously unselected package libpython3.8-stdlib:amd64.\n",
            "Preparing to unpack .../libpython3.8-stdlib_3.8.13-1+bionic2_amd64.deb ...\n",
            "Unpacking libpython3.8-stdlib:amd64 (3.8.13-1+bionic2) ...\n",
            "Selecting previously unselected package python3.8.\n",
            "Preparing to unpack .../python3.8_3.8.13-1+bionic2_amd64.deb ...\n",
            "Unpacking python3.8 (3.8.13-1+bionic2) ...\n",
            "Setting up libpython3.8-minimal:amd64 (3.8.13-1+bionic2) ...\n",
            "Setting up python3.8-minimal (3.8.13-1+bionic2) ...\n",
            "Setting up libpython3.8-stdlib:amd64 (3.8.13-1+bionic2) ...\n",
            "Setting up python3.8 (3.8.13-1+bionic2) ...\n",
            "Processing triggers for mime-support (3.60ubuntu1) ...\n",
            "Processing triggers for man-db (2.8.3-2ubuntu0.1) ...\n",
            "Reading package lists... Done\n",
            "Building dependency tree       \n",
            "Reading state information... Done\n",
            "The following package was automatically installed and is no longer required:\n",
            "  libnvidia-common-460\n",
            "Use 'sudo apt autoremove' to remove it.\n",
            "The following additional packages will be installed:\n",
            "  python-pip-whl python3-asn1crypto python3-cffi-backend python3-crypto\n",
            "  python3-cryptography python3-idna python3-keyring python3-keyrings.alt\n",
            "  python3-pkg-resources python3-secretstorage python3-setuptools python3-six\n",
            "  python3-wheel python3-xdg\n",
            "Suggested packages:\n",
            "  python-crypto-doc python-cryptography-doc python3-cryptography-vectors\n",
            "  gnome-keyring libkf5wallet-bin gir1.2-gnomekeyring-1.0\n",
            "  python-secretstorage-doc python-setuptools-doc\n",
            "The following NEW packages will be installed:\n",
            "  python-pip-whl python3-asn1crypto python3-cffi-backend python3-crypto\n",
            "  python3-cryptography python3-idna python3-keyring python3-keyrings.alt\n",
            "  python3-pip python3-pkg-resources python3-secretstorage python3-setuptools\n",
            "  python3-six python3-wheel python3-xdg\n",
            "0 upgraded, 15 newly installed, 0 to remove and 20 not upgraded.\n",
            "Need to get 2,882 kB of archives.\n",
            "After this operation, 8,886 kB of additional disk space will be used.\n",
            "Get:1 http://archive.ubuntu.com/ubuntu bionic-updates/universe amd64 python-pip-whl all 9.0.1-2.3~ubuntu1.18.04.5 [1,653 kB]\n",
            "..........\n",
            "Setting up python3-setuptools (39.0.1-2) ...\n",
            "Setting up python3-cryptography (2.1.4-1ubuntu1.4) ...\n",
            "Setting up python3-keyrings.alt (3.0-1) ...\n",
            "Setting up python3-secretstorage (2.3.1-2) ...\n",
            "Setting up python3-keyring (10.6.0-1) ...\n",
            "Processing triggers for man-db (2.8.3-2ubuntu0.1) ...\n"
          ]
        }
      ]
    },
    {
      "cell_type": "code",
      "source": [
        "!mkdir ./dist-packages\n",
        "!tar xvzf `cat ./FILE_ID`.tar.gz -C ./dist-packages"
      ],
      "metadata": {
        "colab": {
          "base_uri": "https://localhost:8080/"
        },
        "id": "tSCXh-HtCgHQ",
        "outputId": "73bbd82f-40c9-44c6-b09e-555103c99345"
      },
      "execution_count": 4,
      "outputs": [
        {
          "output_type": "stream",
          "name": "stdout",
          "text": [
            "\u001b[1;30;43mストリーミング出力は最後の 5000 行に切り捨てられました。\u001b[0m\n",
            "usr/local/lib/python3.8/dist-packages/gensim/test/test_data/word2vec_pre_kv_sep_py2\n",
            "usr/local/lib/python3.8/dist-packages/gensim/test/test_data/phrases-3.6.0.model\n",
            "usr/local/lib/python3.8/dist-packages/gensim/test/test_data/phraser-no-common-terms.pkl\n",
            "..........\n",
            "usr/local/lib/python3.8/dist-packages/pooch/tests/data/store.tar.gz\n",
            "usr/local/lib/python3.8/dist-packages/pooch/tests/data/registry.txt\n",
            "usr/local/lib/python3.8/dist-packages/pooch/tests/data/large-data.txt\n",
            "usr/local/lib/python3.8/dist-packages/pooch/tests/data/registry_comments.txt\n",
            "usr/local/lib/python3.8/dist-packages/pooch/tests/data/store/\n",
            "usr/local/lib/python3.8/dist-packages/pooch/tests/data/store/tiny-data.txt\n",
            "usr/local/lib/python3.8/dist-packages/pooch/tests/data/store/subdir/\n",
            "usr/local/lib/python3.8/dist-packages/pooch/tests/data/store/subdir/tiny-data.txt\n",
            "usr/local/lib/python3.8/dist-packages/pooch/tests/data/tiny-data.zip\n",
            "usr/local/lib/python3.8/dist-packages/pooch/tests/test_version.py\n",
            "usr/local/lib/python3.8/dist-packages/pooch/tests/utils.py\n",
            "usr/local/lib/python3.8/dist-packages/pooch/tests/__pycache__/\n",
            "usr/local/lib/python3.8/dist-packages/pooch/tests/__pycache__/test_processors.cpython-38.pyc\n",
            "usr/local/lib/python3.8/dist-packages/pooch/tests/__pycache__/test_hashes.cpython-38.pyc\n",
            "usr/local/lib/python3.8/dist-packages/pooch/tests/__pycache__/utils.cpython-38.pyc\n",
            "usr/local/lib/python3.8/dist-packages/pooch/tests/__pycache__/test_integration.cpython-38.pyc\n",
            "usr/local/lib/python3.8/dist-packages/pooch/tests/__pycache__/test_version.cpython-38.pyc\n",
            "usr/local/lib/python3.8/dist-packages/pooch/tests/__pycache__/test_utils.cpython-38.pyc\n",
            "usr/local/lib/python3.8/dist-packages/pooch/tests/__pycache__/test_core.cpython-38.pyc\n",
            "usr/local/lib/python3.8/dist-packages/pooch/tests/__pycache__/__init__.cpython-38.pyc\n",
            "usr/local/lib/python3.8/dist-packages/pooch/tests/__pycache__/test_downloaders.cpython-38.pyc\n",
            "usr/local/lib/python3.8/dist-packages/pooch/tests/test_utils.py\n",
            "usr/local/lib/python3.8/dist-packages/pooch/tests/test_integration.py\n",
            "usr/local/lib/python3.8/dist-packages/pooch/tests/test_core.py\n",
            "usr/local/lib/python3.8/dist-packages/pooch/tests/__init__.py\n",
            "usr/local/lib/python3.8/dist-packages/pooch/tests/test_downloaders.py\n",
            "usr/local/lib/python3.8/dist-packages/pooch/tests/test_hashes.py\n",
            "usr/local/lib/python3.8/dist-packages/pooch/tests/test_processors.py\n",
            "usr/local/lib/python3.8/dist-packages/pooch/__init__.py\n",
            "usr/local/lib/python3.8/dist-packages/pooch/core.py\n",
            "usr/local/lib/python3.8/dist-packages/pooch/downloaders.py\n",
            "usr/local/lib/python3.8/dist-packages/tensorflow_io_gcs_filesystem/\n",
            "usr/local/lib/python3.8/dist-packages/tensorflow_io_gcs_filesystem/core/\n",
            "usr/local/lib/python3.8/dist-packages/tensorflow_io_gcs_filesystem/core/__pycache__/\n",
            "usr/local/lib/python3.8/dist-packages/tensorflow_io_gcs_filesystem/core/__pycache__/__init__.cpython-38.pyc\n",
            "usr/local/lib/python3.8/dist-packages/tensorflow_io_gcs_filesystem/core/python/\n",
            "usr/local/lib/python3.8/dist-packages/tensorflow_io_gcs_filesystem/core/python/ops/\n",
            "usr/local/lib/python3.8/dist-packages/tensorflow_io_gcs_filesystem/core/python/ops/__pycache__/\n",
            "usr/local/lib/python3.8/dist-packages/tensorflow_io_gcs_filesystem/core/python/ops/__pycache__/__init__.cpython-38.pyc\n",
            "usr/local/lib/python3.8/dist-packages/tensorflow_io_gcs_filesystem/core/python/ops/libtensorflow_io_gcs_filesystem.so\n",
            "usr/local/lib/python3.8/dist-packages/tensorflow_io_gcs_filesystem/core/python/ops/__init__.py\n",
            "usr/local/lib/python3.8/dist-packages/tensorflow_io_gcs_filesystem/core/python/__pycache__/\n",
            "usr/local/lib/python3.8/dist-packages/tensorflow_io_gcs_filesystem/core/python/__pycache__/__init__.cpython-38.pyc\n",
            "usr/local/lib/python3.8/dist-packages/tensorflow_io_gcs_filesystem/core/python/__init__.py\n",
            "usr/local/lib/python3.8/dist-packages/tensorflow_io_gcs_filesystem/core/__init__.py\n",
            "usr/local/lib/python3.8/dist-packages/tensorflow_io_gcs_filesystem/__pycache__/\n",
            "usr/local/lib/python3.8/dist-packages/tensorflow_io_gcs_filesystem/__pycache__/__init__.cpython-38.pyc\n",
            "usr/local/lib/python3.8/dist-packages/tensorflow_io_gcs_filesystem/__init__.py\n",
            "usr/local/lib/python3.8/dist-packages/sortedcontainers/\n",
            "usr/local/lib/python3.8/dist-packages/sortedcontainers/sorteddict.py\n",
            "usr/local/lib/python3.8/dist-packages/sortedcontainers/sortedlist.py\n",
            "usr/local/lib/python3.8/dist-packages/sortedcontainers/__pycache__/\n",
            "usr/local/lib/python3.8/dist-packages/sortedcontainers/__pycache__/sortedset.cpython-38.pyc\n",
            "usr/local/lib/python3.8/dist-packages/sortedcontainers/__pycache__/sortedlist.cpython-38.pyc\n",
            "usr/local/lib/python3.8/dist-packages/sortedcontainers/__pycache__/__init__.cpython-38.pyc\n",
            "usr/local/lib/python3.8/dist-packages/sortedcontainers/__pycache__/sorteddict.cpython-38.pyc\n",
            "usr/local/lib/python3.8/dist-packages/sortedcontainers/__init__.py\n",
            "usr/local/lib/python3.8/dist-packages/sortedcontainers/sortedset.py\n"
          ]
        }
      ]
    },
    {
      "cell_type": "code",
      "source": [
        "!rm `cat ./FILE_ID`.tar.gz"
      ],
      "metadata": {
        "id": "IgSV-CCe19XO"
      },
      "execution_count": 5,
      "outputs": []
    },
    {
      "cell_type": "code",
      "source": [
        "!rm -fr /content/dist-packages/usr/local/lib/python3.8/dist-packages/google*\n",
        "!ls -d /usr/local/lib/python3.7/dist-packages/google* \\\n",
        "  | perl -pe 's/^(.+)$/sudo ln -sf ${1} \\/content\\/dist-packages\\/usr\\/local\\/lib\\/python3.8\\/dist-packages\\//g' \\\n",
        "    |/bin/bash -\n",
        "!ls -la /content/dist-packages/usr/local/lib/python3.8/dist-packages/google*"
      ],
      "metadata": {
        "colab": {
          "base_uri": "https://localhost:8080/"
        },
        "id": "q4Zwkb5mIT5o",
        "outputId": "f075ff5a-24bb-4825-8907-f1209616cfce"
      },
      "execution_count": 6,
      "outputs": [
        {
          "output_type": "stream",
          "name": "stdout",
          "text": [
            "lrwxrwxrwx 1 root root 45 Aug 23 08:43 /content/dist-packages/usr/local/lib/python3.8/dist-packages/google -> /usr/local/lib/python3.7/dist-packages/google\n",
            "lrwxrwxrwx 1 root root 61 Aug 23 08:43 /content/dist-packages/usr/local/lib/python3.8/dist-packages/google-2.0.3.dist-info -> /usr/local/lib/python3.7/dist-packages/google-2.0.3.dist-info\n",
            "lrwxrwxrwx 1 root root 54 Aug 23 08:43 /content/dist-packages/usr/local/lib/python3.8/dist-packages/googleapiclient -> /usr/local/lib/python3.7/dist-packages/googleapiclient\n",
            "lrwxrwxrwx 1 root root 71 Aug 23 08:43 /content/dist-packages/usr/local/lib/python3.8/dist-packages/google_api_core-1.31.6.dist-info -> /usr/local/lib/python3.7/dist-packages/google_api_core-1.31.6.dist-info\n",
            "lrwxrwxrwx 1 root root 78 Aug 23 08:43 /content/dist-packages/usr/local/lib/python3.8/dist-packages/google_api_core-1.31.6-py3.10-nspkg.pth -> /usr/local/lib/python3.7/dist-packages/google_api_core-1.31.6-py3.10-nspkg.pth\n",
            "lrwxrwxrwx 1 root root 81 Aug 23 08:43 /content/dist-packages/usr/local/lib/python3.8/dist-packages/google_api_python_client-1.12.11.dist-info -> /usr/local/lib/python3.7/dist-packages/google_api_python_client-1.12.11.dist-info\n",
            "lrwxrwxrwx 1 root root 80 Aug 23 08:43 /content/dist-packages/usr/local/lib/python3.8/dist-packages/googleapis_common_protos-1.56.4.dist-info -> /usr/local/lib/python3.7/dist-packages/googleapis_common_protos-1.56.4.dist-info\n",
            "lrwxrwxrwx 1 root root 87 Aug 23 08:43 /content/dist-packages/usr/local/lib/python3.8/dist-packages/googleapis_common_protos-1.56.4-py3.10-nspkg.pth -> /usr/local/lib/python3.7/dist-packages/googleapis_common_protos-1.56.4-py3.10-nspkg.pth\n",
            "lrwxrwxrwx 1 root root 67 Aug 23 08:43 /content/dist-packages/usr/local/lib/python3.8/dist-packages/google_auth-1.35.0.dist-info -> /usr/local/lib/python3.7/dist-packages/google_auth-1.35.0.dist-info\n",
            "lrwxrwxrwx 1 root root 73 Aug 23 08:43 /content/dist-packages/usr/local/lib/python3.8/dist-packages/google_auth-1.35.0-py3.9-nspkg.pth -> /usr/local/lib/python3.7/dist-packages/google_auth-1.35.0-py3.9-nspkg.pth\n",
            "lrwxrwxrwx 1 root root 75 Aug 23 08:43 /content/dist-packages/usr/local/lib/python3.8/dist-packages/google_auth_httplib2-0.0.4.dist-info -> /usr/local/lib/python3.7/dist-packages/google_auth_httplib2-0.0.4.dist-info\n",
            "lrwxrwxrwx 1 root root 62 Aug 23 08:43 /content/dist-packages/usr/local/lib/python3.8/dist-packages/google_auth_httplib2.py -> /usr/local/lib/python3.7/dist-packages/google_auth_httplib2.py\n",
            "lrwxrwxrwx 1 root root 59 Aug 23 08:43 /content/dist-packages/usr/local/lib/python3.8/dist-packages/google_auth_oauthlib -> /usr/local/lib/python3.7/dist-packages/google_auth_oauthlib\n",
            "lrwxrwxrwx 1 root root 75 Aug 23 08:43 /content/dist-packages/usr/local/lib/python3.8/dist-packages/google_auth_oauthlib-0.4.6.dist-info -> /usr/local/lib/python3.7/dist-packages/google_auth_oauthlib-0.4.6.dist-info\n",
            "lrwxrwxrwx 1 root root 77 Aug 23 08:43 /content/dist-packages/usr/local/lib/python3.8/dist-packages/google_cloud_bigquery-1.21.0.dist-info -> /usr/local/lib/python3.7/dist-packages/google_cloud_bigquery-1.21.0.dist-info\n",
            "lrwxrwxrwx 1 root root 83 Aug 23 08:43 /content/dist-packages/usr/local/lib/python3.8/dist-packages/google_cloud_bigquery-1.21.0-py3.6-nspkg.pth -> /usr/local/lib/python3.7/dist-packages/google_cloud_bigquery-1.21.0-py3.6-nspkg.pth\n",
            "lrwxrwxrwx 1 root root 84 Aug 23 08:43 /content/dist-packages/usr/local/lib/python3.8/dist-packages/google_cloud_bigquery_storage-1.1.2.dist-info -> /usr/local/lib/python3.7/dist-packages/google_cloud_bigquery_storage-1.1.2.dist-info\n",
            "lrwxrwxrwx 1 root root 91 Aug 23 08:43 /content/dist-packages/usr/local/lib/python3.8/dist-packages/google_cloud_bigquery_storage-1.1.2-py3.10-nspkg.pth -> /usr/local/lib/python3.7/dist-packages/google_cloud_bigquery_storage-1.1.2-py3.10-nspkg.pth\n",
            "lrwxrwxrwx 1 root root 72 Aug 23 08:43 /content/dist-packages/usr/local/lib/python3.8/dist-packages/google_cloud_core-1.0.3.dist-info -> /usr/local/lib/python3.7/dist-packages/google_cloud_core-1.0.3.dist-info\n",
            "lrwxrwxrwx 1 root root 78 Aug 23 08:43 /content/dist-packages/usr/local/lib/python3.8/dist-packages/google_cloud_core-1.0.3-py3.6-nspkg.pth -> /usr/local/lib/python3.7/dist-packages/google_cloud_core-1.0.3-py3.6-nspkg.pth\n",
            "lrwxrwxrwx 1 root root 77 Aug 23 08:43 /content/dist-packages/usr/local/lib/python3.8/dist-packages/google_cloud_datastore-1.8.0.dist-info -> /usr/local/lib/python3.7/dist-packages/google_cloud_datastore-1.8.0.dist-info\n",
            "lrwxrwxrwx 1 root root 83 Aug 23 08:43 /content/dist-packages/usr/local/lib/python3.8/dist-packages/google_cloud_datastore-1.8.0-py3.6-nspkg.pth -> /usr/local/lib/python3.7/dist-packages/google_cloud_datastore-1.8.0-py3.6-nspkg.pth\n",
            "lrwxrwxrwx 1 root root 77 Aug 23 08:43 /content/dist-packages/usr/local/lib/python3.8/dist-packages/google_cloud_firestore-1.7.0.dist-info -> /usr/local/lib/python3.7/dist-packages/google_cloud_firestore-1.7.0.dist-info\n",
            "lrwxrwxrwx 1 root root 83 Aug 23 08:43 /content/dist-packages/usr/local/lib/python3.8/dist-packages/google_cloud_firestore-1.7.0-py3.8-nspkg.pth -> /usr/local/lib/python3.7/dist-packages/google_cloud_firestore-1.7.0-py3.8-nspkg.pth\n",
            "lrwxrwxrwx 1 root root 76 Aug 23 08:43 /content/dist-packages/usr/local/lib/python3.8/dist-packages/google_cloud_language-1.2.0.dist-info -> /usr/local/lib/python3.7/dist-packages/google_cloud_language-1.2.0.dist-info\n",
            "lrwxrwxrwx 1 root root 82 Aug 23 08:43 /content/dist-packages/usr/local/lib/python3.8/dist-packages/google_cloud_language-1.2.0-py3.6-nspkg.pth -> /usr/local/lib/python3.7/dist-packages/google_cloud_language-1.2.0-py3.6-nspkg.pth\n",
            "lrwxrwxrwx 1 root root 76 Aug 23 08:43 /content/dist-packages/usr/local/lib/python3.8/dist-packages/google_cloud_storage-1.18.1.dist-info -> /usr/local/lib/python3.7/dist-packages/google_cloud_storage-1.18.1.dist-info\n",
            "lrwxrwxrwx 1 root root 82 Aug 23 08:43 /content/dist-packages/usr/local/lib/python3.8/dist-packages/google_cloud_storage-1.18.1-py3.7-nspkg.pth -> /usr/local/lib/python3.7/dist-packages/google_cloud_storage-1.18.1-py3.7-nspkg.pth\n",
            "lrwxrwxrwx 1 root root 77 Aug 23 08:43 /content/dist-packages/usr/local/lib/python3.8/dist-packages/google_cloud_translate-1.5.0.dist-info -> /usr/local/lib/python3.7/dist-packages/google_cloud_translate-1.5.0.dist-info\n",
            "lrwxrwxrwx 1 root root 83 Aug 23 08:43 /content/dist-packages/usr/local/lib/python3.8/dist-packages/google_cloud_translate-1.5.0-py3.6-nspkg.pth -> /usr/local/lib/python3.7/dist-packages/google_cloud_translate-1.5.0-py3.6-nspkg.pth\n",
            "lrwxrwxrwx 1 root root 67 Aug 23 08:43 /content/dist-packages/usr/local/lib/python3.8/dist-packages/google_colab-1.0.0.dist-info -> /usr/local/lib/python3.7/dist-packages/google_colab-1.0.0.dist-info\n",
            "lrwxrwxrwx 1 root root 73 Aug 23 08:43 /content/dist-packages/usr/local/lib/python3.8/dist-packages/google_colab-1.0.0-py3.7-nspkg.pth -> /usr/local/lib/python3.7/dist-packages/google_colab-1.0.0-py3.7-nspkg.pth\n",
            "lrwxrwxrwx 1 root root 62 Aug 23 08:43 /content/dist-packages/usr/local/lib/python3.8/dist-packages/google_drive_downloader -> /usr/local/lib/python3.7/dist-packages/google_drive_downloader\n",
            "lrwxrwxrwx 1 root root 74 Aug 23 08:43 /content/dist-packages/usr/local/lib/python3.8/dist-packages/googledrivedownloader-0.4.dist-info -> /usr/local/lib/python3.7/dist-packages/googledrivedownloader-0.4.dist-info\n",
            "lrwxrwxrwx 1 root root 67 Aug 23 08:43 /content/dist-packages/usr/local/lib/python3.8/dist-packages/google_pasta-0.2.0.dist-info -> /usr/local/lib/python3.7/dist-packages/google_pasta-0.2.0.dist-info\n",
            "lrwxrwxrwx 1 root root 77 Aug 23 08:43 /content/dist-packages/usr/local/lib/python3.8/dist-packages/google_resumable_media-0.4.1.dist-info -> /usr/local/lib/python3.7/dist-packages/google_resumable_media-0.4.1.dist-info\n",
            "lrwxrwxrwx 1 root root 83 Aug 23 08:43 /content/dist-packages/usr/local/lib/python3.8/dist-packages/google_resumable_media-0.4.1-py3.6-nspkg.pth -> /usr/local/lib/python3.7/dist-packages/google_resumable_media-0.4.1-py3.6-nspkg.pth\n",
            "lrwxrwxrwx 1 root root 51 Aug 23 08:43 /content/dist-packages/usr/local/lib/python3.8/dist-packages/googlesearch -> /usr/local/lib/python3.7/dist-packages/googlesearch\n"
          ]
        }
      ]
    },
    {
      "cell_type": "code",
      "source": [
        "!rm -fr /usr/local/lib/python3.8/dist-packages\n",
        "!sudo ln -s /content/dist-packages/usr/local/lib/python3.8/dist-packages /usr/local/lib/python3.8/"
      ],
      "metadata": {
        "id": "rn5zzi8lD-5s"
      },
      "execution_count": 7,
      "outputs": []
    },
    {
      "cell_type": "code",
      "source": [
        "!ls -la /usr/local/lib/python3.8/"
      ],
      "metadata": {
        "id": "hiVTeHrHEdmy"
      },
      "execution_count": null,
      "outputs": []
    },
    {
      "cell_type": "code",
      "source": [
        "!ls -la /usr/local/lib/python3.8/dist-packages/google*"
      ],
      "metadata": {
        "id": "fFJIFcknE74o"
      },
      "execution_count": null,
      "outputs": []
    },
    {
      "cell_type": "code",
      "source": [
        "# Step4 pythonインタプリタを3.8に変更する\n",
        "!printf \"python3.8再起動ステップその4\\n\"\n",
        "!sudo ln -sf `which python3.8` /etc/alternatives/python3\n",
        "!python --version"
      ],
      "metadata": {
        "colab": {
          "base_uri": "https://localhost:8080/"
        },
        "id": "RWU6-zjYFb8J",
        "outputId": "7a028eda-54db-4532-ba2c-99494e210d58"
      },
      "execution_count": 8,
      "outputs": [
        {
          "output_type": "stream",
          "name": "stdout",
          "text": [
            "python3.8再起動ステップその4\n",
            "Python 3.8.13\n"
          ]
        }
      ]
    },
    {
      "cell_type": "code",
      "source": [
        "# 5 3.8になったpythonでipkykernel実行し\"engbjapanpython3.8\"と名付けてランタイムを別にインストールします\n",
        "!printf \"python3.8再起動ステップその5 数分待つ\\n\"\n",
        "!sudo python -m ipykernel install --name \"engbjapanpython3.8\" --user"
      ],
      "metadata": {
        "colab": {
          "base_uri": "https://localhost:8080/"
        },
        "id": "Qj_G3XthFn_g",
        "outputId": "c96f7303-f149-43f0-e023-4f7e138709c9"
      },
      "execution_count": 9,
      "outputs": [
        {
          "output_type": "stream",
          "name": "stdout",
          "text": [
            "python3.8再起動ステップその5 数分待つ\n",
            "Installed kernelspec engbjapanpython3.8 in /root/.local/share/jupyter/kernels/engbjapanpython3.8\n"
          ]
        }
      ]
    },
    {
      "cell_type": "markdown",
      "source": [
        "\n",
        "***そしてColabメニュー＞ランタイム＞ランタイムのタイプ変更＞Python3.8で「保存」すると。再接続が始まればOK***\n",
        "\n",
        "![filelocal43ColabStoragePageTrypy38.ipynb - Colaboratory - Google Chrome 2022_08_23 18_25_47.png](data:image/png;base64,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)"
      ],
      "metadata": {
        "id": "GXKgoTxTB8Pq"
      }
    },
    {
      "cell_type": "markdown",
      "source": [
        "###これで、色々確認してエンジョイ！"
      ],
      "metadata": {
        "id": "b3nXj7805RWj"
      }
    },
    {
      "cell_type": "markdown",
      "source": [
        "####まずは、Colab上でのカーネルversion確認"
      ],
      "metadata": {
        "id": "cZRSTzc84z51"
      }
    },
    {
      "cell_type": "code",
      "source": [
        "import sys\n",
        "print(sys.version)"
      ],
      "metadata": {
        "colab": {
          "base_uri": "https://localhost:8080/"
        },
        "id": "pUzetAM85CXv",
        "outputId": "553fd553-5f3b-4811-c83d-c37f1e80ff76"
      },
      "execution_count": 3,
      "outputs": [
        {
          "output_type": "stream",
          "name": "stdout",
          "text": [
            "3.8.13 (default, Apr 19 2022, 00:53:22) \n",
            "[GCC 7.5.0]\n"
          ]
        }
      ]
    },
    {
      "cell_type": "markdown",
      "source": [
        "#### 代入式がColab上で出来る事"
      ],
      "metadata": {
        "id": "42z_-7YE4XYz"
      }
    },
    {
      "cell_type": "code",
      "source": [
        "(engbjapan := 10)\n",
        "print(engbjapan)"
      ],
      "metadata": {
        "colab": {
          "base_uri": "https://localhost:8080/"
        },
        "id": "tWPk9oeO4UQd",
        "outputId": "2a43c0cd-63d3-4c87-b130-6884738250e3"
      },
      "execution_count": 2,
      "outputs": [
        {
          "output_type": "stream",
          "name": "stdout",
          "text": [
            "10\n"
          ]
        }
      ]
    },
    {
      "cell_type": "markdown",
      "source": [
        "####なにはなくともNumpy使える？"
      ],
      "metadata": {
        "id": "a9dxkClw5n40"
      }
    },
    {
      "cell_type": "code",
      "source": [
        "import numpy as np\n",
        "print(x := np.arange(-3,3,0.1)) #－２～２まで0.1刻みの一次元配列作成し代入式でxに代入と同時にその結果を表示"
      ],
      "metadata": {
        "colab": {
          "base_uri": "https://localhost:8080/"
        },
        "id": "ixlS3WDB5yxc",
        "outputId": "7d03f989-6b7a-4bff-c400-358de089e3d4"
      },
      "execution_count": 17,
      "outputs": [
        {
          "output_type": "stream",
          "name": "stdout",
          "text": [
            "[-3.00000000e+00 -2.90000000e+00 -2.80000000e+00 -2.70000000e+00\n",
            " -2.60000000e+00 -2.50000000e+00 -2.40000000e+00 -2.30000000e+00\n",
            " -2.20000000e+00 -2.10000000e+00 -2.00000000e+00 -1.90000000e+00\n",
            " -1.80000000e+00 -1.70000000e+00 -1.60000000e+00 -1.50000000e+00\n",
            " -1.40000000e+00 -1.30000000e+00 -1.20000000e+00 -1.10000000e+00\n",
            " -1.00000000e+00 -9.00000000e-01 -8.00000000e-01 -7.00000000e-01\n",
            " -6.00000000e-01 -5.00000000e-01 -4.00000000e-01 -3.00000000e-01\n",
            " -2.00000000e-01 -1.00000000e-01  2.66453526e-15  1.00000000e-01\n",
            "  2.00000000e-01  3.00000000e-01  4.00000000e-01  5.00000000e-01\n",
            "  6.00000000e-01  7.00000000e-01  8.00000000e-01  9.00000000e-01\n",
            "  1.00000000e+00  1.10000000e+00  1.20000000e+00  1.30000000e+00\n",
            "  1.40000000e+00  1.50000000e+00  1.60000000e+00  1.70000000e+00\n",
            "  1.80000000e+00  1.90000000e+00  2.00000000e+00  2.10000000e+00\n",
            "  2.20000000e+00  2.30000000e+00  2.40000000e+00  2.50000000e+00\n",
            "  2.60000000e+00  2.70000000e+00  2.80000000e+00  2.90000000e+00]\n"
          ]
        }
      ]
    },
    {
      "cell_type": "markdown",
      "source": [
        "#####それをｘ軸としてmatplotibでsinWaveを書く"
      ],
      "metadata": {
        "id": "yzvFJ9w18E_i"
      }
    },
    {
      "cell_type": "code",
      "source": [
        "import matplotlib.pyplot as plt\n",
        "plt.plot(x, np.sin(x))   # 横軸をxとしてそのsinをｙ軸にしたグラフをプロットする\n",
        "plt.show()       # プロットしたグラフを画面に表示する\n",
        "#参照サイト http://www2.yukawa.kyoto-u.ac.jp/~koudai.sugimoto/dokuwiki/doku.php?id=python:matplotlib:%E5%9F%BA%E6%9C%AC%E7%9A%84%E3%81%AA%E4%BD%BF%E3%81%84%E6%96%B9"
      ],
      "metadata": {
        "colab": {
          "base_uri": "https://localhost:8080/",
          "height": 265
        },
        "id": "AURLiv7i7jIr",
        "outputId": "48498b29-d351-4f1c-e966-923afa4031a8"
      },
      "execution_count": 19,
      "outputs": [
        {
          "output_type": "display_data",
          "data": {
            "text/plain": [
              "<Figure size 432x288 with 1 Axes>"
            ],
            "image/png": "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\n"
          },
          "metadata": {
            "needs_background": "light"
          }
        }
      ]
    },
    {
      "cell_type": "markdown",
      "source": [
        "<hr>"
      ],
      "metadata": {
        "id": "quQifbA3OEQ_"
      }
    },
    {
      "cell_type": "markdown",
      "source": [
        "# preset手順（Colabの豊富なモジュールを生かしてPython3.8にし、消えないgoogleドライブに退避）\n",
        "\n",
        "**ColabランタイムをPython3.8にする為に、googleドライブにPython3.8としたライブラリ（モジュール）退避し、Python3.8をデフォルトpythonとしてColabランタイムを起動するステップを実行しましょう！**\n",
        "\n",
        "***これは一度実施すれば良いのです。***\n",
        "\n",
        "（これが最も時間を要するステップで、豊富なモジュールをpython3.8で使える用にしてgoogleドライブに退避する事が本編の最終目的です。このステップはColabの実行時間で約1時間半を要しました。。。）\n",
        "\n",
        "```python\n",
        "# 1 ここから#2までは一気に通して良いです\n",
        "!printf \"python3.8設定起動ステップその1\\n\"\n",
        "from google.colab import drive\n",
        "drive.mount('/content/drive')\n",
        "# 2 数分待つこと\n",
        "!printf \"python3.8設定起動ステップその2\\n\"\n",
        "!sudo apt-get -y install python3.8\n",
        "!sudo apt-get -y install python3.8-dev\n",
        "!sudo apt-get -y install python3-pip\n",
        "!sudo apt-get -y install python3.8-distutils\n",
        "############\n",
        "# 3 python3.8、pipのinstall確認\n",
        "!printf \"python3.8設定起動ステップその3\\n\"\n",
        "!python3.8 --version\n",
        "!pip --version\n",
        "############\n",
        "# 4 python3.8でpipで最低限のupgrade,CMake\n",
        "!printf \"python3.8設定起動ステップその4\\n\"\n",
        "!python3.8 -m pip install --upgrade setuptools\n",
        "!python3.8 -m pip install --upgrade pip\n",
        "!python3.8 -m pip install --upgrade distlib\n",
        "#!python3.8 -m pip install CMake\n",
        "!pip --version\n",
        "\n",
        "###########\n",
        "# 5 version指定してpipインストール（37のgoogle*を除いて）\n",
        "!printf \"python3.8設定起動ステップその5 有効と思われるversion指定をしたmoduleリストファイルからpipでインストール（google*を除いて）\\n\"\n",
        "!wget -O - -q https://engbjapan.github.io/Programming/Colab2py38/COlabpy37to38pipcmds.txt \\\n",
        " | egrep -v '^(google.*)$' \\\n",
        "  | perl -pe 's/^(.+)$/pip install ${1}/g' \\\n",
        "   | /bin/bash -\n",
        "!printf \"python3.8設定起動ステップその5 終了\\n\"\n",
        "############\n",
        "# 6 Python3.7のgoogle*モジュールをPython3.8/dist-packages にシムリンクで作成\n",
        "!printf \"python3.8設定起動ステップその6 Python3.7のgoogle*モジュールをPython3.8/dist-packages にシムリンクで作成\\n\"\n",
        "!ls -d /usr/local/lib/python3.7/dist-packages/google* \\\n",
        "  | perl -pe 's/^(.+)$/sudo ln -sf ${1} \\/usr\\/local\\/lib\\/python3.8\\/dist-packages\\//g' \\\n",
        "    |/bin/bash -\n",
        "!ls -la /usr/local/lib/python3.8/dist-packages/google*\n",
        "!printf \"python3.8設定起動ステップその6 終了\\n\"\n",
        "############\n",
        "# 7 /usr/local/lib/python3.8/dist-packages をtar gzする\n",
        "!printf \"python3.8設定起動ステップその7 tar,gzする\\n\"\n",
        "!tar cvzf p20220823_12_52_dist_packages.tar.gz /usr/local/lib/python3.8/dist-packages/\n",
        "!printf \"python3.8設定起動ステップその7 終了\\n\"\n",
        "## 8 googleドライブに退避\n",
        "!printf \"python3.8設定起動ステップその8 googleドライブに退避\\n\"\n",
        "!cp -v p20220823_12_52_dist_packages.tar.gz /content/drive/MyDrive/\n",
        "!printf \"python3.8設定起動ステップその8終了\\n\"\n",
        "```\n",
        "\n",
        "***「python3.8設定起動ステップその8終了」が出ていれば***\n",
        "***GoogleDriveの共有をコピーしたtar.gzにファイルにリンク共有を設定***\n",
        "\n",
        "***それからは「再セット手順」を実施してエンジョイする***\n"
      ],
      "metadata": {
        "id": "xr0TBU2d_fOf"
      }
    },
    {
      "cell_type": "code",
      "source": [
        "!printf \"python3.8設定起動ステップその1\\n\"\n",
        "\n",
        "from google.colab import drive\n",
        "drive.mount('/content/drive')\n",
        "\n",
        "# 2 数分待つこと\n",
        "!printf \"python3.8設定起動ステップその2\\n\"\n",
        "!sudo apt-get -y install python3.8\n",
        "!sudo apt-get -y install python3.8-dev\n",
        "!sudo apt-get -y install python3-pip\n",
        "!sudo apt-get -y install python3.8-distutils\n",
        "############\n",
        "# 3 python3.8、pipのinstall確認\n",
        "!printf \"python3.8設定起動ステップその3\\n\"\n",
        "!python3.8 --version\n",
        "!pip --version\n",
        "############\n",
        "# 4 python3.8でpipで最低限のupgrade,CMake\n",
        "!printf \"python3.8設定起動ステップその4\\n\"\n",
        "!python3.8 -m pip install --upgrade setuptools\n",
        "!python3.8 -m pip install --upgrade pip\n",
        "!python3.8 -m pip install --upgrade distlib\n",
        "# !python3.8 -m pip install CMake\n",
        "!pip --version"
      ],
      "metadata": {
        "colab": {
          "base_uri": "https://localhost:8080/"
        },
        "id": "L8BuVTwgqJlr",
        "outputId": "574251c8-90d9-4600-97f1-490c36cb80bd"
      },
      "execution_count": 1,
      "outputs": [
        {
          "output_type": "stream",
          "name": "stdout",
          "text": [
            "python3.8設定起動ステップその1\n",
            "Mounted at /content/drive\n",
            "python3.8設定起動ステップその2\n",
            "Reading package lists... Done\n",
            "Building dependency tree       \n",
            "Reading state information... Done\n",
            "The following package was automatically installed and is no longer required:\n",
            "  libnvidia-common-460\n",
            "Use 'sudo apt autoremove' to remove it.\n",
            "The following additional packages will be installed:\n",
            "  libpython3.8-minimal libpython3.8-stdlib python3.8-minimal\n",
            "Suggested packages:\n",
            "  python3.8-venv binfmt-support\n",
            "The following NEW packages will be installed:\n",
            "  libpython3.8-minimal libpython3.8-stdlib python3.8 python3.8-minimal\n",
            "0 upgraded, 4 newly installed, 0 to remove and 20 not upgraded.\n",
            "Need to get 4,691 kB of archives.\n",
            "After this operation, 18.5 MB of additional disk space will be used.\n",
            "Get:1 http://ppa.launchpad.net/deadsnakes/ppa/ubuntu bionic/main amd64 libpython3.8-minimal amd64 3.8.13-1+bionic2 [762 kB]\n",
            "Get:2 http://ppa.launchpad.net/deadsnakes/ppa/ubuntu bionic/main amd64 python3.8-minimal amd64 3.8.13-1+bionic2 [1,837 kB]\n",
            "Get:3 http://ppa.launchpad.net/deadsnakes/ppa/ubuntu bionic/main amd64 libpython3.8-stdlib amd64 3.8.13-1+bionic2 [1,657 kB]\n",
            "Get:4 http://ppa.launchpad.net/deadsnakes/ppa/ubuntu bionic/main amd64 python3.8 amd64 3.8.13-1+bionic2 [434 kB]\n",
            "Fetched 4,691 kB in 3s (1,554 kB/s)\n",
            "debconf: unable to initialize frontend: Dialog\n",
            "debconf: (No usable dialog-like program is installed, so the dialog based frontend cannot be used. at /usr/share/perl5/Debconf/FrontEnd/Dialog.pm line 76, <> line 4.)\n",
            "debconf: falling back to frontend: Readline\n",
            "debconf: unable to initialize frontend: Readline\n",
            "debconf: (This frontend requires a controlling tty.)\n",
            "debconf: falling back to frontend: Teletype\n",
            "dpkg-preconfigure: unable to re-open stdin: \n",
            "Selecting previously unselected package libpython3.8-minimal:amd64.\n",
            "(Reading database ... 155676 files and directories currently installed.)\n",
            "Preparing to unpack .../libpython3.8-minimal_3.8.13-1+bionic2_amd64.deb ...\n",
            "Unpacking libpython3.8-minimal:amd64 (3.8.13-1+bionic2) ...\n",
            "Selecting previously unselected package python3.8-minimal.\n",
            "Preparing to unpack .../python3.8-minimal_3.8.13-1+bionic2_amd64.deb ...\n",
            "Unpacking python3.8-minimal (3.8.13-1+bionic2) ...\n",
            "Selecting previously unselected package libpython3.8-stdlib:amd64.\n",
            "Preparing to unpack .../libpython3.8-stdlib_3.8.13-1+bionic2_amd64.deb ...\n",
            "Unpacking libpython3.8-stdlib:amd64 (3.8.13-1+bionic2) ...\n",
            "Selecting previously unselected package python3.8.\n",
            "Preparing to unpack .../python3.8_3.8.13-1+bionic2_amd64.deb ...\n",
            "Unpacking python3.8 (3.8.13-1+bionic2) ...\n",
            "Setting up libpython3.8-minimal:amd64 (3.8.13-1+bionic2) ...\n",
            "Setting up python3.8-minimal (3.8.13-1+bionic2) ...\n",
            "Setting up libpython3.8-stdlib:amd64 (3.8.13-1+bionic2) ...\n",
            "Setting up python3.8 (3.8.13-1+bionic2) ...\n",
            "Processing triggers for mime-support (3.60ubuntu1) ...\n",
            "Processing triggers for man-db (2.8.3-2ubuntu0.1) ...\n",
            "Reading package lists... Done\n",
            "Building dependency tree       \n",
            "Reading state information... Done\n",
            "The following package was automatically installed and is no longer required:\n",
            "  libnvidia-common-460\n",
            "Use 'sudo apt autoremove' to remove it.\n",
            "The following additional packages will be installed:\n",
            "  libpython3.8 libpython3.8-dev\n",
            "The following NEW packages will be installed:\n",
            "  libpython3.8 libpython3.8-dev python3.8-dev\n",
            "0 upgraded, 3 newly installed, 0 to remove and 20 not upgraded.\n",
            "Need to get 49.8 MB of archives.\n",
            "After this operation, 74.2 MB of additional disk space will be used.\n",
            "Get:1 http://ppa.launchpad.net/deadsnakes/ppa/ubuntu bionic/main amd64 libpython3.8 amd64 3.8.13-1+bionic2 [1,670 kB]\n",
            "Get:2 http://ppa.launchpad.net/deadsnakes/ppa/ubuntu bionic/main amd64 libpython3.8-dev amd64 3.8.13-1+bionic2 [47.6 MB]\n",
            "Get:3 http://ppa.launchpad.net/deadsnakes/ppa/ubuntu bionic/main amd64 python3.8-dev amd64 3.8.13-1+bionic2 [501 kB]\n",
            "Fetched 49.8 MB in 4s (11.4 MB/s)\n",
            "debconf: unable to initialize frontend: Dialog\n",
            "debconf: (No usable dialog-like program is installed, so the dialog based frontend cannot be used. at /usr/share/perl5/Debconf/FrontEnd/Dialog.pm line 76, <> line 3.)\n",
            "debconf: falling back to frontend: Readline\n",
            "debconf: unable to initialize frontend: Readline\n",
            "debconf: (This frontend requires a controlling tty.)\n",
            "debconf: falling back to frontend: Teletype\n",
            "dpkg-preconfigure: unable to re-open stdin: \n",
            "Selecting previously unselected package libpython3.8:amd64.\n",
            "(Reading database ... 156298 files and directories currently installed.)\n",
            "Preparing to unpack .../libpython3.8_3.8.13-1+bionic2_amd64.deb ...\n",
            "Unpacking libpython3.8:amd64 (3.8.13-1+bionic2) ...\n",
            "Selecting previously unselected package libpython3.8-dev:amd64.\n",
            "Preparing to unpack .../libpython3.8-dev_3.8.13-1+bionic2_amd64.deb ...\n",
            "Unpacking libpython3.8-dev:amd64 (3.8.13-1+bionic2) ...\n",
            "Selecting previously unselected package python3.8-dev.\n",
            "Preparing to unpack .../python3.8-dev_3.8.13-1+bionic2_amd64.deb ...\n",
            "Unpacking python3.8-dev (3.8.13-1+bionic2) ...\n",
            "Setting up libpython3.8:amd64 (3.8.13-1+bionic2) ...\n",
            "Setting up libpython3.8-dev:amd64 (3.8.13-1+bionic2) ...\n",
            "Setting up python3.8-dev (3.8.13-1+bionic2) ...\n",
            "Processing triggers for man-db (2.8.3-2ubuntu0.1) ...\n",
            "Reading package lists... Done\n",
            "Building dependency tree       \n",
            "Reading state information... Done\n",
            "The following package was automatically installed and is no longer required:\n",
            "  libnvidia-common-460\n",
            "Use 'sudo apt autoremove' to remove it.\n",
            "The following additional packages will be installed:\n",
            "  python-pip-whl python3-asn1crypto python3-cffi-backend python3-crypto\n",
            "  python3-cryptography python3-idna python3-keyring python3-keyrings.alt\n",
            "  python3-pkg-resources python3-secretstorage python3-setuptools python3-six\n",
            "  python3-wheel python3-xdg\n",
            "Suggested packages:\n",
            "  python-crypto-doc python-cryptography-doc python3-cryptography-vectors\n",
            "  gnome-keyring libkf5wallet-bin gir1.2-gnomekeyring-1.0\n",
            "  python-secretstorage-doc python-setuptools-doc\n",
            "The following NEW packages will be installed:\n",
            "  python-pip-whl python3-asn1crypto python3-cffi-backend python3-crypto\n",
            "  python3-cryptography python3-idna python3-keyring python3-keyrings.alt\n",
            "  python3-pip python3-pkg-resources python3-secretstorage python3-setuptools\n",
            "  python3-six python3-wheel python3-xdg\n",
            "0 upgraded, 15 newly installed, 0 to remove and 20 not upgraded.\n",
            "Need to get 2,882 kB of archives.\n",
            "After this operation, 8,886 kB of additional disk space will be used.\n",
            "Get:1 http://archive.ubuntu.com/ubuntu bionic-updates/universe amd64 python-pip-whl all 9.0.1-2.3~ubuntu1.18.04.5 [1,653 kB]\n",
            "Get:2 http://archive.ubuntu.com/ubuntu bionic/main amd64 python3-asn1crypto all 0.24.0-1 [72.8 kB]\n",
            "..........\n",
            "python3-distutils is already the newest version (3.6.9-1~18.04).\n",
            "python3-distutils set to manually installed.\n",
            "The following package was automatically installed and is no longer required:\n",
            "  libnvidia-common-460\n",
            "Use 'sudo apt autoremove' to remove it.\n",
            "0 upgraded, 0 newly installed, 0 to remove and 20 not upgraded.\n",
            "python3.8設定起動ステップその3\n",
            "Python 3.8.13\n",
            "pip 21.1.3 from /usr/local/lib/python3.7/dist-packages/pip (python 3.7)\n",
            "python3.8設定起動ステップその4\n",
            "Collecting setuptools\n",
            "  Downloading https://files.pythonhosted.org/packages/e5/6f/942e63ec2a5c881df147782b97dc4715ca082dec9de41f43e1013faef710/setuptools-65.2.0-py3-none-any.whl (1.2MB)\n",
            "\u001b[K    100% |████████████████████████████████| 1.2MB 910kB/s \n",
            "\u001b[?25hInstalling collected packages: setuptools\n",
            "  Found existing installation: setuptools 39.0.1\n",
            "    Not uninstalling setuptools at /usr/lib/python3/dist-packages, outside environment /usr\n",
            "Successfully installed setuptools-65.2.0\n",
            "Collecting pip\n",
            "  Downloading https://files.pythonhosted.org/packages/1f/2c/d9626f045e7b49a6225c6b09257861f24da78f4e5f23af2ddbdf852c99b8/pip-22.2.2-py3-none-any.whl (2.0MB)\n",
            "\u001b[K    100% |████████████████████████████████| 2.0MB 587kB/s \n",
            "\u001b[?25hInstalling collected packages: pip\n",
            "  Found existing installation: pip 9.0.1\n",
            "    Not uninstalling pip at /usr/lib/python3/dist-packages, outside environment /usr\n",
            "Successfully installed pip-22.2.2\n",
            "Looking in indexes: https://pypi.org/simple, https://us-python.pkg.dev/colab-wheels/public/simple/\n",
            "Collecting distlib\n",
            "  Downloading distlib-0.3.5-py2.py3-none-any.whl (466 kB)\n",
            "\u001b[2K     \u001b[90m━━━━━━━━━━━━━━━━━━━━━━━━━━━━━━━━━━━━━━\u001b[0m \u001b[32m467.0/467.0 kB\u001b[0m \u001b[31m10.2 MB/s\u001b[0m eta \u001b[36m0:00:00\u001b[0m\n",
            "\u001b[?25hInstalling collected packages: distlib\n",
            "Successfully installed distlib-0.3.5\n",
            "\u001b[33mWARNING: Running pip as the 'root' user can result in broken permissions and conflicting behaviour with the system package manager. It is recommended to use a virtual environment instead: https://pip.pypa.io/warnings/venv\u001b[0m\u001b[33m\n",
            "\u001b[0mpip 22.2.2 from /usr/local/lib/python3.8/dist-packages/pip (python 3.8)\n"
          ]
        }
      ]
    },
    {
      "cell_type": "code",
      "source": [
        "###########\n",
        "# 5 version指定してpipインストール（37のgoogle*を除いて）\n",
        "!printf \"python3.8設定起動ステップその5 有効と思われるversion指定をしたmoduleリストファイルからpipでインストール（google*を除いて）\\n\"\n",
        "!wget -O - -q https://engbjapan.github.io/Programming/Colab2py38/COlabpy37to38pipcmds.txt \\\n",
        " | egrep -v '^(google.*)$' \\\n",
        "  | perl -pe 's/^(.+)$/pip install  ${1}/g' \\\n",
        "   | /bin/bash -\n",
        "!printf \"python3.8設定起動ステップその5 終了\\n\"\n",
        "############\n",
        "# 6 Python3.7のgoogle*モジュールをPython3.8/dist-packages にシムリンクで作成\n",
        "!printf \"python3.8設定起動ステップその6 Python3.7のgoogle*モジュールをPython3.8/dist-packages にシムリンクで作成\\n\"\n",
        "!ls -d /usr/local/lib/python3.7/dist-packages/google* \\\n",
        "  | perl -pe 's/^(.+)$/sudo ln -sf ${1} \\/usr\\/local\\/lib\\/python3.8\\/dist-packages\\//g' \\\n",
        "    |/bin/bash -\n",
        "!ls -la /usr/local/lib/python3.8/dist-packages/google*\n",
        "!printf \"python3.8設定起動ステップその6 終了\\n\""
      ],
      "metadata": {
        "colab": {
          "base_uri": "https://localhost:8080/"
        },
        "id": "Gopddw39rzcx",
        "outputId": "aa57e24f-f7a8-440c-ba08-4d93c52c96da"
      },
      "execution_count": null,
      "outputs": [
        {
          "output_type": "stream",
          "name": "stdout",
          "text": [
            "python3.8設定起動ステップその5 有効と思われるversion指定をしたmoduleリストファイルからpipでインストール（google*を除いて）\n",
            "Looking in indexes: https://pypi.org/simple, https://us-python.pkg.dev/colab-wheels/public/simple/\n",
            "Collecting absl-py==1.2.0\n",
            "  Downloading absl_py-1.2.0-py3-none-any.whl (123 kB)\n",
            "\u001b[2K     \u001b[90m━━━━━━━━━━━━━━━━━━━━━━━━━━━━━━━━━━━━━━━\u001b[0m \u001b[32m123.4/123.4 kB\u001b[0m \u001b[31m4.8 MB/s\u001b[0m eta \u001b[36m0:00:00\u001b[0m\n",
            "\u001b[?25hInstalling collected packages: absl-py\n",
            "Successfully installed absl-py-1.2.0\n",
            "\u001b[33mWARNING: Running pip as the 'root' user can result in broken permissions and conflicting behaviour with the system package manager. It is recommended to use a virtual environment instead: https://pip.pypa.io/warnings/venv\u001b[0m\u001b[33m\n",
            "\u001b[0mLooking in indexes: https://pypi.org/simple, https://us-python.pkg.dev/colab-wheels/public/simple/\n",
            "Collecting aiohttp==3.8.1\n",
            "  Downloading aiohttp-3.8.1-cp38-cp38-manylinux_2_5_x86_64.manylinux1_x86_64.manylinux_2_12_x86_64.manylinux2010_x86_64.whl (1.3 MB)\n",
            "\u001b[2K     \u001b[90m━━━━━━━━━━━━━━━━━━━━━━━━━━━━━━━━━━━━━━━━\u001b[0m \u001b[32m1.3/1.3 MB\u001b[0m \u001b[31m19.6 MB/s\u001b[0m eta \u001b[36m0:00:00\u001b[0m\n",
            "\u001b[?25hCollecting attrs>=17.3.0\n",
            "  Downloading attrs-22.1.0-py2.py3-none-any.whl (58 kB)\n",
            "\u001b[2K     \u001b[90m━━━━━━━━━━━━━━━━━━━━━━━━━━━━━━━━━━━━━━━━\u001b[0m \u001b[32m58.8/58.8 kB\u001b[0m \u001b[31m7.6 MB/s\u001b[0m eta \u001b[36m0:00:00\u001b[0m\n",
            "\u001b[?25hCollecting charset-normalizer<3.0,>=2.0\n",
            "  Downloading charset_normalizer-2.1.1-py3-none-any.whl (39 kB)\n",
            "Collecting yarl<2.0,>=1.0\n",
            "  Downloading yarl-1.8.1-cp38-cp38-manylinux_2_17_x86_64.manylinux2014_x86_64.whl (262 kB)\n",
            "\u001b[2K     \u001b[90m━━━━━━━━━━━━━━━━━━━━━━━━━━━━━━━━━━━━━━\u001b[0m \u001b[32m262.1/262.1 kB\u001b[0m \u001b[31m27.8 MB/s\u001b[0m eta \u001b[36m0:00:00\u001b[0m\n",
            "\u001b[?25hCollecting aiosignal>=1.1.2\n",
            "  Downloading aiosignal-1.2.0-py3-none-any.whl (8.2 kB)\n",
            "Collecting multidict<7.0,>=4.5\n",
            "  Downloading multidict-6.0.2-cp38-cp38-manylinux_2_17_x86_64.manylinux2014_x86_64.whl (121 kB)\n",
            "\u001b[2K     \u001b[90m━━━━━━━━━━━━━━━━━━━━━━━━━━━━━━━━━━━━━━\u001b[0m \u001b[32m121.3/121.3 kB\u001b[0m \u001b[31m11.9 MB/s\u001b[0m eta \u001b[36m0:00:00\u001b[0m\n",
            "..........\n",
          ]
        }
      ]
    },
    {
      "cell_type": "code",
      "source": [
        "############\n",
        "# 7 /usr/local/lib/python3.8/dist-packages をtar gzする\n",
        "!printf \"python3.8設定起動ステップその7 tar,gzする\\n\"\n",
        "!tar cvzf p20220823_12_52_dist_packages.tar.gz /usr/local/lib/python3.8/dist-packages/\n",
        "!printf \"python3.8設定起動ステップその7 終了\\n\""
      ],
      "metadata": {
        "id": "qNkczIVg0laW"
      },
      "execution_count": null,
      "outputs": []
    },
    {
      "cell_type": "code",
      "source": [
        "## 8 googleドライブに退避\n",
        "!printf \"python3.8設定起動ステップその8 googleドライブに退避\\n\"\n",
        "!cp -v p20220823_12_52_dist_packages.tar.gz /content/drive/MyDrive/\n",
        "!printf \"python3.8設定起動ステップその8終了\\n\""
      ],
      "metadata": {
        "id": "eALOkfT6R_GD"
      },
      "execution_count": null,
      "outputs": []
    }
  ],
  "metadata": {
    "colab": {
      "collapsed_sections": [],
      "name": "filelocal43ColabStoragePageTrypy38.ipynb",
      "provenance": [],
      "toc_visible": true,
      "include_colab_link": true
    },
    "kernelspec": {
      "display_name": "Python 3.8",
      "name": "engbjapanpython3.8"
    },
    "gpuClass": "standard"
  },
  "nbformat": 4,
  "nbformat_minor": 0
}
