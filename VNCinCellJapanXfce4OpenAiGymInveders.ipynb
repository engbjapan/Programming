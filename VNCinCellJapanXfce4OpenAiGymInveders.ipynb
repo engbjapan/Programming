{
  "cells": [
    {
      "cell_type": "markdown",
      "metadata": {
        "id": "view-in-github",
        "colab_type": "text"
      },
      "source": [
        "<a href=\"https://colab.research.google.com/github/engbJapan/Programming/blob/main/VNCinCellJapanXfce4OpenAiGymInveders.ipynb\" target=\"_parent\"><img src=\"https://colab.research.google.com/assets/colab-badge.svg\" alt=\"Open In Colab\"/></a>"
      ]
    },
    {
      "cell_type": "markdown",
      "source": [
        "# ColabでVNCビューワをセル出力に出して、OpenAiGymのインベーダを表示したColabNoteBook:"
      ],
      "metadata": {
        "id": "_eF00JURBgu4"
      }
    },
    {
      "cell_type": "markdown",
      "source": [
        "実録、ノーカットキャプチャー動画は[こちら](https://youtu.be/racsbfupnNk)"
      ],
      "metadata": {
        "id": "xd1_FaaMfoR4"
      }
    },
    {
      "cell_type": "markdown",
      "source": [
        "## 一気にＮＯＶＮＣ（X11デスクトップ環境Viewer）表示まで実施する\n",
        "\n",
        "途中に、VNCのログインパスワードの入力があります\n",
        "\n",
        "手法は[Qiita](https://qiita.com/engbJapan/items/f39b2f927de290e6a65f)に投稿したものを纏めて、ＮＧＲＯＫトークンをコード内で設定しておく事もできるようにした。\n"
      ],
      "metadata": {
        "id": "XNfvq4gpEjo5"
      }
    },
    {
      "cell_type": "code",
      "source": [
        "#@title\n",
        "# 関数定義など開始\n",
        "import os as iＯＳ\n",
        "from IPython.display import clear_output as i出力クリア\n",
        "import portpicker as iポートピック\n",
        "#https://docs.python.org/ja/3/library/shlex.html#module-shlex\n",
        "from shlex import quote as i安全なシェル向けクオーティング\n",
        "from shlex import split as iクオーティングsplit\n",
        "from time import sleep as fスリーブ\n",
        "\n",
        "トークン=\"\" # NGROKの無料プラントークンコードを\"〜\"の中に貼り付けでOK\n",
        "\n",
        "システムコール=get_ipython().system_raw\n",
        "\n",
        "ワークディレクトリ=\"/content\"\n",
        "\n",
        "def 指定の変数の値を取得します(変数名):\n",
        "  return iＯＳ.environ[変数名]\n",
        "\n",
        "def 指定の変数の値を設定します(変数名,値):\n",
        "  iＯＳ.environ[変数名] = 値\n",
        "  return 指定の変数の値を取得します(変数名)\n",
        "\n",
        "def 環境変数にメッセージ出して入力を設定(\n",
        "      変数名\n",
        "      ,メッセージ=\"入れてください：\"\n",
        "      ,デホルト値指定=\"\"\n",
        "      ,ダメな文字列=\"\"):\n",
        "  環境変数名 = f\"ENGBJ_{変数名}\"\n",
        "  良い = False\n",
        "  while not 良い :\n",
        "    入力値 = i安全なシェル向けクオーティング(input(f\"{メッセージ}:\"))\n",
        "    指定の変数の値を設定します(\n",
        "        環境変数名\n",
        "      ,(入力値 if (  デホルト値指定 == \"\" or 入力値 != \"\" )  else デホルト値指定)\n",
        "    )\n",
        "    if (ダメな文字列!=\"\" and ダメな文字列==入力値):\n",
        "      print(\"それは入力してはいけません！もう一度！！\")\n",
        "      continue\n",
        "    良い = (input(\n",
        "          f\"{指定の変数の値を取得します(環境変数名)}　これで良いです？(y/n):\"\n",
        "            ) == \"y\")\n",
        "\n",
        "  return 指定の変数の値を取得します(環境変数名)\n",
        "# 関数定義など終了\n",
        "\n",
        "# 日本語化、時間も開始\n",
        "%cd {ワークディレクトリ}\n",
        "%pwd\n",
        "try:\n",
        "  open(f\"{ワークディレクトリ}/.env.root\",mode=\"r\").close()\n",
        "  print(\"\"\"\n",
        "  既に実行されています。\n",
        " !date  コマンド等で確認してください。\n",
        " 日本化していなければ、\n",
        "「ランタイムの接続解除して削除」でクリアーにしてリトライ下さい\n",
        "    \"\"\")\n",
        "except FileNotFoundError:\n",
        "  !bash <( wget -O - -qq https://engbjapan.github.io/Programming/TestG/IamJapanese.rc )\n",
        "  環境変数格納 = !cat /content/.env.root\n",
        "  for 個々の環境変数定義 in  環境変数格納 :\n",
        "    (変数名, 設定値) = 個々の環境変数定義.split(\"=\",maxsplit=1)\n",
        "    iＯＳ.environ[変数名]=f\"{設定値}\"\n",
        "\n",
        "i出力クリア(True)\n",
        "print(f\"{'※'*16}\")\n",
        "!env|sort\n",
        "!date\n",
        "# 日本語化、時間も終了\n",
        "\n",
        "\n",
        "#トークンを環境変数「ENGBJ_toke」と変数「トークン」に設定\n",
        "if トークン==\"\" :\n",
        "  トークン=環境変数にメッセージ出して入力を設定(\"token\",\"ＮＧＲＯＫのトークンをコピペ：\") \n",
        "else:\n",
        "  指定の変数の値を設定します(\"ENGBJ_token\",トークン)\n",
        "  \n",
        "print(\"モジュールのインストール開始\")\n",
        "!bash <( wget -O - -qq https://engbjapan.github.io/Programming/TestG/inst.rc ) #ググマーク対策\n",
        "## Xfce4デスクトップへ変更\n",
        "!apt -qq install xfce4 \n",
        "print(\"モジュールのインストール終了\")\n",
        "\n",
        "i出力クリア(True)\n",
        "\n",
        "print(f\"ＶＮＣパスワード等設定 {ワークディレクトリ}/passwd にパスファイルを作成します\")\n",
        "print(f\"パスワード二回入力後に「n」で終えてください\")\n",
        "!bash  <( wget -O - -qq https://engbjapan.github.io/Programming/TestG/inst2.rc )\n",
        "print(\"ＶＮＣパスワード等設定終了\")\n",
        "\n",
        "i出力クリア(True)\n",
        "\n",
        "# ＮＧＲＯＫのＤＬと解凍\n",
        "print(\"ＮＧＲＯＫのＤＬと解凍\")\n",
        "%cd {ワークディレクトリ}\n",
        "!wget -qq https://bin.equinox.io/c/bNyj1mQVY4c/ngrok-v3-stable-linux-amd64.tgz\n",
        "!rm -f ./ngrok\n",
        "!tar xzvf ./ngrok-v3-stable-linux-amd64.tgz\n",
        "!rm -f ./ngrok-v3-stable-linux-amd64.tgz\n",
        "print(\"ＮＧＲＯＫのＤＬと解凍終了\")\n",
        "\n",
        "\n",
        "# 環境変数整備\n",
        "print(\"環境変数整備\")\n",
        "指定の変数の値を設定します(\"DISPLAY\",\":99.0\") # XappのDISPLAYをＴｉｇｅｒＶＮＣのディスプレイにする\n",
        "内部ＷＥＢＳＯＣＫＩＦＹ用ポート = iポートピック.pick_unused_port()\n",
        "指定の変数の値を設定します(\"ENGBJ_WWWPort\",str(内部ＷＥＢＳＯＣＫＩＦＹ用ポート)) # XappのDISPLAYをＴｉｇｅｒＶＮＣのディスプレイにする\n",
        "print(\"環境変数整備終了\")\n",
        "print(f\"内部ＷＥＢＳＯＣＫＩＦＹ用ポート:{内部ＷＥＢＳＯＣＫＩＦＹ用ポート}\")\n",
        "!env|sort > $ワークディレクトリ/.env.run\n",
        "print(f\"\"\"\n",
        "以下にここまでの環境変数を退避\n",
        "{ワークディレクトリ}/.env.run\n",
        "\"\"\")\n",
        "\n",
        "# サーバー起動開始\n",
        "print(\"ＶＮＣサーバとＷｅｂＳｏｃｋｉｆｙ切る\")\n",
        "!vncserver -kill :99\n",
        "!killall websockify\n",
        "print(\"ＶＮＣサーバとＷｅｂＳｏｃｋｉｆｙ切る終了\")\n",
        "print(\"ＴｉｇｅｒＶＮＣサーバー起動\")\n",
        "#システムコール(f\"vncserver --PasswordFile {ワークディレクトリ}/passwd -localhost yes -xstartup `which fluxbox` -geometry 900x600 :99\")\n",
        "## Xfce4デスクトップへ変更\n",
        "システムコール(f\"vncserver --PasswordFile {ワークディレクトリ}/passwd -localhost yes -xstartup `which xfce4-session` -geometry 900x600 :99\")\n",
        "print(\"ＴｉｇｅｒＶＮＣサーバー起動終了\")\n",
        "fスリーブ(3.0)\n",
        "print(\"ＷｅｂＳｏｃｋｉｆｙ起動\")\n",
        "システムコール(f\"websockify -D --web=/usr/share/novnc/  {内部ＷＥＢＳＯＣＫＩＦＹ用ポート} localhost:5999\")\n",
        "print(\"ＷｅｂＳｏｃｋｉｆｙ起動終了\")\n",
        "print(f\"内部ＷＥＢＳＯＣＫＩＦＹ用ポート={内部ＷＥＢＳＯＣＫＩＦＹ用ポート}\")\n",
        "\n",
        "i出力クリア(True)\n",
        "\n",
        "# ＮＧＲＯＫ起動とトンネル情報取得\n",
        "!bash <( wget -O - -qq https://engbjapan.github.io/Programming/TestG/tonne.rc)\n",
        "print(\"定義したすべてのトンネルを起動\")\n",
        "システムコール(f\"{ワークディレクトリ}/ngrok start --all --config {ワークディレクトリ}/grocky.yml &\")\n",
        "fスリーブ(3.0)\n",
        "print(f\"\"\"Gets tunnel-paplica by the way Agent API request.\n",
        "＊＊＊ここで先に進まない場合はＮＧＲＯＫのセッションリミットが超えています(フリープランは１トンネルセッションです！)＊＊＊\n",
        "これは、Colabのブラウザを急に閉じた場合,ＮＯＶＮＣを切らなかった場合etcにおいて、\n",
        "時間を待たず実行したなどが考えられます、今の所待つしかないのかな。。。。\n",
        "\"\"\")\n",
        "ＮＧＲＯＫホスト出力= !wget -O - -qq http://localhost:4040/api/tunnels  | perl -pe 's/^.+(public_url)[^h]+(https:[^\"]+).+$/${2}/g' \n",
        "ＮＧＲＯＫホスト名=ＮＧＲＯＫホスト出力[0]\n",
        "i出力クリア(True)\n",
        "\n",
        "print(f\"\"\"\n",
        "間もなくIFRAMEとしてＮＯＶＮＣへの接続画面が開きます!!\n",
        "\n",
        "ＮＧＲＯＫのサイト訪問画面が出たら「Vist」してください。\n",
        "この中でやる分には、Colabの利用ポリシーに反しません（不特定多数への公開行為ではないためです）\n",
        "****************************************************************************************\n",
        "①ＮＧＲＯＫホスト/vnc.html　(emmbeded IFRAME by Google.Colab Method)\n",
        "②Colab内の{内部ＷＥＢＳＯＣＫＩＦＹ用ポート}ポート⇔Ｗｅｂｓｏｃｋｆｙ⇄ＮＯＶＮＣ(HTML5,CSS）\n",
        "                              ↘ＴｉｇｅｒＶＮＣサーバー（Colab内の5999ポート）\n",
        "                                    ⇔X11-unix/X99ソケット\n",
        "                                      ⇔DIAPLAY環境変数\n",
        "                                        ⇔X11-Windowプラットフォーム\n",
        "                                            ⇔Linuxグラフィックスアプリケーション\n",
        "\"\"\")\n",
        "fスリーブ(3.0)\n",
        "\n",
        "#ＮＯＶＮＣ表示\n",
        "from google.colab import output\n",
        "output.serve_kernel_port_as_iframe(\n",
        "    port=内部ＷＥＢＳＯＣＫＩＦＹ用ポート\n",
        "    ,path=f\"{ＮＧＲＯＫホスト名}/vnc.html\"\n",
        "    ,height=700,cache_in_notebook=False) #このportはwebsockifyのポートでこれが、ＮＯＶＮＣのWebサーブしＶＮＣへのプロキシをする。\n"
      ],
      "metadata": {
        "id": "0yo9CB_xEhBs",
        "colab": {
          "base_uri": "https://localhost:8080/",
          "height": 909
        },
        "outputId": "b0bf8967-3f36-4cae-a0fc-da95ab0e3819",
        "cellView": "form"
      },
      "execution_count": 1,
      "outputs": [
        {
          "output_type": "stream",
          "name": "stdout",
          "text": [
            "\n",
            "間もなくIFRAMEとしてＮＯＶＮＣへの接続画面が開きます!!\n",
            "\n",
            "ＮＧＲＯＫのサイト訪問画面が出たら「Vist」してください。\n",
            "この中でやる分には、Colabの利用ポリシーに反しません（不特定多数への公開行為ではないためです）\n",
            "****************************************************************************************\n",
            "①ＮＧＲＯＫホスト/vnc.html　(emmbeded IFRAME by Google.Colab Method)\n",
            "②Colab内の20846ポート⇔Ｗｅｂｓｏｃｋｆｙ⇄ＮＯＶＮＣ(HTML5,CSS）\n",
            "                              ↘ＴｉｇｅｒＶＮＣサーバー（Colab内の5999ポート）\n",
            "\n"
          ]
        },
        {
          "output_type": "display_data",
          "data": {
            "text/plain": [
              "<IPython.core.display.Javascript object>"
            ],
            "application/javascript": [
              "(async (port, path, width, height, cache, element) => {\n",
              "    if (!google.colab.kernel.accessAllowed && !cache) {\n",
              "      return;\n",
              "    }\n",
              "    element.appendChild(document.createTextNode(''));\n",
              "    const url = await google.colab.kernel.proxyPort(port, {cache});\n",
              "    const iframe = document.createElement('iframe');\n",
              "    iframe.src = new URL(path, url).toString();\n",
              "    iframe.height = height;\n",
              "    iframe.width = width;\n",
              "    iframe.style.border = 0;\n",
              "    element.appendChild(iframe);\n",
              "  })(20846, \"https://bd7e-35-229-28-214.ngrok.io/vnc.html\", \"100%\", 700, false, window.element)"
            ]
          },
          "metadata": {}
        }
      ]
    },
    {
      "cell_type": "markdown",
      "source": [
        "\n",
        "---\n",
        "\n"
      ],
      "metadata": {
        "id": "97bNkA32dEWd"
      }
    },
    {
      "cell_type": "markdown",
      "source": [
        "## Colabセル内のＮＯＶＮＣデスクトップにアーケードゲームをALEとAutoROMで実装して愉しむ\n",
        "\n",
        "参照：\n",
        "https://brosa.ca/blog/ale-release-v0.7"
      ],
      "metadata": {
        "id": "oAnRtb_ubyio"
      }
    },
    {
      "cell_type": "markdown",
      "source": [
        "### パッケージとゲームROMのインストール（一度だけでいいです）"
      ],
      "metadata": {
        "id": "0mLKWdxzckDe"
      }
    },
    {
      "cell_type": "code",
      "source": [
        "#@title\n",
        "!pip install ale-py -qq\n",
        "!pip install autorom -qq\n",
        "!AutoROM \n",
        "!ale-import-roms /usr/local/lib/python3.7/dist-packages/AutoROM/roms/\n",
        "from IPython.display import clear_output\n",
        "clear_output(True)"
      ],
      "metadata": {
        "id": "FtXs2pSwRR5N",
        "cellView": "form"
      },
      "execution_count": null,
      "outputs": []
    },
    {
      "cell_type": "markdown",
      "source": [
        "### 実行コード %%python セルマジック内で記載することでALE系のWindowが閉じない件の対策となる"
      ],
      "metadata": {
        "id": "t8uyZI37czTl"
      }
    },
    {
      "cell_type": "code",
      "source": [
        "%%python3\n",
        "#参照 https://brosa.ca/blog/ale-release-v0.7\n",
        "import os\n",
        "os.environ[\"ALE_PY_ROM_DIR\"]=\"/usr/local/lib/python3.7/dist-packages/AutoROM/roms/\"\n",
        "import gym\n",
        "import time\n",
        "new_step_api=True\n",
        "env = gym.make(\n",
        "#    'ALE/Breakout-v5',\n",
        "    'ALE/SpaceInvaders-v5',\n",
        "    obs_type='rgb',                   # ram | rgb | grayscale\n",
        "    frameskip=2,                      # frame skip\n",
        "    mode=None,                        # game mode, see Machado et al. 2018\n",
        "    difficulty=None,                  # game difficulty, see Machado et al. 2018\n",
        "    repeat_action_probability=0.25,   # Sticky action probability\n",
        "    full_action_space=False,          # Use all actions\n",
        "    render_mode=\"human\"                  # None | human | rgb_array\n",
        ")\n",
        "env.reset()\n",
        "for t in range(10000): \n",
        "        #env.render() ALE-v0.7にてSDL≒X11環境下では非推奨\n",
        "        action = env.action_space.sample()    # ランダム方策\n",
        "        done = env.step(action)[2]    # この環境のStepは５個のタプルを返すので２番めを終了フラグとして取り込む\n",
        "        time.sleep(0.1)       \n",
        "        if done:\n",
        "            print(\"Episode finished after {} timesteps\\n\".format(t+1))\n",
        "            env.reset()\n",
        "            break\n",
        "\n",
        "env.close() #'ALE/SpaceInvaders-v5'では、\n",
        "#これをやっても何もなされない為にWindowが残り、再試行でクラッシュした。\n",
        "#なので、%%python3 セルマジック内でコードした\n",
        "exit(0)"
      ],
      "metadata": {
        "id": "dM6rEJznYrF9",
        "colab": {
          "base_uri": "https://localhost:8080/"
        },
        "outputId": "cab8965d-bb98-4dea-aad5-a401ec0eda2b"
      },
      "execution_count": 4,
      "outputs": [
        {
          "output_type": "stream",
          "name": "stdout",
          "text": [
            "Episode finished after 1141 timesteps\n",
            "\n"
          ]
        },
        {
          "output_type": "stream",
          "name": "stderr",
          "text": [
            "A.L.E: Arcade Learning Environment (version 0.8.0+919230b)\n",
            "[Powered by Stella]\n",
            "/usr/local/lib/python3.7/dist-packages/gym/core.py:318: DeprecationWarning: \u001b[33mWARN: Initializing wrapper in old step API which returns one bool instead of two. It is recommended to set `new_step_api=True` to use new step API. This will be the default behaviour in future.\u001b[0m\n",
            "  \"Initializing wrapper in old step API which returns one bool instead of two. It is recommended to set `new_step_api=True` to use new step API. This will be the default behaviour in future.\"\n",
            "/usr/local/lib/python3.7/dist-packages/gym/wrappers/step_api_compatibility.py:40: DeprecationWarning: \u001b[33mWARN: Initializing environment in old step API which returns one bool instead of two. It is recommended to set `new_step_api=True` to use new step API. This will be the default behaviour in future.\u001b[0m\n",
            "  \"Initializing environment in old step API which returns one bool instead of two. It is recommended to set `new_step_api=True` to use new step API. This will be the default behaviour in future.\"\n",
            "/usr/local/lib/python3.7/dist-packages/gym/utils/passive_env_checker.py:191: UserWarning: \u001b[33mWARN: Future gym versions will require that `Env.reset` can be passed `return_info` to return information from the environment resetting.\u001b[0m\n",
            "  \"Future gym versions will require that `Env.reset` can be passed `return_info` to return information from the environment resetting.\"\n",
            "/usr/local/lib/python3.7/dist-packages/gym/utils/passive_env_checker.py:138: UserWarning: \u001b[33mWARN: The obs returned by the `reset()` method was expecting a numpy array, actual type: <class 'tuple'>\u001b[0m\n",
            "  f\"{pre} was expecting a numpy array, actual type: {type(obs)}\"\n",
            "/usr/local/lib/python3.7/dist-packages/gym/spaces/box.py:226: UserWarning: \u001b[33mWARN: Casting input x to numpy array.\u001b[0m\n",
            "  logger.warn(\"Casting input x to numpy array.\")\n",
            "/usr/local/lib/python3.7/dist-packages/gym/utils/passive_env_checker.py:167: UserWarning: \u001b[33mWARN: The obs returned by the `reset()` method is not within the observation space with exception: setting an array element with a sequence. The requested array has an inhomogeneous shape after 1 dimensions. The detected shape was (2,) + inhomogeneous part.\u001b[0m\n",
            "  logger.warn(f\"{pre} is not within the observation space with exception: {e}\")\n"
          ]
        }
      ]
    },
    {
      "cell_type": "markdown",
      "source": [
        "\n",
        "\n",
        "---\n",
        "\n"
      ],
      "metadata": {
        "id": "etpAu5MrGM6V"
      }
    },
    {
      "cell_type": "markdown",
      "source": [
        "## 月面着陸してみる"
      ],
      "metadata": {
        "id": "A_7yBMFS69M4"
      }
    },
    {
      "cell_type": "code",
      "source": [
        "#@title\n",
        "#ref https://notebook.community/PyDataOkinawa/meetup021/3_openai_gym/01_openai_gym_introduction\n",
        "%pip install gym[box2d] -qq\n",
        "import gym\n",
        "import time\n",
        "new_step_api=True\n",
        "env = gym.make('LunarLander-v2')#,render_mode=\"human\")\n",
        "#ref https://www.gymlibrary.dev/environments/atari/space_invaders/\n",
        "for i_episode in range(10):    # 10エピソード回す\n",
        "    observation = env.reset()    # 環境を初期化し、最初の観測を得る。\n",
        "\n",
        "    for t in range(100):    # 各エピソードの最大ステップ数は100\n",
        "        #env.render(mode=\"human\")\n",
        "        env.render()\n",
        "        action = env.action_space.sample()    # ランダム方策\n",
        "        done = env.step(action)[2]    # 選択行動の実行\n",
        "        time.sleep(0.1)       \n",
        "        if done:\n",
        "            print(\"Episode finished after {} timesteps\\n\".format(t+1))\n",
        "            break\n",
        "env.close()"
      ],
      "metadata": {
        "id": "vElyQGfG6MkL",
        "cellView": "form"
      },
      "execution_count": null,
      "outputs": []
    },
    {
      "cell_type": "markdown",
      "source": [
        "### ランタイムクラッシュ後の再試行はここから\n",
        "\n",
        "尚、%%pythonセルマジック内で実行するなら問題なし"
      ],
      "metadata": {
        "id": "NQgkTKxyq3Ko"
      }
    },
    {
      "cell_type": "code",
      "source": [
        "#@title\n",
        "#ランタイムクラッシュ後の再試行はここから%%pythonセルマジック内で実行するなら問題なし\n",
        "import os\n",
        "環境変数格納 = !cat /content/.env.run\n",
        "for 個々の環境変数定義 in  環境変数格納 :\n",
        "    (変数名, 設定値) = 個々の環境変数定義.split(\"=\",maxsplit=1)\n",
        "    os.environ[変数名]=f\"{設定値}\"\n",
        "#os.environ[\"DISPLAY\"]=\":99.0\" "
      ],
      "metadata": {
        "cellView": "form",
        "id": "-2UjWyHzlNvZ"
      },
      "execution_count": null,
      "outputs": []
    },
    {
      "cell_type": "markdown",
      "source": [
        "\n",
        "\n",
        "---\n",
        "\n"
      ],
      "metadata": {
        "id": "EMeiPIm5GKCO"
      }
    },
    {
      "cell_type": "markdown",
      "source": [
        "\n",
        "\n",
        "---\n",
        "\n"
      ],
      "metadata": {
        "id": "EKNfcu-zdWDz"
      }
    },
    {
      "cell_type": "markdown",
      "source": [
        "### 別窓リンク表示"
      ],
      "metadata": {
        "id": "eRxxwcTOIB2n"
      }
    },
    {
      "cell_type": "code",
      "source": [
        "#@title\n",
        "# 別窓表示\n",
        "print(f\"\"\"\n",
        "別窓で開く場合はこちらをクリック。\n",
        "アクセス警告が出ますが。。。\n",
        "{ＮＧＲＯＫホスト名}\n",
        "\"\"\")"
      ],
      "metadata": {
        "id": "Wmg2S_KtzKQM",
        "cellView": "form"
      },
      "execution_count": null,
      "outputs": []
    },
    {
      "cell_type": "markdown",
      "source": [
        "### xeyes,Xtermを起動してみる"
      ],
      "metadata": {
        "id": "L9f8bLOER4L7"
      }
    },
    {
      "cell_type": "code",
      "source": [
        "#@title\n",
        "システムコール(\"xeyes &\") \n",
        "システムコール(\"aterm-xterm &\")  "
      ],
      "metadata": {
        "id": "jyoju5Hn3LLh",
        "cellView": "form"
      },
      "execution_count": null,
      "outputs": []
    },
    {
      "cell_type": "markdown",
      "source": [
        "\n",
        "\n",
        "---\n",
        "\n"
      ],
      "metadata": {
        "id": "5zlj2B5vKHOx"
      }
    }
  ],
  "metadata": {
    "colab": {
      "collapsed_sections": [],
      "provenance": [],
      "include_colab_link": true
    },
    "kernelspec": {
      "display_name": "Python 3",
      "name": "python3"
    },
    "language_info": {
      "name": "python"
    }
  },
  "nbformat": 4,
  "nbformat_minor": 0
}